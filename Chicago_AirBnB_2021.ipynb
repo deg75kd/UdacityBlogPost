{
 "cells": [
  {
   "cell_type": "markdown",
   "metadata": {},
   "source": [
    "# AirBnB Chicago Data"
   ]
  },
  {
   "cell_type": "markdown",
   "metadata": {},
   "source": [
    "Possible questions:\n",
    "1. What are the most and least expensive neighborhoods?\n",
    "2. Do small businesses have better ratings than hosts with a single property?\n",
    "1. Can we predict price from other features?"
   ]
  },
  {
   "cell_type": "markdown",
   "metadata": {},
   "source": [
    "## Import Data"
   ]
  },
  {
   "cell_type": "code",
   "execution_count": 508,
   "metadata": {
    "scrolled": false
   },
   "outputs": [],
   "source": [
    "import numpy as np\n",
    "import pandas as pd\n",
    "import datetime\n",
    "import math\n",
    "import matplotlib.pyplot as plt\n",
    "%matplotlib inline"
   ]
  },
  {
   "cell_type": "code",
   "execution_count": 509,
   "metadata": {
    "scrolled": false
   },
   "outputs": [
    {
     "name": "stderr",
     "output_type": "stream",
     "text": [
      "C:\\Users\\Kevin\\anaconda3\\lib\\site-packages\\IPython\\core\\interactiveshell.py:3146: DtypeWarning: Columns (61,62) have mixed types.Specify dtype option on import or set low_memory=False.\n",
      "  has_raised = await self.run_ast_nodes(code_ast.body, cell_name,\n"
     ]
    },
    {
     "data": {
      "text/html": [
       "<div>\n",
       "<style scoped>\n",
       "    .dataframe tbody tr th:only-of-type {\n",
       "        vertical-align: middle;\n",
       "    }\n",
       "\n",
       "    .dataframe tbody tr th {\n",
       "        vertical-align: top;\n",
       "    }\n",
       "\n",
       "    .dataframe thead th {\n",
       "        text-align: right;\n",
       "    }\n",
       "</style>\n",
       "<table border=\"1\" class=\"dataframe\">\n",
       "  <thead>\n",
       "    <tr style=\"text-align: right;\">\n",
       "      <th></th>\n",
       "      <th>id</th>\n",
       "      <th>listing_url</th>\n",
       "      <th>scrape_id</th>\n",
       "      <th>last_scraped</th>\n",
       "      <th>name</th>\n",
       "      <th>summary</th>\n",
       "      <th>space</th>\n",
       "      <th>description</th>\n",
       "      <th>experiences_offered</th>\n",
       "      <th>neighborhood_overview</th>\n",
       "      <th>...</th>\n",
       "      <th>instant_bookable</th>\n",
       "      <th>is_business_travel_ready</th>\n",
       "      <th>cancellation_policy</th>\n",
       "      <th>require_guest_profile_picture</th>\n",
       "      <th>require_guest_phone_verification</th>\n",
       "      <th>calculated_host_listings_count</th>\n",
       "      <th>calculated_host_listings_count_entire_homes</th>\n",
       "      <th>calculated_host_listings_count_private_rooms</th>\n",
       "      <th>calculated_host_listings_count_shared_rooms</th>\n",
       "      <th>reviews_per_month</th>\n",
       "    </tr>\n",
       "  </thead>\n",
       "  <tbody>\n",
       "    <tr>\n",
       "      <th>0</th>\n",
       "      <td>2384</td>\n",
       "      <td>https://www.airbnb.com/rooms/2384</td>\n",
       "      <td>20191121092422</td>\n",
       "      <td>2019-11-21</td>\n",
       "      <td>Walk to UChicago, 10 min train to McCormick Place</td>\n",
       "      <td>Visiting The University of Chicago or attendin...</td>\n",
       "      <td>The private bedroom has a queen size bed, beds...</td>\n",
       "      <td>Visiting The University of Chicago or attendin...</td>\n",
       "      <td>none</td>\n",
       "      <td>My apartment is one block from beautiful Jacks...</td>\n",
       "      <td>...</td>\n",
       "      <td>f</td>\n",
       "      <td>f</td>\n",
       "      <td>strict_14_with_grace_period</td>\n",
       "      <td>f</td>\n",
       "      <td>f</td>\n",
       "      <td>1</td>\n",
       "      <td>0</td>\n",
       "      <td>1</td>\n",
       "      <td>0</td>\n",
       "      <td>2.97</td>\n",
       "    </tr>\n",
       "    <tr>\n",
       "      <th>1</th>\n",
       "      <td>4505</td>\n",
       "      <td>https://www.airbnb.com/rooms/4505</td>\n",
       "      <td>20191121092422</td>\n",
       "      <td>2019-11-21</td>\n",
       "      <td>One Great Apartment. 384 Great Reviews. 1 Bad ...</td>\n",
       "      <td>We took the winter off, made things nicer arou...</td>\n",
       "      <td>We travel a lot, we know what people need.  We...</td>\n",
       "      <td>We took the winter off, made things nicer arou...</td>\n",
       "      <td>none</td>\n",
       "      <td>NaN</td>\n",
       "      <td>...</td>\n",
       "      <td>t</td>\n",
       "      <td>f</td>\n",
       "      <td>moderate</td>\n",
       "      <td>f</td>\n",
       "      <td>f</td>\n",
       "      <td>1</td>\n",
       "      <td>1</td>\n",
       "      <td>0</td>\n",
       "      <td>0</td>\n",
       "      <td>2.99</td>\n",
       "    </tr>\n",
       "    <tr>\n",
       "      <th>2</th>\n",
       "      <td>7126</td>\n",
       "      <td>https://www.airbnb.com/rooms/7126</td>\n",
       "      <td>20191121092422</td>\n",
       "      <td>2019-11-21</td>\n",
       "      <td>Tiny Studio Apartment 94 Walk Score</td>\n",
       "      <td>A very small studio in a wonderful neighborhood.</td>\n",
       "      <td>This is a very small  studio apartment with a ...</td>\n",
       "      <td>A very small studio in a wonderful neighborhoo...</td>\n",
       "      <td>none</td>\n",
       "      <td>Ukrainian Village was just named \"Hottest Neig...</td>\n",
       "      <td>...</td>\n",
       "      <td>f</td>\n",
       "      <td>f</td>\n",
       "      <td>moderate</td>\n",
       "      <td>f</td>\n",
       "      <td>f</td>\n",
       "      <td>1</td>\n",
       "      <td>1</td>\n",
       "      <td>0</td>\n",
       "      <td>0</td>\n",
       "      <td>2.93</td>\n",
       "    </tr>\n",
       "    <tr>\n",
       "      <th>3</th>\n",
       "      <td>9811</td>\n",
       "      <td>https://www.airbnb.com/rooms/9811</td>\n",
       "      <td>20191121092422</td>\n",
       "      <td>2019-11-21</td>\n",
       "      <td>Barbara's Hideaway - Old Town</td>\n",
       "      <td>One-bedroom hideaway tucked into Old Town step...</td>\n",
       "      <td>This lovely one bedroom \"hideaway\" is located ...</td>\n",
       "      <td>One-bedroom hideaway tucked into Old Town step...</td>\n",
       "      <td>none</td>\n",
       "      <td>Chicago’s Old Town neighborhood is squeezed be...</td>\n",
       "      <td>...</td>\n",
       "      <td>t</td>\n",
       "      <td>f</td>\n",
       "      <td>strict_14_with_grace_period</td>\n",
       "      <td>f</td>\n",
       "      <td>f</td>\n",
       "      <td>11</td>\n",
       "      <td>11</td>\n",
       "      <td>0</td>\n",
       "      <td>0</td>\n",
       "      <td>0.72</td>\n",
       "    </tr>\n",
       "    <tr>\n",
       "      <th>4</th>\n",
       "      <td>10610</td>\n",
       "      <td>https://www.airbnb.com/rooms/10610</td>\n",
       "      <td>20191121092422</td>\n",
       "      <td>2019-11-21</td>\n",
       "      <td>3 Comforts of Cooperative Living</td>\n",
       "      <td>The condo is the 2nd floor in a lovely 1912 3-...</td>\n",
       "      <td>Newly furnished with queen bed and the comfort...</td>\n",
       "      <td>The condo is the 2nd floor in a lovely 1912 3-...</td>\n",
       "      <td>none</td>\n",
       "      <td>It's a 10 minute walk from the lakefront bike ...</td>\n",
       "      <td>...</td>\n",
       "      <td>t</td>\n",
       "      <td>f</td>\n",
       "      <td>moderate</td>\n",
       "      <td>f</td>\n",
       "      <td>f</td>\n",
       "      <td>5</td>\n",
       "      <td>1</td>\n",
       "      <td>4</td>\n",
       "      <td>0</td>\n",
       "      <td>0.70</td>\n",
       "    </tr>\n",
       "  </tbody>\n",
       "</table>\n",
       "<p>5 rows × 106 columns</p>\n",
       "</div>"
      ],
      "text/plain": [
       "      id                         listing_url       scrape_id last_scraped  \\\n",
       "0   2384   https://www.airbnb.com/rooms/2384  20191121092422   2019-11-21   \n",
       "1   4505   https://www.airbnb.com/rooms/4505  20191121092422   2019-11-21   \n",
       "2   7126   https://www.airbnb.com/rooms/7126  20191121092422   2019-11-21   \n",
       "3   9811   https://www.airbnb.com/rooms/9811  20191121092422   2019-11-21   \n",
       "4  10610  https://www.airbnb.com/rooms/10610  20191121092422   2019-11-21   \n",
       "\n",
       "                                                name  \\\n",
       "0  Walk to UChicago, 10 min train to McCormick Place   \n",
       "1  One Great Apartment. 384 Great Reviews. 1 Bad ...   \n",
       "2                Tiny Studio Apartment 94 Walk Score   \n",
       "3                      Barbara's Hideaway - Old Town   \n",
       "4                   3 Comforts of Cooperative Living   \n",
       "\n",
       "                                             summary  \\\n",
       "0  Visiting The University of Chicago or attendin...   \n",
       "1  We took the winter off, made things nicer arou...   \n",
       "2   A very small studio in a wonderful neighborhood.   \n",
       "3  One-bedroom hideaway tucked into Old Town step...   \n",
       "4  The condo is the 2nd floor in a lovely 1912 3-...   \n",
       "\n",
       "                                               space  \\\n",
       "0  The private bedroom has a queen size bed, beds...   \n",
       "1  We travel a lot, we know what people need.  We...   \n",
       "2  This is a very small  studio apartment with a ...   \n",
       "3  This lovely one bedroom \"hideaway\" is located ...   \n",
       "4  Newly furnished with queen bed and the comfort...   \n",
       "\n",
       "                                         description experiences_offered  \\\n",
       "0  Visiting The University of Chicago or attendin...                none   \n",
       "1  We took the winter off, made things nicer arou...                none   \n",
       "2  A very small studio in a wonderful neighborhoo...                none   \n",
       "3  One-bedroom hideaway tucked into Old Town step...                none   \n",
       "4  The condo is the 2nd floor in a lovely 1912 3-...                none   \n",
       "\n",
       "                               neighborhood_overview  ... instant_bookable  \\\n",
       "0  My apartment is one block from beautiful Jacks...  ...                f   \n",
       "1                                                NaN  ...                t   \n",
       "2  Ukrainian Village was just named \"Hottest Neig...  ...                f   \n",
       "3  Chicago’s Old Town neighborhood is squeezed be...  ...                t   \n",
       "4  It's a 10 minute walk from the lakefront bike ...  ...                t   \n",
       "\n",
       "  is_business_travel_ready          cancellation_policy  \\\n",
       "0                        f  strict_14_with_grace_period   \n",
       "1                        f                     moderate   \n",
       "2                        f                     moderate   \n",
       "3                        f  strict_14_with_grace_period   \n",
       "4                        f                     moderate   \n",
       "\n",
       "  require_guest_profile_picture require_guest_phone_verification  \\\n",
       "0                             f                                f   \n",
       "1                             f                                f   \n",
       "2                             f                                f   \n",
       "3                             f                                f   \n",
       "4                             f                                f   \n",
       "\n",
       "   calculated_host_listings_count  \\\n",
       "0                               1   \n",
       "1                               1   \n",
       "2                               1   \n",
       "3                              11   \n",
       "4                               5   \n",
       "\n",
       "   calculated_host_listings_count_entire_homes  \\\n",
       "0                                            0   \n",
       "1                                            1   \n",
       "2                                            1   \n",
       "3                                           11   \n",
       "4                                            1   \n",
       "\n",
       "  calculated_host_listings_count_private_rooms  \\\n",
       "0                                            1   \n",
       "1                                            0   \n",
       "2                                            0   \n",
       "3                                            0   \n",
       "4                                            4   \n",
       "\n",
       "   calculated_host_listings_count_shared_rooms  reviews_per_month  \n",
       "0                                            0               2.97  \n",
       "1                                            0               2.99  \n",
       "2                                            0               2.93  \n",
       "3                                            0               0.72  \n",
       "4                                            0               0.70  \n",
       "\n",
       "[5 rows x 106 columns]"
      ]
     },
     "execution_count": 509,
     "metadata": {},
     "output_type": "execute_result"
    }
   ],
   "source": [
    "df = pd.read_csv('./Airbnb_Chicago_listings.csv')\n",
    "df.head()"
   ]
  },
  {
   "cell_type": "markdown",
   "metadata": {},
   "source": [
    "Check columns indicated in error"
   ]
  },
  {
   "cell_type": "code",
   "execution_count": 510,
   "metadata": {
    "scrolled": true
   },
   "outputs": [
    {
     "data": {
      "text/html": [
       "<div>\n",
       "<style scoped>\n",
       "    .dataframe tbody tr th:only-of-type {\n",
       "        vertical-align: middle;\n",
       "    }\n",
       "\n",
       "    .dataframe tbody tr th {\n",
       "        vertical-align: top;\n",
       "    }\n",
       "\n",
       "    .dataframe thead th {\n",
       "        text-align: right;\n",
       "    }\n",
       "</style>\n",
       "<table border=\"1\" class=\"dataframe\">\n",
       "  <thead>\n",
       "    <tr style=\"text-align: right;\">\n",
       "      <th></th>\n",
       "      <th>weekly_price</th>\n",
       "      <th>monthly_price</th>\n",
       "    </tr>\n",
       "  </thead>\n",
       "  <tbody>\n",
       "    <tr>\n",
       "      <th>0</th>\n",
       "      <td>$350.00</td>\n",
       "      <td>NaN</td>\n",
       "    </tr>\n",
       "    <tr>\n",
       "      <th>1</th>\n",
       "      <td>$925.00</td>\n",
       "      <td>NaN</td>\n",
       "    </tr>\n",
       "    <tr>\n",
       "      <th>2</th>\n",
       "      <td>$600.00</td>\n",
       "      <td>NaN</td>\n",
       "    </tr>\n",
       "    <tr>\n",
       "      <th>3</th>\n",
       "      <td>$1,050.00</td>\n",
       "      <td>$3,400.00</td>\n",
       "    </tr>\n",
       "    <tr>\n",
       "      <th>4</th>\n",
       "      <td>$235.00</td>\n",
       "      <td>$805.00</td>\n",
       "    </tr>\n",
       "  </tbody>\n",
       "</table>\n",
       "</div>"
      ],
      "text/plain": [
       "  weekly_price monthly_price\n",
       "0      $350.00           NaN\n",
       "1      $925.00           NaN\n",
       "2      $600.00           NaN\n",
       "3    $1,050.00     $3,400.00\n",
       "4      $235.00       $805.00"
      ]
     },
     "execution_count": 510,
     "metadata": {},
     "output_type": "execute_result"
    }
   ],
   "source": [
    "df.iloc[:, 61:63].head()"
   ]
  },
  {
   "cell_type": "markdown",
   "metadata": {},
   "source": [
    "The scope of this analysis is limited to daily prices. Thus, we can safely drop these columns."
   ]
  },
  {
   "cell_type": "code",
   "execution_count": 511,
   "metadata": {
    "scrolled": false
   },
   "outputs": [],
   "source": [
    "df.drop(['weekly_price','monthly_price'], axis=1, inplace=True)"
   ]
  },
  {
   "cell_type": "code",
   "execution_count": 512,
   "metadata": {
    "scrolled": false
   },
   "outputs": [
    {
     "data": {
      "text/plain": [
       "(8533, 104)"
      ]
     },
     "execution_count": 512,
     "metadata": {},
     "output_type": "execute_result"
    }
   ],
   "source": [
    "df.shape"
   ]
  },
  {
   "cell_type": "markdown",
   "metadata": {},
   "source": [
    "## Data Wrangling"
   ]
  },
  {
   "cell_type": "markdown",
   "metadata": {},
   "source": [
    "### Remove columns that don't look useful\n",
    "\n",
    "With so many columns, we need to look to see if we can eliminate any of them."
   ]
  },
  {
   "cell_type": "code",
   "execution_count": 513,
   "metadata": {
    "scrolled": true
   },
   "outputs": [
    {
     "data": {
      "text/html": [
       "<div>\n",
       "<style scoped>\n",
       "    .dataframe tbody tr th:only-of-type {\n",
       "        vertical-align: middle;\n",
       "    }\n",
       "\n",
       "    .dataframe tbody tr th {\n",
       "        vertical-align: top;\n",
       "    }\n",
       "\n",
       "    .dataframe thead th {\n",
       "        text-align: right;\n",
       "    }\n",
       "</style>\n",
       "<table border=\"1\" class=\"dataframe\">\n",
       "  <thead>\n",
       "    <tr style=\"text-align: right;\">\n",
       "      <th></th>\n",
       "      <th>id</th>\n",
       "      <th>scrape_id</th>\n",
       "      <th>thumbnail_url</th>\n",
       "      <th>medium_url</th>\n",
       "      <th>xl_picture_url</th>\n",
       "      <th>host_id</th>\n",
       "      <th>host_acceptance_rate</th>\n",
       "      <th>host_listings_count</th>\n",
       "      <th>host_total_listings_count</th>\n",
       "      <th>neighbourhood_group_cleansed</th>\n",
       "      <th>...</th>\n",
       "      <th>review_scores_cleanliness</th>\n",
       "      <th>review_scores_checkin</th>\n",
       "      <th>review_scores_communication</th>\n",
       "      <th>review_scores_location</th>\n",
       "      <th>review_scores_value</th>\n",
       "      <th>calculated_host_listings_count</th>\n",
       "      <th>calculated_host_listings_count_entire_homes</th>\n",
       "      <th>calculated_host_listings_count_private_rooms</th>\n",
       "      <th>calculated_host_listings_count_shared_rooms</th>\n",
       "      <th>reviews_per_month</th>\n",
       "    </tr>\n",
       "  </thead>\n",
       "  <tbody>\n",
       "    <tr>\n",
       "      <th>count</th>\n",
       "      <td>8.533000e+03</td>\n",
       "      <td>8.533000e+03</td>\n",
       "      <td>0.0</td>\n",
       "      <td>0.0</td>\n",
       "      <td>0.0</td>\n",
       "      <td>8.533000e+03</td>\n",
       "      <td>0.0</td>\n",
       "      <td>8533.000000</td>\n",
       "      <td>8533.000000</td>\n",
       "      <td>0.0</td>\n",
       "      <td>...</td>\n",
       "      <td>7289.000000</td>\n",
       "      <td>7288.000000</td>\n",
       "      <td>7287.000000</td>\n",
       "      <td>7288.000000</td>\n",
       "      <td>7288.000000</td>\n",
       "      <td>8533.000000</td>\n",
       "      <td>8533.000000</td>\n",
       "      <td>8533.000000</td>\n",
       "      <td>8533.000000</td>\n",
       "      <td>7338.000000</td>\n",
       "    </tr>\n",
       "    <tr>\n",
       "      <th>mean</th>\n",
       "      <td>2.568287e+07</td>\n",
       "      <td>2.019112e+13</td>\n",
       "      <td>NaN</td>\n",
       "      <td>NaN</td>\n",
       "      <td>NaN</td>\n",
       "      <td>9.136513e+07</td>\n",
       "      <td>NaN</td>\n",
       "      <td>48.762920</td>\n",
       "      <td>48.762920</td>\n",
       "      <td>NaN</td>\n",
       "      <td>...</td>\n",
       "      <td>9.576074</td>\n",
       "      <td>9.818880</td>\n",
       "      <td>9.822012</td>\n",
       "      <td>9.691136</td>\n",
       "      <td>9.510291</td>\n",
       "      <td>11.403375</td>\n",
       "      <td>9.062815</td>\n",
       "      <td>1.908121</td>\n",
       "      <td>0.154459</td>\n",
       "      <td>2.518688</td>\n",
       "    </tr>\n",
       "    <tr>\n",
       "      <th>std</th>\n",
       "      <td>1.108914e+07</td>\n",
       "      <td>2.859543e+00</td>\n",
       "      <td>NaN</td>\n",
       "      <td>NaN</td>\n",
       "      <td>NaN</td>\n",
       "      <td>8.758527e+07</td>\n",
       "      <td>NaN</td>\n",
       "      <td>201.148225</td>\n",
       "      <td>201.148225</td>\n",
       "      <td>NaN</td>\n",
       "      <td>...</td>\n",
       "      <td>0.751149</td>\n",
       "      <td>0.572567</td>\n",
       "      <td>0.565276</td>\n",
       "      <td>0.660159</td>\n",
       "      <td>0.739338</td>\n",
       "      <td>23.964151</td>\n",
       "      <td>22.710551</td>\n",
       "      <td>7.186126</td>\n",
       "      <td>1.190603</td>\n",
       "      <td>2.097065</td>\n",
       "    </tr>\n",
       "    <tr>\n",
       "      <th>min</th>\n",
       "      <td>2.384000e+03</td>\n",
       "      <td>2.019112e+13</td>\n",
       "      <td>NaN</td>\n",
       "      <td>NaN</td>\n",
       "      <td>NaN</td>\n",
       "      <td>2.140000e+03</td>\n",
       "      <td>NaN</td>\n",
       "      <td>0.000000</td>\n",
       "      <td>0.000000</td>\n",
       "      <td>NaN</td>\n",
       "      <td>...</td>\n",
       "      <td>2.000000</td>\n",
       "      <td>2.000000</td>\n",
       "      <td>2.000000</td>\n",
       "      <td>2.000000</td>\n",
       "      <td>2.000000</td>\n",
       "      <td>1.000000</td>\n",
       "      <td>0.000000</td>\n",
       "      <td>0.000000</td>\n",
       "      <td>0.000000</td>\n",
       "      <td>0.020000</td>\n",
       "    </tr>\n",
       "    <tr>\n",
       "      <th>25%</th>\n",
       "      <td>1.805955e+07</td>\n",
       "      <td>2.019112e+13</td>\n",
       "      <td>NaN</td>\n",
       "      <td>NaN</td>\n",
       "      <td>NaN</td>\n",
       "      <td>1.572523e+07</td>\n",
       "      <td>NaN</td>\n",
       "      <td>1.000000</td>\n",
       "      <td>1.000000</td>\n",
       "      <td>NaN</td>\n",
       "      <td>...</td>\n",
       "      <td>9.000000</td>\n",
       "      <td>10.000000</td>\n",
       "      <td>10.000000</td>\n",
       "      <td>10.000000</td>\n",
       "      <td>9.000000</td>\n",
       "      <td>1.000000</td>\n",
       "      <td>1.000000</td>\n",
       "      <td>0.000000</td>\n",
       "      <td>0.000000</td>\n",
       "      <td>0.860000</td>\n",
       "    </tr>\n",
       "    <tr>\n",
       "      <th>50%</th>\n",
       "      <td>2.769444e+07</td>\n",
       "      <td>2.019112e+13</td>\n",
       "      <td>NaN</td>\n",
       "      <td>NaN</td>\n",
       "      <td>NaN</td>\n",
       "      <td>5.597679e+07</td>\n",
       "      <td>NaN</td>\n",
       "      <td>2.000000</td>\n",
       "      <td>2.000000</td>\n",
       "      <td>NaN</td>\n",
       "      <td>...</td>\n",
       "      <td>10.000000</td>\n",
       "      <td>10.000000</td>\n",
       "      <td>10.000000</td>\n",
       "      <td>10.000000</td>\n",
       "      <td>10.000000</td>\n",
       "      <td>2.000000</td>\n",
       "      <td>1.000000</td>\n",
       "      <td>0.000000</td>\n",
       "      <td>0.000000</td>\n",
       "      <td>2.030000</td>\n",
       "    </tr>\n",
       "    <tr>\n",
       "      <th>75%</th>\n",
       "      <td>3.538766e+07</td>\n",
       "      <td>2.019112e+13</td>\n",
       "      <td>NaN</td>\n",
       "      <td>NaN</td>\n",
       "      <td>NaN</td>\n",
       "      <td>1.572620e+08</td>\n",
       "      <td>NaN</td>\n",
       "      <td>8.000000</td>\n",
       "      <td>8.000000</td>\n",
       "      <td>NaN</td>\n",
       "      <td>...</td>\n",
       "      <td>10.000000</td>\n",
       "      <td>10.000000</td>\n",
       "      <td>10.000000</td>\n",
       "      <td>10.000000</td>\n",
       "      <td>10.000000</td>\n",
       "      <td>7.000000</td>\n",
       "      <td>4.000000</td>\n",
       "      <td>1.000000</td>\n",
       "      <td>0.000000</td>\n",
       "      <td>3.710000</td>\n",
       "    </tr>\n",
       "    <tr>\n",
       "      <th>max</th>\n",
       "      <td>4.026441e+07</td>\n",
       "      <td>2.019112e+13</td>\n",
       "      <td>NaN</td>\n",
       "      <td>NaN</td>\n",
       "      <td>NaN</td>\n",
       "      <td>3.106326e+08</td>\n",
       "      <td>NaN</td>\n",
       "      <td>1820.000000</td>\n",
       "      <td>1820.000000</td>\n",
       "      <td>NaN</td>\n",
       "      <td>...</td>\n",
       "      <td>10.000000</td>\n",
       "      <td>10.000000</td>\n",
       "      <td>10.000000</td>\n",
       "      <td>10.000000</td>\n",
       "      <td>10.000000</td>\n",
       "      <td>119.000000</td>\n",
       "      <td>119.000000</td>\n",
       "      <td>73.000000</td>\n",
       "      <td>17.000000</td>\n",
       "      <td>20.830000</td>\n",
       "    </tr>\n",
       "  </tbody>\n",
       "</table>\n",
       "<p>8 rows × 44 columns</p>\n",
       "</div>"
      ],
      "text/plain": [
       "                 id     scrape_id  thumbnail_url  medium_url  xl_picture_url  \\\n",
       "count  8.533000e+03  8.533000e+03            0.0         0.0             0.0   \n",
       "mean   2.568287e+07  2.019112e+13            NaN         NaN             NaN   \n",
       "std    1.108914e+07  2.859543e+00            NaN         NaN             NaN   \n",
       "min    2.384000e+03  2.019112e+13            NaN         NaN             NaN   \n",
       "25%    1.805955e+07  2.019112e+13            NaN         NaN             NaN   \n",
       "50%    2.769444e+07  2.019112e+13            NaN         NaN             NaN   \n",
       "75%    3.538766e+07  2.019112e+13            NaN         NaN             NaN   \n",
       "max    4.026441e+07  2.019112e+13            NaN         NaN             NaN   \n",
       "\n",
       "            host_id  host_acceptance_rate  host_listings_count  \\\n",
       "count  8.533000e+03                   0.0          8533.000000   \n",
       "mean   9.136513e+07                   NaN            48.762920   \n",
       "std    8.758527e+07                   NaN           201.148225   \n",
       "min    2.140000e+03                   NaN             0.000000   \n",
       "25%    1.572523e+07                   NaN             1.000000   \n",
       "50%    5.597679e+07                   NaN             2.000000   \n",
       "75%    1.572620e+08                   NaN             8.000000   \n",
       "max    3.106326e+08                   NaN          1820.000000   \n",
       "\n",
       "       host_total_listings_count  neighbourhood_group_cleansed  ...  \\\n",
       "count                8533.000000                           0.0  ...   \n",
       "mean                   48.762920                           NaN  ...   \n",
       "std                   201.148225                           NaN  ...   \n",
       "min                     0.000000                           NaN  ...   \n",
       "25%                     1.000000                           NaN  ...   \n",
       "50%                     2.000000                           NaN  ...   \n",
       "75%                     8.000000                           NaN  ...   \n",
       "max                  1820.000000                           NaN  ...   \n",
       "\n",
       "       review_scores_cleanliness  review_scores_checkin  \\\n",
       "count                7289.000000            7288.000000   \n",
       "mean                    9.576074               9.818880   \n",
       "std                     0.751149               0.572567   \n",
       "min                     2.000000               2.000000   \n",
       "25%                     9.000000              10.000000   \n",
       "50%                    10.000000              10.000000   \n",
       "75%                    10.000000              10.000000   \n",
       "max                    10.000000              10.000000   \n",
       "\n",
       "       review_scores_communication  review_scores_location  \\\n",
       "count                  7287.000000             7288.000000   \n",
       "mean                      9.822012                9.691136   \n",
       "std                       0.565276                0.660159   \n",
       "min                       2.000000                2.000000   \n",
       "25%                      10.000000               10.000000   \n",
       "50%                      10.000000               10.000000   \n",
       "75%                      10.000000               10.000000   \n",
       "max                      10.000000               10.000000   \n",
       "\n",
       "       review_scores_value  calculated_host_listings_count  \\\n",
       "count          7288.000000                     8533.000000   \n",
       "mean              9.510291                       11.403375   \n",
       "std               0.739338                       23.964151   \n",
       "min               2.000000                        1.000000   \n",
       "25%               9.000000                        1.000000   \n",
       "50%              10.000000                        2.000000   \n",
       "75%              10.000000                        7.000000   \n",
       "max              10.000000                      119.000000   \n",
       "\n",
       "       calculated_host_listings_count_entire_homes  \\\n",
       "count                                  8533.000000   \n",
       "mean                                      9.062815   \n",
       "std                                      22.710551   \n",
       "min                                       0.000000   \n",
       "25%                                       1.000000   \n",
       "50%                                       1.000000   \n",
       "75%                                       4.000000   \n",
       "max                                     119.000000   \n",
       "\n",
       "       calculated_host_listings_count_private_rooms  \\\n",
       "count                                   8533.000000   \n",
       "mean                                       1.908121   \n",
       "std                                        7.186126   \n",
       "min                                        0.000000   \n",
       "25%                                        0.000000   \n",
       "50%                                        0.000000   \n",
       "75%                                        1.000000   \n",
       "max                                       73.000000   \n",
       "\n",
       "       calculated_host_listings_count_shared_rooms  reviews_per_month  \n",
       "count                                  8533.000000        7338.000000  \n",
       "mean                                      0.154459           2.518688  \n",
       "std                                       1.190603           2.097065  \n",
       "min                                       0.000000           0.020000  \n",
       "25%                                       0.000000           0.860000  \n",
       "50%                                       0.000000           2.030000  \n",
       "75%                                       0.000000           3.710000  \n",
       "max                                      17.000000          20.830000  \n",
       "\n",
       "[8 rows x 44 columns]"
      ]
     },
     "execution_count": 513,
     "metadata": {},
     "output_type": "execute_result"
    }
   ],
   "source": [
    "df.describe()"
   ]
  },
  {
   "cell_type": "markdown",
   "metadata": {},
   "source": [
    "There are too many columns to see them all. First, let us remove those with lots of missing data."
   ]
  },
  {
   "cell_type": "code",
   "execution_count": 514,
   "metadata": {
    "scrolled": false
   },
   "outputs": [
    {
     "data": {
      "text/plain": [
       "Index(['thumbnail_url', 'medium_url', 'xl_picture_url', 'host_acceptance_rate',\n",
       "       'neighbourhood_group_cleansed', 'square_feet'],\n",
       "      dtype='object')"
      ]
     },
     "execution_count": 514,
     "metadata": {},
     "output_type": "execute_result"
    }
   ],
   "source": [
    "half_null_cols = df.columns[df.isnull().mean() > 0.5]\n",
    "half_null_cols"
   ]
  },
  {
   "cell_type": "code",
   "execution_count": 515,
   "metadata": {
    "scrolled": false
   },
   "outputs": [],
   "source": [
    "df.drop(half_null_cols, axis=1, inplace=True)"
   ]
  },
  {
   "cell_type": "markdown",
   "metadata": {},
   "source": [
    "Check for unique values. If the number for any column is close to the number of rows, it will be too strongly correlated to the price."
   ]
  },
  {
   "cell_type": "code",
   "execution_count": 516,
   "metadata": {
    "scrolled": false
   },
   "outputs": [
    {
     "data": {
      "text/plain": [
       "['id', 'listing_url']"
      ]
     },
     "execution_count": 516,
     "metadata": {},
     "output_type": "execute_result"
    }
   ],
   "source": [
    "df_row_ct = df.shape[0]\n",
    "unique_cols = [col for col\n",
    "               in list(df)\n",
    "               if df[col].nunique() == df_row_ct]\n",
    "unique_cols"
   ]
  },
  {
   "cell_type": "code",
   "execution_count": 517,
   "metadata": {
    "scrolled": false
   },
   "outputs": [],
   "source": [
    "df.drop(unique_cols, axis=1, inplace=True)"
   ]
  },
  {
   "cell_type": "markdown",
   "metadata": {},
   "source": [
    "Also check for columns where all rows are the same. These probably are not useful."
   ]
  },
  {
   "cell_type": "code",
   "execution_count": 518,
   "metadata": {
    "scrolled": false
   },
   "outputs": [
    {
     "data": {
      "text/plain": [
       "['scrape_id',\n",
       " 'last_scraped',\n",
       " 'experiences_offered',\n",
       " 'country_code',\n",
       " 'country',\n",
       " 'has_availability',\n",
       " 'calendar_last_scraped',\n",
       " 'is_business_travel_ready']"
      ]
     },
     "execution_count": 518,
     "metadata": {},
     "output_type": "execute_result"
    }
   ],
   "source": [
    "redundant_cols = [col for col \n",
    "                  in list(df)\n",
    "                  if df[col].nunique() == 1]\n",
    "redundant_cols"
   ]
  },
  {
   "cell_type": "code",
   "execution_count": 519,
   "metadata": {
    "scrolled": false
   },
   "outputs": [],
   "source": [
    "df.drop(redundant_cols, axis=1, inplace=True)"
   ]
  },
  {
   "cell_type": "markdown",
   "metadata": {},
   "source": [
    "One of the previous rows is a URL. We don't believe any URL would be useful for our purposes. Let us check for others and drop them."
   ]
  },
  {
   "cell_type": "code",
   "execution_count": 520,
   "metadata": {
    "scrolled": false
   },
   "outputs": [
    {
     "data": {
      "text/plain": [
       "['picture_url', 'host_url', 'host_thumbnail_url', 'host_picture_url']"
      ]
     },
     "execution_count": 520,
     "metadata": {},
     "output_type": "execute_result"
    }
   ],
   "source": [
    "url_cols = [col for col in df.columns if 'url' in col]\n",
    "url_cols"
   ]
  },
  {
   "cell_type": "code",
   "execution_count": 521,
   "metadata": {
    "scrolled": false
   },
   "outputs": [],
   "source": [
    "df.drop(url_cols, axis=1, inplace=True)"
   ]
  },
  {
   "cell_type": "markdown",
   "metadata": {},
   "source": [
    "We should limit the text columns to those with categorical data. Let us set a limit of 30 characters and remove any column with an average that exceeds that threshold."
   ]
  },
  {
   "cell_type": "code",
   "execution_count": 522,
   "metadata": {
    "scrolled": true
   },
   "outputs": [
    {
     "data": {
      "text/plain": [
       "Index(['name', 'summary', 'space', 'description', 'neighborhood_overview',\n",
       "       'notes', 'transit', 'access', 'interaction', 'house_rules',\n",
       "       'host_about', 'host_verifications', 'amenities', 'jurisdiction_names'],\n",
       "      dtype='object')"
      ]
     },
     "execution_count": 522,
     "metadata": {},
     "output_type": "execute_result"
    }
   ],
   "source": [
    "long_cols = df.columns[df.fillna('').astype(str).apply(lambda x:x.str.len()).mean() > 30]\n",
    "long_cols"
   ]
  },
  {
   "cell_type": "code",
   "execution_count": 523,
   "metadata": {
    "scrolled": false
   },
   "outputs": [],
   "source": [
    "df.drop(long_cols, axis=1, inplace=True)"
   ]
  },
  {
   "cell_type": "markdown",
   "metadata": {},
   "source": [
    "Let us check our data now."
   ]
  },
  {
   "cell_type": "code",
   "execution_count": 524,
   "metadata": {
    "scrolled": false
   },
   "outputs": [
    {
     "data": {
      "text/html": [
       "<div>\n",
       "<style scoped>\n",
       "    .dataframe tbody tr th:only-of-type {\n",
       "        vertical-align: middle;\n",
       "    }\n",
       "\n",
       "    .dataframe tbody tr th {\n",
       "        vertical-align: top;\n",
       "    }\n",
       "\n",
       "    .dataframe thead th {\n",
       "        text-align: right;\n",
       "    }\n",
       "</style>\n",
       "<table border=\"1\" class=\"dataframe\">\n",
       "  <thead>\n",
       "    <tr style=\"text-align: right;\">\n",
       "      <th></th>\n",
       "      <th>host_id</th>\n",
       "      <th>host_listings_count</th>\n",
       "      <th>host_total_listings_count</th>\n",
       "      <th>latitude</th>\n",
       "      <th>longitude</th>\n",
       "      <th>accommodates</th>\n",
       "      <th>bathrooms</th>\n",
       "      <th>bedrooms</th>\n",
       "      <th>beds</th>\n",
       "      <th>guests_included</th>\n",
       "      <th>...</th>\n",
       "      <th>review_scores_cleanliness</th>\n",
       "      <th>review_scores_checkin</th>\n",
       "      <th>review_scores_communication</th>\n",
       "      <th>review_scores_location</th>\n",
       "      <th>review_scores_value</th>\n",
       "      <th>calculated_host_listings_count</th>\n",
       "      <th>calculated_host_listings_count_entire_homes</th>\n",
       "      <th>calculated_host_listings_count_private_rooms</th>\n",
       "      <th>calculated_host_listings_count_shared_rooms</th>\n",
       "      <th>reviews_per_month</th>\n",
       "    </tr>\n",
       "  </thead>\n",
       "  <tbody>\n",
       "    <tr>\n",
       "      <th>count</th>\n",
       "      <td>8.533000e+03</td>\n",
       "      <td>8533.000000</td>\n",
       "      <td>8533.000000</td>\n",
       "      <td>8533.000000</td>\n",
       "      <td>8533.000000</td>\n",
       "      <td>8533.000000</td>\n",
       "      <td>8530.000000</td>\n",
       "      <td>8529.000000</td>\n",
       "      <td>8528.000000</td>\n",
       "      <td>8533.000000</td>\n",
       "      <td>...</td>\n",
       "      <td>7289.000000</td>\n",
       "      <td>7288.000000</td>\n",
       "      <td>7287.000000</td>\n",
       "      <td>7288.000000</td>\n",
       "      <td>7288.000000</td>\n",
       "      <td>8533.000000</td>\n",
       "      <td>8533.000000</td>\n",
       "      <td>8533.000000</td>\n",
       "      <td>8533.000000</td>\n",
       "      <td>7338.000000</td>\n",
       "    </tr>\n",
       "    <tr>\n",
       "      <th>mean</th>\n",
       "      <td>9.136513e+07</td>\n",
       "      <td>48.762920</td>\n",
       "      <td>48.762920</td>\n",
       "      <td>41.900679</td>\n",
       "      <td>-87.664596</td>\n",
       "      <td>4.331654</td>\n",
       "      <td>1.376436</td>\n",
       "      <td>1.643217</td>\n",
       "      <td>2.247420</td>\n",
       "      <td>2.248682</td>\n",
       "      <td>...</td>\n",
       "      <td>9.576074</td>\n",
       "      <td>9.818880</td>\n",
       "      <td>9.822012</td>\n",
       "      <td>9.691136</td>\n",
       "      <td>9.510291</td>\n",
       "      <td>11.403375</td>\n",
       "      <td>9.062815</td>\n",
       "      <td>1.908121</td>\n",
       "      <td>0.154459</td>\n",
       "      <td>2.518688</td>\n",
       "    </tr>\n",
       "    <tr>\n",
       "      <th>std</th>\n",
       "      <td>8.758527e+07</td>\n",
       "      <td>201.148225</td>\n",
       "      <td>201.148225</td>\n",
       "      <td>0.057041</td>\n",
       "      <td>0.041218</td>\n",
       "      <td>2.972712</td>\n",
       "      <td>0.779565</td>\n",
       "      <td>1.200537</td>\n",
       "      <td>1.972722</td>\n",
       "      <td>2.012976</td>\n",
       "      <td>...</td>\n",
       "      <td>0.751149</td>\n",
       "      <td>0.572567</td>\n",
       "      <td>0.565276</td>\n",
       "      <td>0.660159</td>\n",
       "      <td>0.739338</td>\n",
       "      <td>23.964151</td>\n",
       "      <td>22.710551</td>\n",
       "      <td>7.186126</td>\n",
       "      <td>1.190603</td>\n",
       "      <td>2.097065</td>\n",
       "    </tr>\n",
       "    <tr>\n",
       "      <th>min</th>\n",
       "      <td>2.140000e+03</td>\n",
       "      <td>0.000000</td>\n",
       "      <td>0.000000</td>\n",
       "      <td>41.650990</td>\n",
       "      <td>-87.934660</td>\n",
       "      <td>1.000000</td>\n",
       "      <td>0.000000</td>\n",
       "      <td>0.000000</td>\n",
       "      <td>0.000000</td>\n",
       "      <td>1.000000</td>\n",
       "      <td>...</td>\n",
       "      <td>2.000000</td>\n",
       "      <td>2.000000</td>\n",
       "      <td>2.000000</td>\n",
       "      <td>2.000000</td>\n",
       "      <td>2.000000</td>\n",
       "      <td>1.000000</td>\n",
       "      <td>0.000000</td>\n",
       "      <td>0.000000</td>\n",
       "      <td>0.000000</td>\n",
       "      <td>0.020000</td>\n",
       "    </tr>\n",
       "    <tr>\n",
       "      <th>25%</th>\n",
       "      <td>1.572523e+07</td>\n",
       "      <td>1.000000</td>\n",
       "      <td>1.000000</td>\n",
       "      <td>41.874500</td>\n",
       "      <td>-87.686930</td>\n",
       "      <td>2.000000</td>\n",
       "      <td>1.000000</td>\n",
       "      <td>1.000000</td>\n",
       "      <td>1.000000</td>\n",
       "      <td>1.000000</td>\n",
       "      <td>...</td>\n",
       "      <td>9.000000</td>\n",
       "      <td>10.000000</td>\n",
       "      <td>10.000000</td>\n",
       "      <td>10.000000</td>\n",
       "      <td>9.000000</td>\n",
       "      <td>1.000000</td>\n",
       "      <td>1.000000</td>\n",
       "      <td>0.000000</td>\n",
       "      <td>0.000000</td>\n",
       "      <td>0.860000</td>\n",
       "    </tr>\n",
       "    <tr>\n",
       "      <th>50%</th>\n",
       "      <td>5.597679e+07</td>\n",
       "      <td>2.000000</td>\n",
       "      <td>2.000000</td>\n",
       "      <td>41.902960</td>\n",
       "      <td>-87.661150</td>\n",
       "      <td>4.000000</td>\n",
       "      <td>1.000000</td>\n",
       "      <td>1.000000</td>\n",
       "      <td>2.000000</td>\n",
       "      <td>1.000000</td>\n",
       "      <td>...</td>\n",
       "      <td>10.000000</td>\n",
       "      <td>10.000000</td>\n",
       "      <td>10.000000</td>\n",
       "      <td>10.000000</td>\n",
       "      <td>10.000000</td>\n",
       "      <td>2.000000</td>\n",
       "      <td>1.000000</td>\n",
       "      <td>0.000000</td>\n",
       "      <td>0.000000</td>\n",
       "      <td>2.030000</td>\n",
       "    </tr>\n",
       "    <tr>\n",
       "      <th>75%</th>\n",
       "      <td>1.572620e+08</td>\n",
       "      <td>8.000000</td>\n",
       "      <td>8.000000</td>\n",
       "      <td>41.940000</td>\n",
       "      <td>-87.634400</td>\n",
       "      <td>6.000000</td>\n",
       "      <td>2.000000</td>\n",
       "      <td>2.000000</td>\n",
       "      <td>3.000000</td>\n",
       "      <td>3.000000</td>\n",
       "      <td>...</td>\n",
       "      <td>10.000000</td>\n",
       "      <td>10.000000</td>\n",
       "      <td>10.000000</td>\n",
       "      <td>10.000000</td>\n",
       "      <td>10.000000</td>\n",
       "      <td>7.000000</td>\n",
       "      <td>4.000000</td>\n",
       "      <td>1.000000</td>\n",
       "      <td>0.000000</td>\n",
       "      <td>3.710000</td>\n",
       "    </tr>\n",
       "    <tr>\n",
       "      <th>max</th>\n",
       "      <td>3.106326e+08</td>\n",
       "      <td>1820.000000</td>\n",
       "      <td>1820.000000</td>\n",
       "      <td>42.022280</td>\n",
       "      <td>-87.537900</td>\n",
       "      <td>32.000000</td>\n",
       "      <td>21.000000</td>\n",
       "      <td>24.000000</td>\n",
       "      <td>50.000000</td>\n",
       "      <td>16.000000</td>\n",
       "      <td>...</td>\n",
       "      <td>10.000000</td>\n",
       "      <td>10.000000</td>\n",
       "      <td>10.000000</td>\n",
       "      <td>10.000000</td>\n",
       "      <td>10.000000</td>\n",
       "      <td>119.000000</td>\n",
       "      <td>119.000000</td>\n",
       "      <td>73.000000</td>\n",
       "      <td>17.000000</td>\n",
       "      <td>20.830000</td>\n",
       "    </tr>\n",
       "  </tbody>\n",
       "</table>\n",
       "<p>8 rows × 36 columns</p>\n",
       "</div>"
      ],
      "text/plain": [
       "            host_id  host_listings_count  host_total_listings_count  \\\n",
       "count  8.533000e+03          8533.000000                8533.000000   \n",
       "mean   9.136513e+07            48.762920                  48.762920   \n",
       "std    8.758527e+07           201.148225                 201.148225   \n",
       "min    2.140000e+03             0.000000                   0.000000   \n",
       "25%    1.572523e+07             1.000000                   1.000000   \n",
       "50%    5.597679e+07             2.000000                   2.000000   \n",
       "75%    1.572620e+08             8.000000                   8.000000   \n",
       "max    3.106326e+08          1820.000000                1820.000000   \n",
       "\n",
       "          latitude    longitude  accommodates    bathrooms     bedrooms  \\\n",
       "count  8533.000000  8533.000000   8533.000000  8530.000000  8529.000000   \n",
       "mean     41.900679   -87.664596      4.331654     1.376436     1.643217   \n",
       "std       0.057041     0.041218      2.972712     0.779565     1.200537   \n",
       "min      41.650990   -87.934660      1.000000     0.000000     0.000000   \n",
       "25%      41.874500   -87.686930      2.000000     1.000000     1.000000   \n",
       "50%      41.902960   -87.661150      4.000000     1.000000     1.000000   \n",
       "75%      41.940000   -87.634400      6.000000     2.000000     2.000000   \n",
       "max      42.022280   -87.537900     32.000000    21.000000    24.000000   \n",
       "\n",
       "              beds  guests_included  ...  review_scores_cleanliness  \\\n",
       "count  8528.000000      8533.000000  ...                7289.000000   \n",
       "mean      2.247420         2.248682  ...                   9.576074   \n",
       "std       1.972722         2.012976  ...                   0.751149   \n",
       "min       0.000000         1.000000  ...                   2.000000   \n",
       "25%       1.000000         1.000000  ...                   9.000000   \n",
       "50%       2.000000         1.000000  ...                  10.000000   \n",
       "75%       3.000000         3.000000  ...                  10.000000   \n",
       "max      50.000000        16.000000  ...                  10.000000   \n",
       "\n",
       "       review_scores_checkin  review_scores_communication  \\\n",
       "count            7288.000000                  7287.000000   \n",
       "mean                9.818880                     9.822012   \n",
       "std                 0.572567                     0.565276   \n",
       "min                 2.000000                     2.000000   \n",
       "25%                10.000000                    10.000000   \n",
       "50%                10.000000                    10.000000   \n",
       "75%                10.000000                    10.000000   \n",
       "max                10.000000                    10.000000   \n",
       "\n",
       "       review_scores_location  review_scores_value  \\\n",
       "count             7288.000000          7288.000000   \n",
       "mean                 9.691136             9.510291   \n",
       "std                  0.660159             0.739338   \n",
       "min                  2.000000             2.000000   \n",
       "25%                 10.000000             9.000000   \n",
       "50%                 10.000000            10.000000   \n",
       "75%                 10.000000            10.000000   \n",
       "max                 10.000000            10.000000   \n",
       "\n",
       "       calculated_host_listings_count  \\\n",
       "count                     8533.000000   \n",
       "mean                        11.403375   \n",
       "std                         23.964151   \n",
       "min                          1.000000   \n",
       "25%                          1.000000   \n",
       "50%                          2.000000   \n",
       "75%                          7.000000   \n",
       "max                        119.000000   \n",
       "\n",
       "       calculated_host_listings_count_entire_homes  \\\n",
       "count                                  8533.000000   \n",
       "mean                                      9.062815   \n",
       "std                                      22.710551   \n",
       "min                                       0.000000   \n",
       "25%                                       1.000000   \n",
       "50%                                       1.000000   \n",
       "75%                                       4.000000   \n",
       "max                                     119.000000   \n",
       "\n",
       "       calculated_host_listings_count_private_rooms  \\\n",
       "count                                   8533.000000   \n",
       "mean                                       1.908121   \n",
       "std                                        7.186126   \n",
       "min                                        0.000000   \n",
       "25%                                        0.000000   \n",
       "50%                                        0.000000   \n",
       "75%                                        1.000000   \n",
       "max                                       73.000000   \n",
       "\n",
       "       calculated_host_listings_count_shared_rooms  reviews_per_month  \n",
       "count                                  8533.000000        7338.000000  \n",
       "mean                                      0.154459           2.518688  \n",
       "std                                       1.190603           2.097065  \n",
       "min                                       0.000000           0.020000  \n",
       "25%                                       0.000000           0.860000  \n",
       "50%                                       0.000000           2.030000  \n",
       "75%                                       0.000000           3.710000  \n",
       "max                                      17.000000          20.830000  \n",
       "\n",
       "[8 rows x 36 columns]"
      ]
     },
     "execution_count": 524,
     "metadata": {},
     "output_type": "execute_result"
    }
   ],
   "source": [
    "df.describe()"
   ]
  },
  {
   "cell_type": "markdown",
   "metadata": {},
   "source": [
    "Since this dataset was gathered through web-scraping, it includes some details about the process. Those are meaningless to us. Thus we can safely drop them."
   ]
  },
  {
   "cell_type": "code",
   "execution_count": 525,
   "metadata": {
    "scrolled": false
   },
   "outputs": [],
   "source": [
    "#scrape_cols = [col for col in df.columns if 'scrape' in col]\n",
    "#scrape_cols"
   ]
  },
  {
   "cell_type": "code",
   "execution_count": 526,
   "metadata": {
    "scrolled": false
   },
   "outputs": [],
   "source": [
    "#df.drop(scrape_cols, axis=1, inplace=True)"
   ]
  },
  {
   "cell_type": "markdown",
   "metadata": {},
   "source": [
    "Let us check our text-based columns to find more to remove."
   ]
  },
  {
   "cell_type": "code",
   "execution_count": 527,
   "metadata": {
    "scrolled": false
   },
   "outputs": [
    {
     "data": {
      "text/html": [
       "<div>\n",
       "<style scoped>\n",
       "    .dataframe tbody tr th:only-of-type {\n",
       "        vertical-align: middle;\n",
       "    }\n",
       "\n",
       "    .dataframe tbody tr th {\n",
       "        vertical-align: top;\n",
       "    }\n",
       "\n",
       "    .dataframe thead th {\n",
       "        text-align: right;\n",
       "    }\n",
       "</style>\n",
       "<table border=\"1\" class=\"dataframe\">\n",
       "  <thead>\n",
       "    <tr style=\"text-align: right;\">\n",
       "      <th></th>\n",
       "      <th>host_name</th>\n",
       "      <th>host_since</th>\n",
       "      <th>host_location</th>\n",
       "      <th>host_response_time</th>\n",
       "      <th>host_response_rate</th>\n",
       "      <th>host_is_superhost</th>\n",
       "      <th>host_neighbourhood</th>\n",
       "      <th>host_has_profile_pic</th>\n",
       "      <th>host_identity_verified</th>\n",
       "      <th>street</th>\n",
       "      <th>...</th>\n",
       "      <th>extra_people</th>\n",
       "      <th>calendar_updated</th>\n",
       "      <th>first_review</th>\n",
       "      <th>last_review</th>\n",
       "      <th>requires_license</th>\n",
       "      <th>license</th>\n",
       "      <th>instant_bookable</th>\n",
       "      <th>cancellation_policy</th>\n",
       "      <th>require_guest_profile_picture</th>\n",
       "      <th>require_guest_phone_verification</th>\n",
       "    </tr>\n",
       "  </thead>\n",
       "  <tbody>\n",
       "    <tr>\n",
       "      <th>count</th>\n",
       "      <td>8533</td>\n",
       "      <td>8533</td>\n",
       "      <td>8522</td>\n",
       "      <td>7709</td>\n",
       "      <td>7709</td>\n",
       "      <td>8533</td>\n",
       "      <td>7743</td>\n",
       "      <td>8533</td>\n",
       "      <td>8533</td>\n",
       "      <td>8533</td>\n",
       "      <td>...</td>\n",
       "      <td>8533</td>\n",
       "      <td>8533</td>\n",
       "      <td>7338</td>\n",
       "      <td>7338</td>\n",
       "      <td>8533</td>\n",
       "      <td>8313</td>\n",
       "      <td>8533</td>\n",
       "      <td>8533</td>\n",
       "      <td>8533</td>\n",
       "      <td>8533</td>\n",
       "    </tr>\n",
       "    <tr>\n",
       "      <th>unique</th>\n",
       "      <td>2313</td>\n",
       "      <td>2295</td>\n",
       "      <td>264</td>\n",
       "      <td>4</td>\n",
       "      <td>44</td>\n",
       "      <td>2</td>\n",
       "      <td>125</td>\n",
       "      <td>2</td>\n",
       "      <td>2</td>\n",
       "      <td>27</td>\n",
       "      <td>...</td>\n",
       "      <td>63</td>\n",
       "      <td>55</td>\n",
       "      <td>1688</td>\n",
       "      <td>591</td>\n",
       "      <td>2</td>\n",
       "      <td>3797</td>\n",
       "      <td>2</td>\n",
       "      <td>5</td>\n",
       "      <td>2</td>\n",
       "      <td>2</td>\n",
       "    </tr>\n",
       "    <tr>\n",
       "      <th>top</th>\n",
       "      <td>Domio</td>\n",
       "      <td>2016-12-16</td>\n",
       "      <td>Chicago, Illinois, United States</td>\n",
       "      <td>within an hour</td>\n",
       "      <td>100%</td>\n",
       "      <td>f</td>\n",
       "      <td>Lakeview</td>\n",
       "      <td>t</td>\n",
       "      <td>f</td>\n",
       "      <td>Chicago, IL, United States</td>\n",
       "      <td>...</td>\n",
       "      <td>$0.00</td>\n",
       "      <td>today</td>\n",
       "      <td>2019-10-14</td>\n",
       "      <td>2019-11-17</td>\n",
       "      <td>t</td>\n",
       "      <td>City registration pending</td>\n",
       "      <td>f</td>\n",
       "      <td>strict_14_with_grace_period</td>\n",
       "      <td>f</td>\n",
       "      <td>f</td>\n",
       "    </tr>\n",
       "    <tr>\n",
       "      <th>freq</th>\n",
       "      <td>122</td>\n",
       "      <td>120</td>\n",
       "      <td>6518</td>\n",
       "      <td>6270</td>\n",
       "      <td>6008</td>\n",
       "      <td>5113</td>\n",
       "      <td>578</td>\n",
       "      <td>8514</td>\n",
       "      <td>5218</td>\n",
       "      <td>8459</td>\n",
       "      <td>...</td>\n",
       "      <td>3767</td>\n",
       "      <td>2027</td>\n",
       "      <td>45</td>\n",
       "      <td>539</td>\n",
       "      <td>8475</td>\n",
       "      <td>3044</td>\n",
       "      <td>4327</td>\n",
       "      <td>3430</td>\n",
       "      <td>8337</td>\n",
       "      <td>8307</td>\n",
       "    </tr>\n",
       "  </tbody>\n",
       "</table>\n",
       "<p>4 rows × 34 columns</p>\n",
       "</div>"
      ],
      "text/plain": [
       "       host_name  host_since                     host_location  \\\n",
       "count       8533        8533                              8522   \n",
       "unique      2313        2295                               264   \n",
       "top        Domio  2016-12-16  Chicago, Illinois, United States   \n",
       "freq         122         120                              6518   \n",
       "\n",
       "       host_response_time host_response_rate host_is_superhost  \\\n",
       "count                7709               7709              8533   \n",
       "unique                  4                 44                 2   \n",
       "top        within an hour               100%                 f   \n",
       "freq                 6270               6008              5113   \n",
       "\n",
       "       host_neighbourhood host_has_profile_pic host_identity_verified  \\\n",
       "count                7743                 8533                   8533   \n",
       "unique                125                    2                      2   \n",
       "top              Lakeview                    t                      f   \n",
       "freq                  578                 8514                   5218   \n",
       "\n",
       "                            street  ... extra_people calendar_updated  \\\n",
       "count                         8533  ...         8533             8533   \n",
       "unique                          27  ...           63               55   \n",
       "top     Chicago, IL, United States  ...        $0.00            today   \n",
       "freq                          8459  ...         3767             2027   \n",
       "\n",
       "       first_review last_review requires_license                    license  \\\n",
       "count          7338        7338             8533                       8313   \n",
       "unique         1688         591                2                       3797   \n",
       "top      2019-10-14  2019-11-17                t  City registration pending   \n",
       "freq             45         539             8475                       3044   \n",
       "\n",
       "       instant_bookable          cancellation_policy  \\\n",
       "count              8533                         8533   \n",
       "unique                2                            5   \n",
       "top                   f  strict_14_with_grace_period   \n",
       "freq               4327                         3430   \n",
       "\n",
       "       require_guest_profile_picture require_guest_phone_verification  \n",
       "count                           8533                             8533  \n",
       "unique                             2                                2  \n",
       "top                                f                                f  \n",
       "freq                            8337                             8307  \n",
       "\n",
       "[4 rows x 34 columns]"
      ]
     },
     "execution_count": 527,
     "metadata": {},
     "output_type": "execute_result"
    }
   ],
   "source": [
    "df.describe(include=[object])"
   ]
  },
  {
   "cell_type": "markdown",
   "metadata": {},
   "source": [
    "None of these are obvious candidates for removal. There are a lot related to host details. Let us examine those more closely."
   ]
  },
  {
   "cell_type": "code",
   "execution_count": 528,
   "metadata": {
    "scrolled": true
   },
   "outputs": [
    {
     "data": {
      "text/plain": [
       "['host_id',\n",
       " 'host_name',\n",
       " 'host_since',\n",
       " 'host_location',\n",
       " 'host_response_time',\n",
       " 'host_response_rate',\n",
       " 'host_is_superhost',\n",
       " 'host_neighbourhood',\n",
       " 'host_listings_count',\n",
       " 'host_total_listings_count',\n",
       " 'host_has_profile_pic',\n",
       " 'host_identity_verified',\n",
       " 'calculated_host_listings_count',\n",
       " 'calculated_host_listings_count_entire_homes',\n",
       " 'calculated_host_listings_count_private_rooms',\n",
       " 'calculated_host_listings_count_shared_rooms']"
      ]
     },
     "execution_count": 528,
     "metadata": {},
     "output_type": "execute_result"
    }
   ],
   "source": [
    "host_cols = [col for col in df.columns if 'host' in col]\n",
    "host_cols"
   ]
  },
  {
   "cell_type": "markdown",
   "metadata": {},
   "source": [
    "We should remove host identity details and rely solely on other details about the host."
   ]
  },
  {
   "cell_type": "code",
   "execution_count": 529,
   "metadata": {
    "scrolled": false
   },
   "outputs": [],
   "source": [
    "df.drop(['host_id','host_name'], axis=1, inplace=True)"
   ]
  },
  {
   "cell_type": "code",
   "execution_count": 530,
   "metadata": {
    "scrolled": false
   },
   "outputs": [
    {
     "data": {
      "text/html": [
       "<div>\n",
       "<style scoped>\n",
       "    .dataframe tbody tr th:only-of-type {\n",
       "        vertical-align: middle;\n",
       "    }\n",
       "\n",
       "    .dataframe tbody tr th {\n",
       "        vertical-align: top;\n",
       "    }\n",
       "\n",
       "    .dataframe thead th {\n",
       "        text-align: right;\n",
       "    }\n",
       "</style>\n",
       "<table border=\"1\" class=\"dataframe\">\n",
       "  <thead>\n",
       "    <tr style=\"text-align: right;\">\n",
       "      <th></th>\n",
       "      <th>host_since</th>\n",
       "      <th>host_location</th>\n",
       "      <th>host_response_time</th>\n",
       "      <th>host_response_rate</th>\n",
       "      <th>host_is_superhost</th>\n",
       "      <th>host_neighbourhood</th>\n",
       "      <th>host_listings_count</th>\n",
       "      <th>host_total_listings_count</th>\n",
       "      <th>host_has_profile_pic</th>\n",
       "      <th>host_identity_verified</th>\n",
       "      <th>calculated_host_listings_count</th>\n",
       "      <th>calculated_host_listings_count_entire_homes</th>\n",
       "      <th>calculated_host_listings_count_private_rooms</th>\n",
       "      <th>calculated_host_listings_count_shared_rooms</th>\n",
       "    </tr>\n",
       "  </thead>\n",
       "  <tbody>\n",
       "    <tr>\n",
       "      <th>0</th>\n",
       "      <td>2008-08-29</td>\n",
       "      <td>Chicago, Illinois, United States</td>\n",
       "      <td>within an hour</td>\n",
       "      <td>100%</td>\n",
       "      <td>t</td>\n",
       "      <td>Hyde Park</td>\n",
       "      <td>1</td>\n",
       "      <td>1</td>\n",
       "      <td>t</td>\n",
       "      <td>t</td>\n",
       "      <td>1</td>\n",
       "      <td>0</td>\n",
       "      <td>1</td>\n",
       "      <td>0</td>\n",
       "    </tr>\n",
       "    <tr>\n",
       "      <th>1</th>\n",
       "      <td>2008-12-29</td>\n",
       "      <td>Chicago, Illinois, United States</td>\n",
       "      <td>within a few hours</td>\n",
       "      <td>100%</td>\n",
       "      <td>t</td>\n",
       "      <td>Little Village</td>\n",
       "      <td>1</td>\n",
       "      <td>1</td>\n",
       "      <td>t</td>\n",
       "      <td>t</td>\n",
       "      <td>1</td>\n",
       "      <td>1</td>\n",
       "      <td>0</td>\n",
       "      <td>0</td>\n",
       "    </tr>\n",
       "    <tr>\n",
       "      <th>2</th>\n",
       "      <td>2009-05-19</td>\n",
       "      <td>Chicago, Illinois, United States</td>\n",
       "      <td>within an hour</td>\n",
       "      <td>100%</td>\n",
       "      <td>t</td>\n",
       "      <td>Ukrainian Village</td>\n",
       "      <td>2</td>\n",
       "      <td>2</td>\n",
       "      <td>t</td>\n",
       "      <td>f</td>\n",
       "      <td>1</td>\n",
       "      <td>1</td>\n",
       "      <td>0</td>\n",
       "      <td>0</td>\n",
       "    </tr>\n",
       "    <tr>\n",
       "      <th>3</th>\n",
       "      <td>2009-08-21</td>\n",
       "      <td>Chicago, Illinois, United States</td>\n",
       "      <td>within an hour</td>\n",
       "      <td>94%</td>\n",
       "      <td>f</td>\n",
       "      <td>Old Town</td>\n",
       "      <td>10</td>\n",
       "      <td>10</td>\n",
       "      <td>t</td>\n",
       "      <td>t</td>\n",
       "      <td>11</td>\n",
       "      <td>11</td>\n",
       "      <td>0</td>\n",
       "      <td>0</td>\n",
       "    </tr>\n",
       "    <tr>\n",
       "      <th>4</th>\n",
       "      <td>2008-08-16</td>\n",
       "      <td>Aurora, Illinois, United States</td>\n",
       "      <td>within an hour</td>\n",
       "      <td>75%</td>\n",
       "      <td>f</td>\n",
       "      <td>Hyde Park</td>\n",
       "      <td>5</td>\n",
       "      <td>5</td>\n",
       "      <td>t</td>\n",
       "      <td>t</td>\n",
       "      <td>5</td>\n",
       "      <td>1</td>\n",
       "      <td>4</td>\n",
       "      <td>0</td>\n",
       "    </tr>\n",
       "  </tbody>\n",
       "</table>\n",
       "</div>"
      ],
      "text/plain": [
       "   host_since                     host_location  host_response_time  \\\n",
       "0  2008-08-29  Chicago, Illinois, United States      within an hour   \n",
       "1  2008-12-29  Chicago, Illinois, United States  within a few hours   \n",
       "2  2009-05-19  Chicago, Illinois, United States      within an hour   \n",
       "3  2009-08-21  Chicago, Illinois, United States      within an hour   \n",
       "4  2008-08-16   Aurora, Illinois, United States      within an hour   \n",
       "\n",
       "  host_response_rate host_is_superhost host_neighbourhood  \\\n",
       "0               100%                 t          Hyde Park   \n",
       "1               100%                 t     Little Village   \n",
       "2               100%                 t  Ukrainian Village   \n",
       "3                94%                 f           Old Town   \n",
       "4                75%                 f          Hyde Park   \n",
       "\n",
       "   host_listings_count  host_total_listings_count host_has_profile_pic  \\\n",
       "0                    1                          1                    t   \n",
       "1                    1                          1                    t   \n",
       "2                    2                          2                    t   \n",
       "3                   10                         10                    t   \n",
       "4                    5                          5                    t   \n",
       "\n",
       "  host_identity_verified  calculated_host_listings_count  \\\n",
       "0                      t                               1   \n",
       "1                      t                               1   \n",
       "2                      f                               1   \n",
       "3                      t                              11   \n",
       "4                      t                               5   \n",
       "\n",
       "   calculated_host_listings_count_entire_homes  \\\n",
       "0                                            0   \n",
       "1                                            1   \n",
       "2                                            1   \n",
       "3                                           11   \n",
       "4                                            1   \n",
       "\n",
       "   calculated_host_listings_count_private_rooms  \\\n",
       "0                                             1   \n",
       "1                                             0   \n",
       "2                                             0   \n",
       "3                                             0   \n",
       "4                                             4   \n",
       "\n",
       "   calculated_host_listings_count_shared_rooms  \n",
       "0                                            0  \n",
       "1                                            0  \n",
       "2                                            0  \n",
       "3                                            0  \n",
       "4                                            0  "
      ]
     },
     "execution_count": 530,
     "metadata": {},
     "output_type": "execute_result"
    }
   ],
   "source": [
    "host_cols.remove('host_id')\n",
    "host_cols.remove('host_name')\n",
    "df[host_cols].head()"
   ]
  },
  {
   "cell_type": "code",
   "execution_count": 531,
   "metadata": {
    "scrolled": false
   },
   "outputs": [],
   "source": [
    "df.drop(['host_location','host_total_listings_count','calculated_host_listings_count','calculated_host_listings_count_entire_homes','calculated_host_listings_count_private_rooms','calculated_host_listings_count_shared_rooms'], axis=1, inplace=True)"
   ]
  },
  {
   "cell_type": "markdown",
   "metadata": {},
   "source": [
    "Now let us review columns with \"review in the name"
   ]
  },
  {
   "cell_type": "code",
   "execution_count": 532,
   "metadata": {
    "scrolled": false
   },
   "outputs": [
    {
     "data": {
      "text/plain": [
       "['number_of_reviews',\n",
       " 'number_of_reviews_ltm',\n",
       " 'first_review',\n",
       " 'last_review',\n",
       " 'review_scores_rating',\n",
       " 'review_scores_accuracy',\n",
       " 'review_scores_cleanliness',\n",
       " 'review_scores_checkin',\n",
       " 'review_scores_communication',\n",
       " 'review_scores_location',\n",
       " 'review_scores_value',\n",
       " 'reviews_per_month']"
      ]
     },
     "execution_count": 532,
     "metadata": {},
     "output_type": "execute_result"
    }
   ],
   "source": [
    "review_cols = [col for col in df.columns if 'review' in col]\n",
    "review_cols"
   ]
  },
  {
   "cell_type": "code",
   "execution_count": 533,
   "metadata": {
    "scrolled": false
   },
   "outputs": [
    {
     "data": {
      "text/html": [
       "<div>\n",
       "<style scoped>\n",
       "    .dataframe tbody tr th:only-of-type {\n",
       "        vertical-align: middle;\n",
       "    }\n",
       "\n",
       "    .dataframe tbody tr th {\n",
       "        vertical-align: top;\n",
       "    }\n",
       "\n",
       "    .dataframe thead th {\n",
       "        text-align: right;\n",
       "    }\n",
       "</style>\n",
       "<table border=\"1\" class=\"dataframe\">\n",
       "  <thead>\n",
       "    <tr style=\"text-align: right;\">\n",
       "      <th></th>\n",
       "      <th>number_of_reviews</th>\n",
       "      <th>number_of_reviews_ltm</th>\n",
       "      <th>first_review</th>\n",
       "      <th>last_review</th>\n",
       "      <th>review_scores_rating</th>\n",
       "      <th>review_scores_accuracy</th>\n",
       "      <th>review_scores_cleanliness</th>\n",
       "      <th>review_scores_checkin</th>\n",
       "      <th>review_scores_communication</th>\n",
       "      <th>review_scores_location</th>\n",
       "      <th>review_scores_value</th>\n",
       "      <th>reviews_per_month</th>\n",
       "    </tr>\n",
       "  </thead>\n",
       "  <tbody>\n",
       "    <tr>\n",
       "      <th>0</th>\n",
       "      <td>176</td>\n",
       "      <td>39</td>\n",
       "      <td>2015-01-09</td>\n",
       "      <td>2019-11-13</td>\n",
       "      <td>100.0</td>\n",
       "      <td>10.0</td>\n",
       "      <td>10.0</td>\n",
       "      <td>10.0</td>\n",
       "      <td>10.0</td>\n",
       "      <td>10.0</td>\n",
       "      <td>10.0</td>\n",
       "      <td>2.97</td>\n",
       "    </tr>\n",
       "    <tr>\n",
       "      <th>1</th>\n",
       "      <td>390</td>\n",
       "      <td>25</td>\n",
       "      <td>2009-03-06</td>\n",
       "      <td>2019-11-10</td>\n",
       "      <td>96.0</td>\n",
       "      <td>10.0</td>\n",
       "      <td>9.0</td>\n",
       "      <td>10.0</td>\n",
       "      <td>10.0</td>\n",
       "      <td>9.0</td>\n",
       "      <td>9.0</td>\n",
       "      <td>2.99</td>\n",
       "    </tr>\n",
       "    <tr>\n",
       "      <th>2</th>\n",
       "      <td>370</td>\n",
       "      <td>48</td>\n",
       "      <td>2009-07-03</td>\n",
       "      <td>2019-11-04</td>\n",
       "      <td>93.0</td>\n",
       "      <td>10.0</td>\n",
       "      <td>9.0</td>\n",
       "      <td>10.0</td>\n",
       "      <td>10.0</td>\n",
       "      <td>10.0</td>\n",
       "      <td>10.0</td>\n",
       "      <td>2.93</td>\n",
       "    </tr>\n",
       "    <tr>\n",
       "      <th>3</th>\n",
       "      <td>49</td>\n",
       "      <td>16</td>\n",
       "      <td>2014-04-15</td>\n",
       "      <td>2019-10-23</td>\n",
       "      <td>92.0</td>\n",
       "      <td>10.0</td>\n",
       "      <td>9.0</td>\n",
       "      <td>10.0</td>\n",
       "      <td>9.0</td>\n",
       "      <td>10.0</td>\n",
       "      <td>9.0</td>\n",
       "      <td>0.72</td>\n",
       "    </tr>\n",
       "    <tr>\n",
       "      <th>4</th>\n",
       "      <td>43</td>\n",
       "      <td>11</td>\n",
       "      <td>2014-10-25</td>\n",
       "      <td>2019-10-28</td>\n",
       "      <td>82.0</td>\n",
       "      <td>8.0</td>\n",
       "      <td>7.0</td>\n",
       "      <td>9.0</td>\n",
       "      <td>9.0</td>\n",
       "      <td>10.0</td>\n",
       "      <td>9.0</td>\n",
       "      <td>0.70</td>\n",
       "    </tr>\n",
       "  </tbody>\n",
       "</table>\n",
       "</div>"
      ],
      "text/plain": [
       "   number_of_reviews  number_of_reviews_ltm first_review last_review  \\\n",
       "0                176                     39   2015-01-09  2019-11-13   \n",
       "1                390                     25   2009-03-06  2019-11-10   \n",
       "2                370                     48   2009-07-03  2019-11-04   \n",
       "3                 49                     16   2014-04-15  2019-10-23   \n",
       "4                 43                     11   2014-10-25  2019-10-28   \n",
       "\n",
       "   review_scores_rating  review_scores_accuracy  review_scores_cleanliness  \\\n",
       "0                 100.0                    10.0                       10.0   \n",
       "1                  96.0                    10.0                        9.0   \n",
       "2                  93.0                    10.0                        9.0   \n",
       "3                  92.0                    10.0                        9.0   \n",
       "4                  82.0                     8.0                        7.0   \n",
       "\n",
       "   review_scores_checkin  review_scores_communication  review_scores_location  \\\n",
       "0                   10.0                         10.0                    10.0   \n",
       "1                   10.0                         10.0                     9.0   \n",
       "2                   10.0                         10.0                    10.0   \n",
       "3                   10.0                          9.0                    10.0   \n",
       "4                    9.0                          9.0                    10.0   \n",
       "\n",
       "   review_scores_value  reviews_per_month  \n",
       "0                 10.0               2.97  \n",
       "1                  9.0               2.99  \n",
       "2                 10.0               2.93  \n",
       "3                  9.0               0.72  \n",
       "4                  9.0               0.70  "
      ]
     },
     "execution_count": 533,
     "metadata": {},
     "output_type": "execute_result"
    }
   ],
   "source": [
    "# Examine some of the data of those columns\n",
    "df[review_cols].head()"
   ]
  },
  {
   "cell_type": "code",
   "execution_count": 534,
   "metadata": {
    "scrolled": false
   },
   "outputs": [],
   "source": [
    "# Drop the ones the don't look useful\n",
    "df.drop(['first_review','last_review','reviews_per_month'], axis=1, inplace=True)"
   ]
  },
  {
   "cell_type": "markdown",
   "metadata": {},
   "source": [
    "Check the remaining data."
   ]
  },
  {
   "cell_type": "code",
   "execution_count": 535,
   "metadata": {
    "scrolled": true
   },
   "outputs": [
    {
     "data": {
      "text/html": [
       "<div>\n",
       "<style scoped>\n",
       "    .dataframe tbody tr th:only-of-type {\n",
       "        vertical-align: middle;\n",
       "    }\n",
       "\n",
       "    .dataframe tbody tr th {\n",
       "        vertical-align: top;\n",
       "    }\n",
       "\n",
       "    .dataframe thead th {\n",
       "        text-align: right;\n",
       "    }\n",
       "</style>\n",
       "<table border=\"1\" class=\"dataframe\">\n",
       "  <thead>\n",
       "    <tr style=\"text-align: right;\">\n",
       "      <th></th>\n",
       "      <th>host_since</th>\n",
       "      <th>host_response_time</th>\n",
       "      <th>host_response_rate</th>\n",
       "      <th>host_is_superhost</th>\n",
       "      <th>host_neighbourhood</th>\n",
       "      <th>host_listings_count</th>\n",
       "      <th>host_has_profile_pic</th>\n",
       "      <th>host_identity_verified</th>\n",
       "      <th>street</th>\n",
       "      <th>neighbourhood</th>\n",
       "      <th>...</th>\n",
       "      <th>review_scores_checkin</th>\n",
       "      <th>review_scores_communication</th>\n",
       "      <th>review_scores_location</th>\n",
       "      <th>review_scores_value</th>\n",
       "      <th>requires_license</th>\n",
       "      <th>license</th>\n",
       "      <th>instant_bookable</th>\n",
       "      <th>cancellation_policy</th>\n",
       "      <th>require_guest_profile_picture</th>\n",
       "      <th>require_guest_phone_verification</th>\n",
       "    </tr>\n",
       "  </thead>\n",
       "  <tbody>\n",
       "    <tr>\n",
       "      <th>0</th>\n",
       "      <td>2008-08-29</td>\n",
       "      <td>within an hour</td>\n",
       "      <td>100%</td>\n",
       "      <td>t</td>\n",
       "      <td>Hyde Park</td>\n",
       "      <td>1</td>\n",
       "      <td>t</td>\n",
       "      <td>t</td>\n",
       "      <td>Chicago, IL, United States</td>\n",
       "      <td>Hyde Park</td>\n",
       "      <td>...</td>\n",
       "      <td>10.0</td>\n",
       "      <td>10.0</td>\n",
       "      <td>10.0</td>\n",
       "      <td>10.0</td>\n",
       "      <td>t</td>\n",
       "      <td>NaN</td>\n",
       "      <td>f</td>\n",
       "      <td>strict_14_with_grace_period</td>\n",
       "      <td>f</td>\n",
       "      <td>f</td>\n",
       "    </tr>\n",
       "    <tr>\n",
       "      <th>1</th>\n",
       "      <td>2008-12-29</td>\n",
       "      <td>within a few hours</td>\n",
       "      <td>100%</td>\n",
       "      <td>t</td>\n",
       "      <td>Little Village</td>\n",
       "      <td>1</td>\n",
       "      <td>t</td>\n",
       "      <td>t</td>\n",
       "      <td>Chicago, IL, United States</td>\n",
       "      <td>Little Village</td>\n",
       "      <td>...</td>\n",
       "      <td>10.0</td>\n",
       "      <td>10.0</td>\n",
       "      <td>9.0</td>\n",
       "      <td>9.0</td>\n",
       "      <td>t</td>\n",
       "      <td>R19000037538</td>\n",
       "      <td>t</td>\n",
       "      <td>moderate</td>\n",
       "      <td>f</td>\n",
       "      <td>f</td>\n",
       "    </tr>\n",
       "    <tr>\n",
       "      <th>2</th>\n",
       "      <td>2009-05-19</td>\n",
       "      <td>within an hour</td>\n",
       "      <td>100%</td>\n",
       "      <td>t</td>\n",
       "      <td>Ukrainian Village</td>\n",
       "      <td>2</td>\n",
       "      <td>t</td>\n",
       "      <td>f</td>\n",
       "      <td>Chicago, IL, United States</td>\n",
       "      <td>Ukrainian Village</td>\n",
       "      <td>...</td>\n",
       "      <td>10.0</td>\n",
       "      <td>10.0</td>\n",
       "      <td>10.0</td>\n",
       "      <td>10.0</td>\n",
       "      <td>t</td>\n",
       "      <td>City registration pending</td>\n",
       "      <td>f</td>\n",
       "      <td>moderate</td>\n",
       "      <td>f</td>\n",
       "      <td>f</td>\n",
       "    </tr>\n",
       "    <tr>\n",
       "      <th>3</th>\n",
       "      <td>2009-08-21</td>\n",
       "      <td>within an hour</td>\n",
       "      <td>94%</td>\n",
       "      <td>f</td>\n",
       "      <td>Old Town</td>\n",
       "      <td>10</td>\n",
       "      <td>t</td>\n",
       "      <td>t</td>\n",
       "      <td>Chicago, IL, United States</td>\n",
       "      <td>Old Town</td>\n",
       "      <td>...</td>\n",
       "      <td>10.0</td>\n",
       "      <td>9.0</td>\n",
       "      <td>10.0</td>\n",
       "      <td>9.0</td>\n",
       "      <td>t</td>\n",
       "      <td>2079260</td>\n",
       "      <td>t</td>\n",
       "      <td>strict_14_with_grace_period</td>\n",
       "      <td>f</td>\n",
       "      <td>f</td>\n",
       "    </tr>\n",
       "    <tr>\n",
       "      <th>4</th>\n",
       "      <td>2008-08-16</td>\n",
       "      <td>within an hour</td>\n",
       "      <td>75%</td>\n",
       "      <td>f</td>\n",
       "      <td>Hyde Park</td>\n",
       "      <td>5</td>\n",
       "      <td>t</td>\n",
       "      <td>t</td>\n",
       "      <td>Chicago, IL, United States</td>\n",
       "      <td>Hyde Park</td>\n",
       "      <td>...</td>\n",
       "      <td>9.0</td>\n",
       "      <td>9.0</td>\n",
       "      <td>10.0</td>\n",
       "      <td>9.0</td>\n",
       "      <td>t</td>\n",
       "      <td>City registration pending</td>\n",
       "      <td>t</td>\n",
       "      <td>moderate</td>\n",
       "      <td>f</td>\n",
       "      <td>f</td>\n",
       "    </tr>\n",
       "  </tbody>\n",
       "</table>\n",
       "<p>5 rows × 59 columns</p>\n",
       "</div>"
      ],
      "text/plain": [
       "   host_since  host_response_time host_response_rate host_is_superhost  \\\n",
       "0  2008-08-29      within an hour               100%                 t   \n",
       "1  2008-12-29  within a few hours               100%                 t   \n",
       "2  2009-05-19      within an hour               100%                 t   \n",
       "3  2009-08-21      within an hour                94%                 f   \n",
       "4  2008-08-16      within an hour                75%                 f   \n",
       "\n",
       "  host_neighbourhood  host_listings_count host_has_profile_pic  \\\n",
       "0          Hyde Park                    1                    t   \n",
       "1     Little Village                    1                    t   \n",
       "2  Ukrainian Village                    2                    t   \n",
       "3           Old Town                   10                    t   \n",
       "4          Hyde Park                    5                    t   \n",
       "\n",
       "  host_identity_verified                      street      neighbourhood  ...  \\\n",
       "0                      t  Chicago, IL, United States          Hyde Park  ...   \n",
       "1                      t  Chicago, IL, United States     Little Village  ...   \n",
       "2                      f  Chicago, IL, United States  Ukrainian Village  ...   \n",
       "3                      t  Chicago, IL, United States           Old Town  ...   \n",
       "4                      t  Chicago, IL, United States          Hyde Park  ...   \n",
       "\n",
       "  review_scores_checkin review_scores_communication review_scores_location  \\\n",
       "0                  10.0                        10.0                   10.0   \n",
       "1                  10.0                        10.0                    9.0   \n",
       "2                  10.0                        10.0                   10.0   \n",
       "3                  10.0                         9.0                   10.0   \n",
       "4                   9.0                         9.0                   10.0   \n",
       "\n",
       "  review_scores_value requires_license                    license  \\\n",
       "0                10.0                t                        NaN   \n",
       "1                 9.0                t               R19000037538   \n",
       "2                10.0                t  City registration pending   \n",
       "3                 9.0                t                    2079260   \n",
       "4                 9.0                t  City registration pending   \n",
       "\n",
       "   instant_bookable          cancellation_policy  \\\n",
       "0                 f  strict_14_with_grace_period   \n",
       "1                 t                     moderate   \n",
       "2                 f                     moderate   \n",
       "3                 t  strict_14_with_grace_period   \n",
       "4                 t                     moderate   \n",
       "\n",
       "  require_guest_profile_picture require_guest_phone_verification  \n",
       "0                             f                                f  \n",
       "1                             f                                f  \n",
       "2                             f                                f  \n",
       "3                             f                                f  \n",
       "4                             f                                f  \n",
       "\n",
       "[5 rows x 59 columns]"
      ]
     },
     "execution_count": 535,
     "metadata": {},
     "output_type": "execute_result"
    }
   ],
   "source": [
    "df.head()"
   ]
  },
  {
   "cell_type": "code",
   "execution_count": 536,
   "metadata": {
    "scrolled": true
   },
   "outputs": [
    {
     "data": {
      "text/html": [
       "<div>\n",
       "<style scoped>\n",
       "    .dataframe tbody tr th:only-of-type {\n",
       "        vertical-align: middle;\n",
       "    }\n",
       "\n",
       "    .dataframe tbody tr th {\n",
       "        vertical-align: top;\n",
       "    }\n",
       "\n",
       "    .dataframe thead th {\n",
       "        text-align: right;\n",
       "    }\n",
       "</style>\n",
       "<table border=\"1\" class=\"dataframe\">\n",
       "  <thead>\n",
       "    <tr style=\"text-align: right;\">\n",
       "      <th></th>\n",
       "      <th>host_listings_count</th>\n",
       "      <th>latitude</th>\n",
       "      <th>longitude</th>\n",
       "      <th>accommodates</th>\n",
       "      <th>bathrooms</th>\n",
       "      <th>bedrooms</th>\n",
       "      <th>beds</th>\n",
       "      <th>guests_included</th>\n",
       "      <th>minimum_nights</th>\n",
       "      <th>maximum_nights</th>\n",
       "      <th>...</th>\n",
       "      <th>availability_365</th>\n",
       "      <th>number_of_reviews</th>\n",
       "      <th>number_of_reviews_ltm</th>\n",
       "      <th>review_scores_rating</th>\n",
       "      <th>review_scores_accuracy</th>\n",
       "      <th>review_scores_cleanliness</th>\n",
       "      <th>review_scores_checkin</th>\n",
       "      <th>review_scores_communication</th>\n",
       "      <th>review_scores_location</th>\n",
       "      <th>review_scores_value</th>\n",
       "    </tr>\n",
       "  </thead>\n",
       "  <tbody>\n",
       "    <tr>\n",
       "      <th>count</th>\n",
       "      <td>8533.000000</td>\n",
       "      <td>8533.000000</td>\n",
       "      <td>8533.000000</td>\n",
       "      <td>8533.000000</td>\n",
       "      <td>8530.000000</td>\n",
       "      <td>8529.000000</td>\n",
       "      <td>8528.000000</td>\n",
       "      <td>8533.000000</td>\n",
       "      <td>8533.000000</td>\n",
       "      <td>8533.000000</td>\n",
       "      <td>...</td>\n",
       "      <td>8533.000000</td>\n",
       "      <td>8533.000000</td>\n",
       "      <td>8533.000000</td>\n",
       "      <td>7289.000000</td>\n",
       "      <td>7289.000000</td>\n",
       "      <td>7289.000000</td>\n",
       "      <td>7288.000000</td>\n",
       "      <td>7287.000000</td>\n",
       "      <td>7288.000000</td>\n",
       "      <td>7288.000000</td>\n",
       "    </tr>\n",
       "    <tr>\n",
       "      <th>mean</th>\n",
       "      <td>48.762920</td>\n",
       "      <td>41.900679</td>\n",
       "      <td>-87.664596</td>\n",
       "      <td>4.331654</td>\n",
       "      <td>1.376436</td>\n",
       "      <td>1.643217</td>\n",
       "      <td>2.247420</td>\n",
       "      <td>2.248682</td>\n",
       "      <td>5.577523</td>\n",
       "      <td>663.607641</td>\n",
       "      <td>...</td>\n",
       "      <td>177.255362</td>\n",
       "      <td>41.096215</td>\n",
       "      <td>17.811907</td>\n",
       "      <td>95.187817</td>\n",
       "      <td>9.732748</td>\n",
       "      <td>9.576074</td>\n",
       "      <td>9.818880</td>\n",
       "      <td>9.822012</td>\n",
       "      <td>9.691136</td>\n",
       "      <td>9.510291</td>\n",
       "    </tr>\n",
       "    <tr>\n",
       "      <th>std</th>\n",
       "      <td>201.148225</td>\n",
       "      <td>0.057041</td>\n",
       "      <td>0.041218</td>\n",
       "      <td>2.972712</td>\n",
       "      <td>0.779565</td>\n",
       "      <td>1.200537</td>\n",
       "      <td>1.972722</td>\n",
       "      <td>2.012976</td>\n",
       "      <td>21.054040</td>\n",
       "      <td>530.573434</td>\n",
       "      <td>...</td>\n",
       "      <td>130.468250</td>\n",
       "      <td>60.453440</td>\n",
       "      <td>22.062863</td>\n",
       "      <td>6.671592</td>\n",
       "      <td>0.668751</td>\n",
       "      <td>0.751149</td>\n",
       "      <td>0.572567</td>\n",
       "      <td>0.565276</td>\n",
       "      <td>0.660159</td>\n",
       "      <td>0.739338</td>\n",
       "    </tr>\n",
       "    <tr>\n",
       "      <th>min</th>\n",
       "      <td>0.000000</td>\n",
       "      <td>41.650990</td>\n",
       "      <td>-87.934660</td>\n",
       "      <td>1.000000</td>\n",
       "      <td>0.000000</td>\n",
       "      <td>0.000000</td>\n",
       "      <td>0.000000</td>\n",
       "      <td>1.000000</td>\n",
       "      <td>1.000000</td>\n",
       "      <td>1.000000</td>\n",
       "      <td>...</td>\n",
       "      <td>0.000000</td>\n",
       "      <td>0.000000</td>\n",
       "      <td>0.000000</td>\n",
       "      <td>20.000000</td>\n",
       "      <td>2.000000</td>\n",
       "      <td>2.000000</td>\n",
       "      <td>2.000000</td>\n",
       "      <td>2.000000</td>\n",
       "      <td>2.000000</td>\n",
       "      <td>2.000000</td>\n",
       "    </tr>\n",
       "    <tr>\n",
       "      <th>25%</th>\n",
       "      <td>1.000000</td>\n",
       "      <td>41.874500</td>\n",
       "      <td>-87.686930</td>\n",
       "      <td>2.000000</td>\n",
       "      <td>1.000000</td>\n",
       "      <td>1.000000</td>\n",
       "      <td>1.000000</td>\n",
       "      <td>1.000000</td>\n",
       "      <td>1.000000</td>\n",
       "      <td>30.000000</td>\n",
       "      <td>...</td>\n",
       "      <td>64.000000</td>\n",
       "      <td>3.000000</td>\n",
       "      <td>1.000000</td>\n",
       "      <td>93.000000</td>\n",
       "      <td>10.000000</td>\n",
       "      <td>9.000000</td>\n",
       "      <td>10.000000</td>\n",
       "      <td>10.000000</td>\n",
       "      <td>10.000000</td>\n",
       "      <td>9.000000</td>\n",
       "    </tr>\n",
       "    <tr>\n",
       "      <th>50%</th>\n",
       "      <td>2.000000</td>\n",
       "      <td>41.902960</td>\n",
       "      <td>-87.661150</td>\n",
       "      <td>4.000000</td>\n",
       "      <td>1.000000</td>\n",
       "      <td>1.000000</td>\n",
       "      <td>2.000000</td>\n",
       "      <td>1.000000</td>\n",
       "      <td>2.000000</td>\n",
       "      <td>1125.000000</td>\n",
       "      <td>...</td>\n",
       "      <td>162.000000</td>\n",
       "      <td>17.000000</td>\n",
       "      <td>9.000000</td>\n",
       "      <td>97.000000</td>\n",
       "      <td>10.000000</td>\n",
       "      <td>10.000000</td>\n",
       "      <td>10.000000</td>\n",
       "      <td>10.000000</td>\n",
       "      <td>10.000000</td>\n",
       "      <td>10.000000</td>\n",
       "    </tr>\n",
       "    <tr>\n",
       "      <th>75%</th>\n",
       "      <td>8.000000</td>\n",
       "      <td>41.940000</td>\n",
       "      <td>-87.634400</td>\n",
       "      <td>6.000000</td>\n",
       "      <td>2.000000</td>\n",
       "      <td>2.000000</td>\n",
       "      <td>3.000000</td>\n",
       "      <td>3.000000</td>\n",
       "      <td>2.000000</td>\n",
       "      <td>1125.000000</td>\n",
       "      <td>...</td>\n",
       "      <td>323.000000</td>\n",
       "      <td>54.000000</td>\n",
       "      <td>27.000000</td>\n",
       "      <td>99.000000</td>\n",
       "      <td>10.000000</td>\n",
       "      <td>10.000000</td>\n",
       "      <td>10.000000</td>\n",
       "      <td>10.000000</td>\n",
       "      <td>10.000000</td>\n",
       "      <td>10.000000</td>\n",
       "    </tr>\n",
       "    <tr>\n",
       "      <th>max</th>\n",
       "      <td>1820.000000</td>\n",
       "      <td>42.022280</td>\n",
       "      <td>-87.537900</td>\n",
       "      <td>32.000000</td>\n",
       "      <td>21.000000</td>\n",
       "      <td>24.000000</td>\n",
       "      <td>50.000000</td>\n",
       "      <td>16.000000</td>\n",
       "      <td>1000.000000</td>\n",
       "      <td>9000.000000</td>\n",
       "      <td>...</td>\n",
       "      <td>365.000000</td>\n",
       "      <td>603.000000</td>\n",
       "      <td>279.000000</td>\n",
       "      <td>100.000000</td>\n",
       "      <td>10.000000</td>\n",
       "      <td>10.000000</td>\n",
       "      <td>10.000000</td>\n",
       "      <td>10.000000</td>\n",
       "      <td>10.000000</td>\n",
       "      <td>10.000000</td>\n",
       "    </tr>\n",
       "  </tbody>\n",
       "</table>\n",
       "<p>8 rows × 29 columns</p>\n",
       "</div>"
      ],
      "text/plain": [
       "       host_listings_count     latitude    longitude  accommodates  \\\n",
       "count          8533.000000  8533.000000  8533.000000   8533.000000   \n",
       "mean             48.762920    41.900679   -87.664596      4.331654   \n",
       "std             201.148225     0.057041     0.041218      2.972712   \n",
       "min               0.000000    41.650990   -87.934660      1.000000   \n",
       "25%               1.000000    41.874500   -87.686930      2.000000   \n",
       "50%               2.000000    41.902960   -87.661150      4.000000   \n",
       "75%               8.000000    41.940000   -87.634400      6.000000   \n",
       "max            1820.000000    42.022280   -87.537900     32.000000   \n",
       "\n",
       "         bathrooms     bedrooms         beds  guests_included  minimum_nights  \\\n",
       "count  8530.000000  8529.000000  8528.000000      8533.000000     8533.000000   \n",
       "mean      1.376436     1.643217     2.247420         2.248682        5.577523   \n",
       "std       0.779565     1.200537     1.972722         2.012976       21.054040   \n",
       "min       0.000000     0.000000     0.000000         1.000000        1.000000   \n",
       "25%       1.000000     1.000000     1.000000         1.000000        1.000000   \n",
       "50%       1.000000     1.000000     2.000000         1.000000        2.000000   \n",
       "75%       2.000000     2.000000     3.000000         3.000000        2.000000   \n",
       "max      21.000000    24.000000    50.000000        16.000000     1000.000000   \n",
       "\n",
       "       maximum_nights  ...  availability_365  number_of_reviews  \\\n",
       "count     8533.000000  ...       8533.000000        8533.000000   \n",
       "mean       663.607641  ...        177.255362          41.096215   \n",
       "std        530.573434  ...        130.468250          60.453440   \n",
       "min          1.000000  ...          0.000000           0.000000   \n",
       "25%         30.000000  ...         64.000000           3.000000   \n",
       "50%       1125.000000  ...        162.000000          17.000000   \n",
       "75%       1125.000000  ...        323.000000          54.000000   \n",
       "max       9000.000000  ...        365.000000         603.000000   \n",
       "\n",
       "       number_of_reviews_ltm  review_scores_rating  review_scores_accuracy  \\\n",
       "count            8533.000000           7289.000000             7289.000000   \n",
       "mean               17.811907             95.187817                9.732748   \n",
       "std                22.062863              6.671592                0.668751   \n",
       "min                 0.000000             20.000000                2.000000   \n",
       "25%                 1.000000             93.000000               10.000000   \n",
       "50%                 9.000000             97.000000               10.000000   \n",
       "75%                27.000000             99.000000               10.000000   \n",
       "max               279.000000            100.000000               10.000000   \n",
       "\n",
       "       review_scores_cleanliness  review_scores_checkin  \\\n",
       "count                7289.000000            7288.000000   \n",
       "mean                    9.576074               9.818880   \n",
       "std                     0.751149               0.572567   \n",
       "min                     2.000000               2.000000   \n",
       "25%                     9.000000              10.000000   \n",
       "50%                    10.000000              10.000000   \n",
       "75%                    10.000000              10.000000   \n",
       "max                    10.000000              10.000000   \n",
       "\n",
       "       review_scores_communication  review_scores_location  \\\n",
       "count                  7287.000000             7288.000000   \n",
       "mean                      9.822012                9.691136   \n",
       "std                       0.565276                0.660159   \n",
       "min                       2.000000                2.000000   \n",
       "25%                      10.000000               10.000000   \n",
       "50%                      10.000000               10.000000   \n",
       "75%                      10.000000               10.000000   \n",
       "max                      10.000000               10.000000   \n",
       "\n",
       "       review_scores_value  \n",
       "count          7288.000000  \n",
       "mean              9.510291  \n",
       "std               0.739338  \n",
       "min               2.000000  \n",
       "25%               9.000000  \n",
       "50%              10.000000  \n",
       "75%              10.000000  \n",
       "max              10.000000  \n",
       "\n",
       "[8 rows x 29 columns]"
      ]
     },
     "execution_count": 536,
     "metadata": {},
     "output_type": "execute_result"
    }
   ],
   "source": [
    "df.describe()"
   ]
  },
  {
   "cell_type": "markdown",
   "metadata": {},
   "source": [
    "Drop more unnecessary columns"
   ]
  },
  {
   "cell_type": "code",
   "execution_count": 537,
   "metadata": {
    "scrolled": false
   },
   "outputs": [],
   "source": [
    "df.drop(['latitude','longitude','minimum_nights','maximum_nights'], axis=1, inplace=True)"
   ]
  },
  {
   "cell_type": "markdown",
   "metadata": {},
   "source": [
    "Check availability columns"
   ]
  },
  {
   "cell_type": "code",
   "execution_count": 538,
   "metadata": {
    "scrolled": false
   },
   "outputs": [
    {
     "data": {
      "text/plain": [
       "['availability_30', 'availability_60', 'availability_90', 'availability_365']"
      ]
     },
     "execution_count": 538,
     "metadata": {},
     "output_type": "execute_result"
    }
   ],
   "source": [
    "avail_cols = [col for col in df.columns if 'avail' in col]\n",
    "avail_cols"
   ]
  },
  {
   "cell_type": "code",
   "execution_count": 539,
   "metadata": {
    "scrolled": false
   },
   "outputs": [
    {
     "data": {
      "text/html": [
       "<div>\n",
       "<style scoped>\n",
       "    .dataframe tbody tr th:only-of-type {\n",
       "        vertical-align: middle;\n",
       "    }\n",
       "\n",
       "    .dataframe tbody tr th {\n",
       "        vertical-align: top;\n",
       "    }\n",
       "\n",
       "    .dataframe thead th {\n",
       "        text-align: right;\n",
       "    }\n",
       "</style>\n",
       "<table border=\"1\" class=\"dataframe\">\n",
       "  <thead>\n",
       "    <tr style=\"text-align: right;\">\n",
       "      <th></th>\n",
       "      <th>availability_30</th>\n",
       "      <th>availability_60</th>\n",
       "      <th>availability_90</th>\n",
       "      <th>availability_365</th>\n",
       "    </tr>\n",
       "  </thead>\n",
       "  <tbody>\n",
       "    <tr>\n",
       "      <th>0</th>\n",
       "      <td>21</td>\n",
       "      <td>44</td>\n",
       "      <td>74</td>\n",
       "      <td>349</td>\n",
       "    </tr>\n",
       "    <tr>\n",
       "      <th>1</th>\n",
       "      <td>11</td>\n",
       "      <td>41</td>\n",
       "      <td>71</td>\n",
       "      <td>251</td>\n",
       "    </tr>\n",
       "    <tr>\n",
       "      <th>2</th>\n",
       "      <td>10</td>\n",
       "      <td>28</td>\n",
       "      <td>56</td>\n",
       "      <td>328</td>\n",
       "    </tr>\n",
       "    <tr>\n",
       "      <th>3</th>\n",
       "      <td>10</td>\n",
       "      <td>10</td>\n",
       "      <td>14</td>\n",
       "      <td>289</td>\n",
       "    </tr>\n",
       "    <tr>\n",
       "      <th>4</th>\n",
       "      <td>18</td>\n",
       "      <td>48</td>\n",
       "      <td>78</td>\n",
       "      <td>258</td>\n",
       "    </tr>\n",
       "  </tbody>\n",
       "</table>\n",
       "</div>"
      ],
      "text/plain": [
       "   availability_30  availability_60  availability_90  availability_365\n",
       "0               21               44               74               349\n",
       "1               11               41               71               251\n",
       "2               10               28               56               328\n",
       "3               10               10               14               289\n",
       "4               18               48               78               258"
      ]
     },
     "execution_count": 539,
     "metadata": {},
     "output_type": "execute_result"
    }
   ],
   "source": [
    "df[avail_cols].head()"
   ]
  },
  {
   "cell_type": "code",
   "execution_count": 540,
   "metadata": {
    "scrolled": false
   },
   "outputs": [],
   "source": [
    "df.drop(avail_cols, axis=1, inplace=True)"
   ]
  },
  {
   "cell_type": "code",
   "execution_count": 541,
   "metadata": {
    "scrolled": false
   },
   "outputs": [
    {
     "data": {
      "text/html": [
       "<div>\n",
       "<style scoped>\n",
       "    .dataframe tbody tr th:only-of-type {\n",
       "        vertical-align: middle;\n",
       "    }\n",
       "\n",
       "    .dataframe tbody tr th {\n",
       "        vertical-align: top;\n",
       "    }\n",
       "\n",
       "    .dataframe thead th {\n",
       "        text-align: right;\n",
       "    }\n",
       "</style>\n",
       "<table border=\"1\" class=\"dataframe\">\n",
       "  <thead>\n",
       "    <tr style=\"text-align: right;\">\n",
       "      <th></th>\n",
       "      <th>host_listings_count</th>\n",
       "      <th>accommodates</th>\n",
       "      <th>bathrooms</th>\n",
       "      <th>bedrooms</th>\n",
       "      <th>beds</th>\n",
       "      <th>guests_included</th>\n",
       "      <th>minimum_minimum_nights</th>\n",
       "      <th>maximum_minimum_nights</th>\n",
       "      <th>minimum_maximum_nights</th>\n",
       "      <th>maximum_maximum_nights</th>\n",
       "      <th>...</th>\n",
       "      <th>maximum_nights_avg_ntm</th>\n",
       "      <th>number_of_reviews</th>\n",
       "      <th>number_of_reviews_ltm</th>\n",
       "      <th>review_scores_rating</th>\n",
       "      <th>review_scores_accuracy</th>\n",
       "      <th>review_scores_cleanliness</th>\n",
       "      <th>review_scores_checkin</th>\n",
       "      <th>review_scores_communication</th>\n",
       "      <th>review_scores_location</th>\n",
       "      <th>review_scores_value</th>\n",
       "    </tr>\n",
       "  </thead>\n",
       "  <tbody>\n",
       "    <tr>\n",
       "      <th>count</th>\n",
       "      <td>8533.000000</td>\n",
       "      <td>8533.000000</td>\n",
       "      <td>8530.000000</td>\n",
       "      <td>8529.000000</td>\n",
       "      <td>8528.000000</td>\n",
       "      <td>8533.000000</td>\n",
       "      <td>8533.000000</td>\n",
       "      <td>8533.000000</td>\n",
       "      <td>8.533000e+03</td>\n",
       "      <td>8.533000e+03</td>\n",
       "      <td>...</td>\n",
       "      <td>8.533000e+03</td>\n",
       "      <td>8533.000000</td>\n",
       "      <td>8533.000000</td>\n",
       "      <td>7289.000000</td>\n",
       "      <td>7289.000000</td>\n",
       "      <td>7289.000000</td>\n",
       "      <td>7288.000000</td>\n",
       "      <td>7287.000000</td>\n",
       "      <td>7288.000000</td>\n",
       "      <td>7288.000000</td>\n",
       "    </tr>\n",
       "    <tr>\n",
       "      <th>mean</th>\n",
       "      <td>48.762920</td>\n",
       "      <td>4.331654</td>\n",
       "      <td>1.376436</td>\n",
       "      <td>1.643217</td>\n",
       "      <td>2.247420</td>\n",
       "      <td>2.248682</td>\n",
       "      <td>5.322981</td>\n",
       "      <td>6.694246</td>\n",
       "      <td>1.762339e+06</td>\n",
       "      <td>2.517347e+06</td>\n",
       "      <td>...</td>\n",
       "      <td>1.947564e+06</td>\n",
       "      <td>41.096215</td>\n",
       "      <td>17.811907</td>\n",
       "      <td>95.187817</td>\n",
       "      <td>9.732748</td>\n",
       "      <td>9.576074</td>\n",
       "      <td>9.818880</td>\n",
       "      <td>9.822012</td>\n",
       "      <td>9.691136</td>\n",
       "      <td>9.510291</td>\n",
       "    </tr>\n",
       "    <tr>\n",
       "      <th>std</th>\n",
       "      <td>201.148225</td>\n",
       "      <td>2.972712</td>\n",
       "      <td>0.779565</td>\n",
       "      <td>1.200537</td>\n",
       "      <td>1.972722</td>\n",
       "      <td>2.012976</td>\n",
       "      <td>18.080120</td>\n",
       "      <td>21.713353</td>\n",
       "      <td>6.148584e+07</td>\n",
       "      <td>7.347671e+07</td>\n",
       "      <td>...</td>\n",
       "      <td>6.226890e+07</td>\n",
       "      <td>60.453440</td>\n",
       "      <td>22.062863</td>\n",
       "      <td>6.671592</td>\n",
       "      <td>0.668751</td>\n",
       "      <td>0.751149</td>\n",
       "      <td>0.572567</td>\n",
       "      <td>0.565276</td>\n",
       "      <td>0.660159</td>\n",
       "      <td>0.739338</td>\n",
       "    </tr>\n",
       "    <tr>\n",
       "      <th>min</th>\n",
       "      <td>0.000000</td>\n",
       "      <td>1.000000</td>\n",
       "      <td>0.000000</td>\n",
       "      <td>0.000000</td>\n",
       "      <td>0.000000</td>\n",
       "      <td>1.000000</td>\n",
       "      <td>1.000000</td>\n",
       "      <td>1.000000</td>\n",
       "      <td>1.000000e+00</td>\n",
       "      <td>1.000000e+00</td>\n",
       "      <td>...</td>\n",
       "      <td>1.000000e+00</td>\n",
       "      <td>0.000000</td>\n",
       "      <td>0.000000</td>\n",
       "      <td>20.000000</td>\n",
       "      <td>2.000000</td>\n",
       "      <td>2.000000</td>\n",
       "      <td>2.000000</td>\n",
       "      <td>2.000000</td>\n",
       "      <td>2.000000</td>\n",
       "      <td>2.000000</td>\n",
       "    </tr>\n",
       "    <tr>\n",
       "      <th>25%</th>\n",
       "      <td>1.000000</td>\n",
       "      <td>2.000000</td>\n",
       "      <td>1.000000</td>\n",
       "      <td>1.000000</td>\n",
       "      <td>1.000000</td>\n",
       "      <td>1.000000</td>\n",
       "      <td>1.000000</td>\n",
       "      <td>1.000000</td>\n",
       "      <td>3.000000e+01</td>\n",
       "      <td>3.000000e+01</td>\n",
       "      <td>...</td>\n",
       "      <td>3.000000e+01</td>\n",
       "      <td>3.000000</td>\n",
       "      <td>1.000000</td>\n",
       "      <td>93.000000</td>\n",
       "      <td>10.000000</td>\n",
       "      <td>9.000000</td>\n",
       "      <td>10.000000</td>\n",
       "      <td>10.000000</td>\n",
       "      <td>10.000000</td>\n",
       "      <td>9.000000</td>\n",
       "    </tr>\n",
       "    <tr>\n",
       "      <th>50%</th>\n",
       "      <td>2.000000</td>\n",
       "      <td>4.000000</td>\n",
       "      <td>1.000000</td>\n",
       "      <td>1.000000</td>\n",
       "      <td>2.000000</td>\n",
       "      <td>1.000000</td>\n",
       "      <td>2.000000</td>\n",
       "      <td>2.000000</td>\n",
       "      <td>1.125000e+03</td>\n",
       "      <td>1.125000e+03</td>\n",
       "      <td>...</td>\n",
       "      <td>1.125000e+03</td>\n",
       "      <td>17.000000</td>\n",
       "      <td>9.000000</td>\n",
       "      <td>97.000000</td>\n",
       "      <td>10.000000</td>\n",
       "      <td>10.000000</td>\n",
       "      <td>10.000000</td>\n",
       "      <td>10.000000</td>\n",
       "      <td>10.000000</td>\n",
       "      <td>10.000000</td>\n",
       "    </tr>\n",
       "    <tr>\n",
       "      <th>75%</th>\n",
       "      <td>8.000000</td>\n",
       "      <td>6.000000</td>\n",
       "      <td>2.000000</td>\n",
       "      <td>2.000000</td>\n",
       "      <td>3.000000</td>\n",
       "      <td>3.000000</td>\n",
       "      <td>2.000000</td>\n",
       "      <td>3.000000</td>\n",
       "      <td>1.125000e+03</td>\n",
       "      <td>1.125000e+03</td>\n",
       "      <td>...</td>\n",
       "      <td>1.125000e+03</td>\n",
       "      <td>54.000000</td>\n",
       "      <td>27.000000</td>\n",
       "      <td>99.000000</td>\n",
       "      <td>10.000000</td>\n",
       "      <td>10.000000</td>\n",
       "      <td>10.000000</td>\n",
       "      <td>10.000000</td>\n",
       "      <td>10.000000</td>\n",
       "      <td>10.000000</td>\n",
       "    </tr>\n",
       "    <tr>\n",
       "      <th>max</th>\n",
       "      <td>1820.000000</td>\n",
       "      <td>32.000000</td>\n",
       "      <td>21.000000</td>\n",
       "      <td>24.000000</td>\n",
       "      <td>50.000000</td>\n",
       "      <td>16.000000</td>\n",
       "      <td>500.000000</td>\n",
       "      <td>500.000000</td>\n",
       "      <td>2.147484e+09</td>\n",
       "      <td>2.147484e+09</td>\n",
       "      <td>...</td>\n",
       "      <td>2.147484e+09</td>\n",
       "      <td>603.000000</td>\n",
       "      <td>279.000000</td>\n",
       "      <td>100.000000</td>\n",
       "      <td>10.000000</td>\n",
       "      <td>10.000000</td>\n",
       "      <td>10.000000</td>\n",
       "      <td>10.000000</td>\n",
       "      <td>10.000000</td>\n",
       "      <td>10.000000</td>\n",
       "    </tr>\n",
       "  </tbody>\n",
       "</table>\n",
       "<p>8 rows × 21 columns</p>\n",
       "</div>"
      ],
      "text/plain": [
       "       host_listings_count  accommodates    bathrooms     bedrooms  \\\n",
       "count          8533.000000   8533.000000  8530.000000  8529.000000   \n",
       "mean             48.762920      4.331654     1.376436     1.643217   \n",
       "std             201.148225      2.972712     0.779565     1.200537   \n",
       "min               0.000000      1.000000     0.000000     0.000000   \n",
       "25%               1.000000      2.000000     1.000000     1.000000   \n",
       "50%               2.000000      4.000000     1.000000     1.000000   \n",
       "75%               8.000000      6.000000     2.000000     2.000000   \n",
       "max            1820.000000     32.000000    21.000000    24.000000   \n",
       "\n",
       "              beds  guests_included  minimum_minimum_nights  \\\n",
       "count  8528.000000      8533.000000             8533.000000   \n",
       "mean      2.247420         2.248682                5.322981   \n",
       "std       1.972722         2.012976               18.080120   \n",
       "min       0.000000         1.000000                1.000000   \n",
       "25%       1.000000         1.000000                1.000000   \n",
       "50%       2.000000         1.000000                2.000000   \n",
       "75%       3.000000         3.000000                2.000000   \n",
       "max      50.000000        16.000000              500.000000   \n",
       "\n",
       "       maximum_minimum_nights  minimum_maximum_nights  maximum_maximum_nights  \\\n",
       "count             8533.000000            8.533000e+03            8.533000e+03   \n",
       "mean                 6.694246            1.762339e+06            2.517347e+06   \n",
       "std                 21.713353            6.148584e+07            7.347671e+07   \n",
       "min                  1.000000            1.000000e+00            1.000000e+00   \n",
       "25%                  1.000000            3.000000e+01            3.000000e+01   \n",
       "50%                  2.000000            1.125000e+03            1.125000e+03   \n",
       "75%                  3.000000            1.125000e+03            1.125000e+03   \n",
       "max                500.000000            2.147484e+09            2.147484e+09   \n",
       "\n",
       "       ...  maximum_nights_avg_ntm  number_of_reviews  number_of_reviews_ltm  \\\n",
       "count  ...            8.533000e+03        8533.000000            8533.000000   \n",
       "mean   ...            1.947564e+06          41.096215              17.811907   \n",
       "std    ...            6.226890e+07          60.453440              22.062863   \n",
       "min    ...            1.000000e+00           0.000000               0.000000   \n",
       "25%    ...            3.000000e+01           3.000000               1.000000   \n",
       "50%    ...            1.125000e+03          17.000000               9.000000   \n",
       "75%    ...            1.125000e+03          54.000000              27.000000   \n",
       "max    ...            2.147484e+09         603.000000             279.000000   \n",
       "\n",
       "       review_scores_rating  review_scores_accuracy  \\\n",
       "count           7289.000000             7289.000000   \n",
       "mean              95.187817                9.732748   \n",
       "std                6.671592                0.668751   \n",
       "min               20.000000                2.000000   \n",
       "25%               93.000000               10.000000   \n",
       "50%               97.000000               10.000000   \n",
       "75%               99.000000               10.000000   \n",
       "max              100.000000               10.000000   \n",
       "\n",
       "       review_scores_cleanliness  review_scores_checkin  \\\n",
       "count                7289.000000            7288.000000   \n",
       "mean                    9.576074               9.818880   \n",
       "std                     0.751149               0.572567   \n",
       "min                     2.000000               2.000000   \n",
       "25%                     9.000000              10.000000   \n",
       "50%                    10.000000              10.000000   \n",
       "75%                    10.000000              10.000000   \n",
       "max                    10.000000              10.000000   \n",
       "\n",
       "       review_scores_communication  review_scores_location  \\\n",
       "count                  7287.000000             7288.000000   \n",
       "mean                      9.822012                9.691136   \n",
       "std                       0.565276                0.660159   \n",
       "min                       2.000000                2.000000   \n",
       "25%                      10.000000               10.000000   \n",
       "50%                      10.000000               10.000000   \n",
       "75%                      10.000000               10.000000   \n",
       "max                      10.000000               10.000000   \n",
       "\n",
       "       review_scores_value  \n",
       "count          7288.000000  \n",
       "mean              9.510291  \n",
       "std               0.739338  \n",
       "min               2.000000  \n",
       "25%               9.000000  \n",
       "50%              10.000000  \n",
       "75%              10.000000  \n",
       "max              10.000000  \n",
       "\n",
       "[8 rows x 21 columns]"
      ]
     },
     "execution_count": 541,
     "metadata": {},
     "output_type": "execute_result"
    }
   ],
   "source": [
    "df.describe()"
   ]
  },
  {
   "cell_type": "markdown",
   "metadata": {},
   "source": [
    "Let us check minimum and maximum nights."
   ]
  },
  {
   "cell_type": "code",
   "execution_count": 542,
   "metadata": {
    "scrolled": false
   },
   "outputs": [
    {
     "data": {
      "text/plain": [
       "['minimum_minimum_nights',\n",
       " 'maximum_minimum_nights',\n",
       " 'minimum_maximum_nights',\n",
       " 'minimum_nights_avg_ntm']"
      ]
     },
     "execution_count": 542,
     "metadata": {},
     "output_type": "execute_result"
    }
   ],
   "source": [
    "min_cols = [col for col in df.columns if 'minimum' in col]\n",
    "min_cols"
   ]
  },
  {
   "cell_type": "code",
   "execution_count": 543,
   "metadata": {
    "scrolled": false
   },
   "outputs": [
    {
     "data": {
      "text/html": [
       "<div>\n",
       "<style scoped>\n",
       "    .dataframe tbody tr th:only-of-type {\n",
       "        vertical-align: middle;\n",
       "    }\n",
       "\n",
       "    .dataframe tbody tr th {\n",
       "        vertical-align: top;\n",
       "    }\n",
       "\n",
       "    .dataframe thead th {\n",
       "        text-align: right;\n",
       "    }\n",
       "</style>\n",
       "<table border=\"1\" class=\"dataframe\">\n",
       "  <thead>\n",
       "    <tr style=\"text-align: right;\">\n",
       "      <th></th>\n",
       "      <th>minimum_minimum_nights</th>\n",
       "      <th>maximum_minimum_nights</th>\n",
       "      <th>minimum_maximum_nights</th>\n",
       "      <th>minimum_nights_avg_ntm</th>\n",
       "    </tr>\n",
       "  </thead>\n",
       "  <tbody>\n",
       "    <tr>\n",
       "      <th>0</th>\n",
       "      <td>2</td>\n",
       "      <td>2</td>\n",
       "      <td>1125</td>\n",
       "      <td>2.0</td>\n",
       "    </tr>\n",
       "    <tr>\n",
       "      <th>1</th>\n",
       "      <td>1</td>\n",
       "      <td>1</td>\n",
       "      <td>60</td>\n",
       "      <td>1.0</td>\n",
       "    </tr>\n",
       "    <tr>\n",
       "      <th>2</th>\n",
       "      <td>2</td>\n",
       "      <td>2</td>\n",
       "      <td>60</td>\n",
       "      <td>2.0</td>\n",
       "    </tr>\n",
       "    <tr>\n",
       "      <th>3</th>\n",
       "      <td>4</td>\n",
       "      <td>4</td>\n",
       "      <td>180</td>\n",
       "      <td>4.0</td>\n",
       "    </tr>\n",
       "    <tr>\n",
       "      <th>4</th>\n",
       "      <td>2</td>\n",
       "      <td>2</td>\n",
       "      <td>365</td>\n",
       "      <td>2.0</td>\n",
       "    </tr>\n",
       "  </tbody>\n",
       "</table>\n",
       "</div>"
      ],
      "text/plain": [
       "   minimum_minimum_nights  maximum_minimum_nights  minimum_maximum_nights  \\\n",
       "0                       2                       2                    1125   \n",
       "1                       1                       1                      60   \n",
       "2                       2                       2                      60   \n",
       "3                       4                       4                     180   \n",
       "4                       2                       2                     365   \n",
       "\n",
       "   minimum_nights_avg_ntm  \n",
       "0                     2.0  \n",
       "1                     1.0  \n",
       "2                     2.0  \n",
       "3                     4.0  \n",
       "4                     2.0  "
      ]
     },
     "execution_count": 543,
     "metadata": {},
     "output_type": "execute_result"
    }
   ],
   "source": [
    "df[min_cols].head()"
   ]
  },
  {
   "cell_type": "code",
   "execution_count": 544,
   "metadata": {
    "scrolled": false
   },
   "outputs": [],
   "source": [
    "df.drop(min_cols, axis=1, inplace=True)"
   ]
  },
  {
   "cell_type": "code",
   "execution_count": 545,
   "metadata": {
    "scrolled": false
   },
   "outputs": [
    {
     "data": {
      "text/plain": [
       "['maximum_maximum_nights', 'maximum_nights_avg_ntm']"
      ]
     },
     "execution_count": 545,
     "metadata": {},
     "output_type": "execute_result"
    }
   ],
   "source": [
    "max_cols = [col for col in df.columns if 'maximum' in col]\n",
    "max_cols"
   ]
  },
  {
   "cell_type": "code",
   "execution_count": 546,
   "metadata": {
    "scrolled": false
   },
   "outputs": [],
   "source": [
    "df.drop(max_cols, axis=1, inplace=True)"
   ]
  },
  {
   "cell_type": "code",
   "execution_count": 547,
   "metadata": {
    "scrolled": false
   },
   "outputs": [
    {
     "data": {
      "text/html": [
       "<div>\n",
       "<style scoped>\n",
       "    .dataframe tbody tr th:only-of-type {\n",
       "        vertical-align: middle;\n",
       "    }\n",
       "\n",
       "    .dataframe tbody tr th {\n",
       "        vertical-align: top;\n",
       "    }\n",
       "\n",
       "    .dataframe thead th {\n",
       "        text-align: right;\n",
       "    }\n",
       "</style>\n",
       "<table border=\"1\" class=\"dataframe\">\n",
       "  <thead>\n",
       "    <tr style=\"text-align: right;\">\n",
       "      <th></th>\n",
       "      <th>host_listings_count</th>\n",
       "      <th>accommodates</th>\n",
       "      <th>bathrooms</th>\n",
       "      <th>bedrooms</th>\n",
       "      <th>beds</th>\n",
       "      <th>guests_included</th>\n",
       "      <th>number_of_reviews</th>\n",
       "      <th>number_of_reviews_ltm</th>\n",
       "      <th>review_scores_rating</th>\n",
       "      <th>review_scores_accuracy</th>\n",
       "      <th>review_scores_cleanliness</th>\n",
       "      <th>review_scores_checkin</th>\n",
       "      <th>review_scores_communication</th>\n",
       "      <th>review_scores_location</th>\n",
       "      <th>review_scores_value</th>\n",
       "    </tr>\n",
       "  </thead>\n",
       "  <tbody>\n",
       "    <tr>\n",
       "      <th>count</th>\n",
       "      <td>8533.000000</td>\n",
       "      <td>8533.000000</td>\n",
       "      <td>8530.000000</td>\n",
       "      <td>8529.000000</td>\n",
       "      <td>8528.000000</td>\n",
       "      <td>8533.000000</td>\n",
       "      <td>8533.000000</td>\n",
       "      <td>8533.000000</td>\n",
       "      <td>7289.000000</td>\n",
       "      <td>7289.000000</td>\n",
       "      <td>7289.000000</td>\n",
       "      <td>7288.000000</td>\n",
       "      <td>7287.000000</td>\n",
       "      <td>7288.000000</td>\n",
       "      <td>7288.000000</td>\n",
       "    </tr>\n",
       "    <tr>\n",
       "      <th>mean</th>\n",
       "      <td>48.762920</td>\n",
       "      <td>4.331654</td>\n",
       "      <td>1.376436</td>\n",
       "      <td>1.643217</td>\n",
       "      <td>2.247420</td>\n",
       "      <td>2.248682</td>\n",
       "      <td>41.096215</td>\n",
       "      <td>17.811907</td>\n",
       "      <td>95.187817</td>\n",
       "      <td>9.732748</td>\n",
       "      <td>9.576074</td>\n",
       "      <td>9.818880</td>\n",
       "      <td>9.822012</td>\n",
       "      <td>9.691136</td>\n",
       "      <td>9.510291</td>\n",
       "    </tr>\n",
       "    <tr>\n",
       "      <th>std</th>\n",
       "      <td>201.148225</td>\n",
       "      <td>2.972712</td>\n",
       "      <td>0.779565</td>\n",
       "      <td>1.200537</td>\n",
       "      <td>1.972722</td>\n",
       "      <td>2.012976</td>\n",
       "      <td>60.453440</td>\n",
       "      <td>22.062863</td>\n",
       "      <td>6.671592</td>\n",
       "      <td>0.668751</td>\n",
       "      <td>0.751149</td>\n",
       "      <td>0.572567</td>\n",
       "      <td>0.565276</td>\n",
       "      <td>0.660159</td>\n",
       "      <td>0.739338</td>\n",
       "    </tr>\n",
       "    <tr>\n",
       "      <th>min</th>\n",
       "      <td>0.000000</td>\n",
       "      <td>1.000000</td>\n",
       "      <td>0.000000</td>\n",
       "      <td>0.000000</td>\n",
       "      <td>0.000000</td>\n",
       "      <td>1.000000</td>\n",
       "      <td>0.000000</td>\n",
       "      <td>0.000000</td>\n",
       "      <td>20.000000</td>\n",
       "      <td>2.000000</td>\n",
       "      <td>2.000000</td>\n",
       "      <td>2.000000</td>\n",
       "      <td>2.000000</td>\n",
       "      <td>2.000000</td>\n",
       "      <td>2.000000</td>\n",
       "    </tr>\n",
       "    <tr>\n",
       "      <th>25%</th>\n",
       "      <td>1.000000</td>\n",
       "      <td>2.000000</td>\n",
       "      <td>1.000000</td>\n",
       "      <td>1.000000</td>\n",
       "      <td>1.000000</td>\n",
       "      <td>1.000000</td>\n",
       "      <td>3.000000</td>\n",
       "      <td>1.000000</td>\n",
       "      <td>93.000000</td>\n",
       "      <td>10.000000</td>\n",
       "      <td>9.000000</td>\n",
       "      <td>10.000000</td>\n",
       "      <td>10.000000</td>\n",
       "      <td>10.000000</td>\n",
       "      <td>9.000000</td>\n",
       "    </tr>\n",
       "    <tr>\n",
       "      <th>50%</th>\n",
       "      <td>2.000000</td>\n",
       "      <td>4.000000</td>\n",
       "      <td>1.000000</td>\n",
       "      <td>1.000000</td>\n",
       "      <td>2.000000</td>\n",
       "      <td>1.000000</td>\n",
       "      <td>17.000000</td>\n",
       "      <td>9.000000</td>\n",
       "      <td>97.000000</td>\n",
       "      <td>10.000000</td>\n",
       "      <td>10.000000</td>\n",
       "      <td>10.000000</td>\n",
       "      <td>10.000000</td>\n",
       "      <td>10.000000</td>\n",
       "      <td>10.000000</td>\n",
       "    </tr>\n",
       "    <tr>\n",
       "      <th>75%</th>\n",
       "      <td>8.000000</td>\n",
       "      <td>6.000000</td>\n",
       "      <td>2.000000</td>\n",
       "      <td>2.000000</td>\n",
       "      <td>3.000000</td>\n",
       "      <td>3.000000</td>\n",
       "      <td>54.000000</td>\n",
       "      <td>27.000000</td>\n",
       "      <td>99.000000</td>\n",
       "      <td>10.000000</td>\n",
       "      <td>10.000000</td>\n",
       "      <td>10.000000</td>\n",
       "      <td>10.000000</td>\n",
       "      <td>10.000000</td>\n",
       "      <td>10.000000</td>\n",
       "    </tr>\n",
       "    <tr>\n",
       "      <th>max</th>\n",
       "      <td>1820.000000</td>\n",
       "      <td>32.000000</td>\n",
       "      <td>21.000000</td>\n",
       "      <td>24.000000</td>\n",
       "      <td>50.000000</td>\n",
       "      <td>16.000000</td>\n",
       "      <td>603.000000</td>\n",
       "      <td>279.000000</td>\n",
       "      <td>100.000000</td>\n",
       "      <td>10.000000</td>\n",
       "      <td>10.000000</td>\n",
       "      <td>10.000000</td>\n",
       "      <td>10.000000</td>\n",
       "      <td>10.000000</td>\n",
       "      <td>10.000000</td>\n",
       "    </tr>\n",
       "  </tbody>\n",
       "</table>\n",
       "</div>"
      ],
      "text/plain": [
       "       host_listings_count  accommodates    bathrooms     bedrooms  \\\n",
       "count          8533.000000   8533.000000  8530.000000  8529.000000   \n",
       "mean             48.762920      4.331654     1.376436     1.643217   \n",
       "std             201.148225      2.972712     0.779565     1.200537   \n",
       "min               0.000000      1.000000     0.000000     0.000000   \n",
       "25%               1.000000      2.000000     1.000000     1.000000   \n",
       "50%               2.000000      4.000000     1.000000     1.000000   \n",
       "75%               8.000000      6.000000     2.000000     2.000000   \n",
       "max            1820.000000     32.000000    21.000000    24.000000   \n",
       "\n",
       "              beds  guests_included  number_of_reviews  number_of_reviews_ltm  \\\n",
       "count  8528.000000      8533.000000        8533.000000            8533.000000   \n",
       "mean      2.247420         2.248682          41.096215              17.811907   \n",
       "std       1.972722         2.012976          60.453440              22.062863   \n",
       "min       0.000000         1.000000           0.000000               0.000000   \n",
       "25%       1.000000         1.000000           3.000000               1.000000   \n",
       "50%       2.000000         1.000000          17.000000               9.000000   \n",
       "75%       3.000000         3.000000          54.000000              27.000000   \n",
       "max      50.000000        16.000000         603.000000             279.000000   \n",
       "\n",
       "       review_scores_rating  review_scores_accuracy  \\\n",
       "count           7289.000000             7289.000000   \n",
       "mean              95.187817                9.732748   \n",
       "std                6.671592                0.668751   \n",
       "min               20.000000                2.000000   \n",
       "25%               93.000000               10.000000   \n",
       "50%               97.000000               10.000000   \n",
       "75%               99.000000               10.000000   \n",
       "max              100.000000               10.000000   \n",
       "\n",
       "       review_scores_cleanliness  review_scores_checkin  \\\n",
       "count                7289.000000            7288.000000   \n",
       "mean                    9.576074               9.818880   \n",
       "std                     0.751149               0.572567   \n",
       "min                     2.000000               2.000000   \n",
       "25%                     9.000000              10.000000   \n",
       "50%                    10.000000              10.000000   \n",
       "75%                    10.000000              10.000000   \n",
       "max                    10.000000              10.000000   \n",
       "\n",
       "       review_scores_communication  review_scores_location  \\\n",
       "count                  7287.000000             7288.000000   \n",
       "mean                      9.822012                9.691136   \n",
       "std                       0.565276                0.660159   \n",
       "min                       2.000000                2.000000   \n",
       "25%                      10.000000               10.000000   \n",
       "50%                      10.000000               10.000000   \n",
       "75%                      10.000000               10.000000   \n",
       "max                      10.000000               10.000000   \n",
       "\n",
       "       review_scores_value  \n",
       "count          7288.000000  \n",
       "mean              9.510291  \n",
       "std               0.739338  \n",
       "min               2.000000  \n",
       "25%               9.000000  \n",
       "50%              10.000000  \n",
       "75%              10.000000  \n",
       "max              10.000000  "
      ]
     },
     "execution_count": 547,
     "metadata": {},
     "output_type": "execute_result"
    }
   ],
   "source": [
    "df.describe()"
   ]
  },
  {
   "cell_type": "code",
   "execution_count": 548,
   "metadata": {
    "scrolled": true
   },
   "outputs": [
    {
     "data": {
      "text/html": [
       "<div>\n",
       "<style scoped>\n",
       "    .dataframe tbody tr th:only-of-type {\n",
       "        vertical-align: middle;\n",
       "    }\n",
       "\n",
       "    .dataframe tbody tr th {\n",
       "        vertical-align: top;\n",
       "    }\n",
       "\n",
       "    .dataframe thead th {\n",
       "        text-align: right;\n",
       "    }\n",
       "</style>\n",
       "<table border=\"1\" class=\"dataframe\">\n",
       "  <thead>\n",
       "    <tr style=\"text-align: right;\">\n",
       "      <th></th>\n",
       "      <th>host_since</th>\n",
       "      <th>host_response_time</th>\n",
       "      <th>host_response_rate</th>\n",
       "      <th>host_is_superhost</th>\n",
       "      <th>host_neighbourhood</th>\n",
       "      <th>host_has_profile_pic</th>\n",
       "      <th>host_identity_verified</th>\n",
       "      <th>street</th>\n",
       "      <th>neighbourhood</th>\n",
       "      <th>neighbourhood_cleansed</th>\n",
       "      <th>...</th>\n",
       "      <th>security_deposit</th>\n",
       "      <th>cleaning_fee</th>\n",
       "      <th>extra_people</th>\n",
       "      <th>calendar_updated</th>\n",
       "      <th>requires_license</th>\n",
       "      <th>license</th>\n",
       "      <th>instant_bookable</th>\n",
       "      <th>cancellation_policy</th>\n",
       "      <th>require_guest_profile_picture</th>\n",
       "      <th>require_guest_phone_verification</th>\n",
       "    </tr>\n",
       "  </thead>\n",
       "  <tbody>\n",
       "    <tr>\n",
       "      <th>count</th>\n",
       "      <td>8533</td>\n",
       "      <td>7709</td>\n",
       "      <td>7709</td>\n",
       "      <td>8533</td>\n",
       "      <td>7743</td>\n",
       "      <td>8533</td>\n",
       "      <td>8533</td>\n",
       "      <td>8533</td>\n",
       "      <td>8506</td>\n",
       "      <td>8533</td>\n",
       "      <td>...</td>\n",
       "      <td>6447</td>\n",
       "      <td>7697</td>\n",
       "      <td>8533</td>\n",
       "      <td>8533</td>\n",
       "      <td>8533</td>\n",
       "      <td>8313</td>\n",
       "      <td>8533</td>\n",
       "      <td>8533</td>\n",
       "      <td>8533</td>\n",
       "      <td>8533</td>\n",
       "    </tr>\n",
       "    <tr>\n",
       "      <th>unique</th>\n",
       "      <td>2295</td>\n",
       "      <td>4</td>\n",
       "      <td>44</td>\n",
       "      <td>2</td>\n",
       "      <td>125</td>\n",
       "      <td>2</td>\n",
       "      <td>2</td>\n",
       "      <td>27</td>\n",
       "      <td>89</td>\n",
       "      <td>75</td>\n",
       "      <td>...</td>\n",
       "      <td>76</td>\n",
       "      <td>190</td>\n",
       "      <td>63</td>\n",
       "      <td>55</td>\n",
       "      <td>2</td>\n",
       "      <td>3797</td>\n",
       "      <td>2</td>\n",
       "      <td>5</td>\n",
       "      <td>2</td>\n",
       "      <td>2</td>\n",
       "    </tr>\n",
       "    <tr>\n",
       "      <th>top</th>\n",
       "      <td>2016-12-16</td>\n",
       "      <td>within an hour</td>\n",
       "      <td>100%</td>\n",
       "      <td>f</td>\n",
       "      <td>Lakeview</td>\n",
       "      <td>t</td>\n",
       "      <td>f</td>\n",
       "      <td>Chicago, IL, United States</td>\n",
       "      <td>Lakeview</td>\n",
       "      <td>West Town</td>\n",
       "      <td>...</td>\n",
       "      <td>$0.00</td>\n",
       "      <td>$50.00</td>\n",
       "      <td>$0.00</td>\n",
       "      <td>today</td>\n",
       "      <td>t</td>\n",
       "      <td>City registration pending</td>\n",
       "      <td>f</td>\n",
       "      <td>strict_14_with_grace_period</td>\n",
       "      <td>f</td>\n",
       "      <td>f</td>\n",
       "    </tr>\n",
       "    <tr>\n",
       "      <th>freq</th>\n",
       "      <td>120</td>\n",
       "      <td>6270</td>\n",
       "      <td>6008</td>\n",
       "      <td>5113</td>\n",
       "      <td>578</td>\n",
       "      <td>8514</td>\n",
       "      <td>5218</td>\n",
       "      <td>8459</td>\n",
       "      <td>645</td>\n",
       "      <td>1048</td>\n",
       "      <td>...</td>\n",
       "      <td>2934</td>\n",
       "      <td>585</td>\n",
       "      <td>3767</td>\n",
       "      <td>2027</td>\n",
       "      <td>8475</td>\n",
       "      <td>3044</td>\n",
       "      <td>4327</td>\n",
       "      <td>3430</td>\n",
       "      <td>8337</td>\n",
       "      <td>8307</td>\n",
       "    </tr>\n",
       "  </tbody>\n",
       "</table>\n",
       "<p>4 rows × 30 columns</p>\n",
       "</div>"
      ],
      "text/plain": [
       "        host_since host_response_time host_response_rate host_is_superhost  \\\n",
       "count         8533               7709               7709              8533   \n",
       "unique        2295                  4                 44                 2   \n",
       "top     2016-12-16     within an hour               100%                 f   \n",
       "freq           120               6270               6008              5113   \n",
       "\n",
       "       host_neighbourhood host_has_profile_pic host_identity_verified  \\\n",
       "count                7743                 8533                   8533   \n",
       "unique                125                    2                      2   \n",
       "top              Lakeview                    t                      f   \n",
       "freq                  578                 8514                   5218   \n",
       "\n",
       "                            street neighbourhood neighbourhood_cleansed  ...  \\\n",
       "count                         8533          8506                   8533  ...   \n",
       "unique                          27            89                     75  ...   \n",
       "top     Chicago, IL, United States      Lakeview              West Town  ...   \n",
       "freq                          8459           645                   1048  ...   \n",
       "\n",
       "       security_deposit cleaning_fee extra_people calendar_updated  \\\n",
       "count              6447         7697         8533             8533   \n",
       "unique               76          190           63               55   \n",
       "top               $0.00       $50.00        $0.00            today   \n",
       "freq               2934          585         3767             2027   \n",
       "\n",
       "       requires_license                    license instant_bookable  \\\n",
       "count              8533                       8313             8533   \n",
       "unique                2                       3797                2   \n",
       "top                   t  City registration pending                f   \n",
       "freq               8475                       3044             4327   \n",
       "\n",
       "                cancellation_policy require_guest_profile_picture  \\\n",
       "count                          8533                          8533   \n",
       "unique                            5                             2   \n",
       "top     strict_14_with_grace_period                             f   \n",
       "freq                           3430                          8337   \n",
       "\n",
       "       require_guest_phone_verification  \n",
       "count                              8533  \n",
       "unique                                2  \n",
       "top                                   f  \n",
       "freq                               8307  \n",
       "\n",
       "[4 rows x 30 columns]"
      ]
     },
     "execution_count": 548,
     "metadata": {},
     "output_type": "execute_result"
    }
   ],
   "source": [
    "df.describe(include=[object])"
   ]
  },
  {
   "cell_type": "markdown",
   "metadata": {},
   "source": [
    "Check columns with very high frequencies."
   ]
  },
  {
   "cell_type": "code",
   "execution_count": 549,
   "metadata": {
    "scrolled": false
   },
   "outputs": [],
   "source": [
    "#freq = df['host_has_profile_pic'].value_counts().max()\n",
    "#freq"
   ]
  },
  {
   "cell_type": "code",
   "execution_count": 550,
   "metadata": {
    "scrolled": false
   },
   "outputs": [
    {
     "data": {
      "text/plain": [
       "['host_has_profile_pic',\n",
       " 'street',\n",
       " 'city',\n",
       " 'state',\n",
       " 'market',\n",
       " 'smart_location',\n",
       " 'bed_type',\n",
       " 'requires_license',\n",
       " 'require_guest_profile_picture',\n",
       " 'require_guest_phone_verification']"
      ]
     },
     "execution_count": 550,
     "metadata": {},
     "output_type": "execute_result"
    }
   ],
   "source": [
    "freq_threshold = int(df.shape[0] * 0.90)\n",
    "#freq_threshold\n",
    "freq_cols = [col for col\n",
    "             in list(df)\n",
    "             if df[col].value_counts().max() >= freq_threshold]\n",
    "freq_cols"
   ]
  },
  {
   "cell_type": "code",
   "execution_count": 551,
   "metadata": {
    "scrolled": true
   },
   "outputs": [
    {
     "data": {
      "text/html": [
       "<div>\n",
       "<style scoped>\n",
       "    .dataframe tbody tr th:only-of-type {\n",
       "        vertical-align: middle;\n",
       "    }\n",
       "\n",
       "    .dataframe tbody tr th {\n",
       "        vertical-align: top;\n",
       "    }\n",
       "\n",
       "    .dataframe thead th {\n",
       "        text-align: right;\n",
       "    }\n",
       "</style>\n",
       "<table border=\"1\" class=\"dataframe\">\n",
       "  <thead>\n",
       "    <tr style=\"text-align: right;\">\n",
       "      <th></th>\n",
       "      <th>host_has_profile_pic</th>\n",
       "      <th>street</th>\n",
       "      <th>city</th>\n",
       "      <th>state</th>\n",
       "      <th>market</th>\n",
       "      <th>smart_location</th>\n",
       "      <th>bed_type</th>\n",
       "      <th>requires_license</th>\n",
       "      <th>require_guest_profile_picture</th>\n",
       "      <th>require_guest_phone_verification</th>\n",
       "    </tr>\n",
       "  </thead>\n",
       "  <tbody>\n",
       "    <tr>\n",
       "      <th>0</th>\n",
       "      <td>t</td>\n",
       "      <td>Chicago, IL, United States</td>\n",
       "      <td>Chicago</td>\n",
       "      <td>IL</td>\n",
       "      <td>Chicago</td>\n",
       "      <td>Chicago, IL</td>\n",
       "      <td>Real Bed</td>\n",
       "      <td>t</td>\n",
       "      <td>f</td>\n",
       "      <td>f</td>\n",
       "    </tr>\n",
       "    <tr>\n",
       "      <th>1</th>\n",
       "      <td>t</td>\n",
       "      <td>Chicago, IL, United States</td>\n",
       "      <td>Chicago</td>\n",
       "      <td>IL</td>\n",
       "      <td>Chicago</td>\n",
       "      <td>Chicago, IL</td>\n",
       "      <td>Real Bed</td>\n",
       "      <td>t</td>\n",
       "      <td>f</td>\n",
       "      <td>f</td>\n",
       "    </tr>\n",
       "    <tr>\n",
       "      <th>2</th>\n",
       "      <td>t</td>\n",
       "      <td>Chicago, IL, United States</td>\n",
       "      <td>Chicago</td>\n",
       "      <td>IL</td>\n",
       "      <td>Chicago</td>\n",
       "      <td>Chicago, IL</td>\n",
       "      <td>Futon</td>\n",
       "      <td>t</td>\n",
       "      <td>f</td>\n",
       "      <td>f</td>\n",
       "    </tr>\n",
       "    <tr>\n",
       "      <th>3</th>\n",
       "      <td>t</td>\n",
       "      <td>Chicago, IL, United States</td>\n",
       "      <td>Chicago</td>\n",
       "      <td>IL</td>\n",
       "      <td>Chicago</td>\n",
       "      <td>Chicago, IL</td>\n",
       "      <td>Real Bed</td>\n",
       "      <td>t</td>\n",
       "      <td>f</td>\n",
       "      <td>f</td>\n",
       "    </tr>\n",
       "    <tr>\n",
       "      <th>4</th>\n",
       "      <td>t</td>\n",
       "      <td>Chicago, IL, United States</td>\n",
       "      <td>Chicago</td>\n",
       "      <td>IL</td>\n",
       "      <td>Chicago</td>\n",
       "      <td>Chicago, IL</td>\n",
       "      <td>Real Bed</td>\n",
       "      <td>t</td>\n",
       "      <td>f</td>\n",
       "      <td>f</td>\n",
       "    </tr>\n",
       "  </tbody>\n",
       "</table>\n",
       "</div>"
      ],
      "text/plain": [
       "  host_has_profile_pic                      street     city state   market  \\\n",
       "0                    t  Chicago, IL, United States  Chicago    IL  Chicago   \n",
       "1                    t  Chicago, IL, United States  Chicago    IL  Chicago   \n",
       "2                    t  Chicago, IL, United States  Chicago    IL  Chicago   \n",
       "3                    t  Chicago, IL, United States  Chicago    IL  Chicago   \n",
       "4                    t  Chicago, IL, United States  Chicago    IL  Chicago   \n",
       "\n",
       "  smart_location  bed_type requires_license require_guest_profile_picture  \\\n",
       "0    Chicago, IL  Real Bed                t                             f   \n",
       "1    Chicago, IL  Real Bed                t                             f   \n",
       "2    Chicago, IL     Futon                t                             f   \n",
       "3    Chicago, IL  Real Bed                t                             f   \n",
       "4    Chicago, IL  Real Bed                t                             f   \n",
       "\n",
       "  require_guest_phone_verification  \n",
       "0                                f  \n",
       "1                                f  \n",
       "2                                f  \n",
       "3                                f  \n",
       "4                                f  "
      ]
     },
     "execution_count": 551,
     "metadata": {},
     "output_type": "execute_result"
    }
   ],
   "source": [
    "df[freq_cols].head()"
   ]
  },
  {
   "cell_type": "code",
   "execution_count": 552,
   "metadata": {
    "scrolled": false
   },
   "outputs": [],
   "source": [
    "df.drop(['host_has_profile_pic',\n",
    "         'street',\n",
    "         'city',\n",
    "         'state',\n",
    "         'market',\n",
    "         'smart_location',\n",
    "         'requires_license',\n",
    "         'require_guest_profile_picture',\n",
    "         'require_guest_phone_verification']\n",
    "        , axis=1\n",
    "        , inplace=True)"
   ]
  },
  {
   "cell_type": "code",
   "execution_count": 553,
   "metadata": {
    "scrolled": false
   },
   "outputs": [
    {
     "data": {
      "text/plain": [
       "Index(['host_since', 'host_response_time', 'host_response_rate',\n",
       "       'host_is_superhost', 'host_neighbourhood', 'host_listings_count',\n",
       "       'host_identity_verified', 'neighbourhood', 'neighbourhood_cleansed',\n",
       "       'zipcode', 'is_location_exact', 'property_type', 'room_type',\n",
       "       'accommodates', 'bathrooms', 'bedrooms', 'beds', 'bed_type', 'price',\n",
       "       'security_deposit', 'cleaning_fee', 'guests_included', 'extra_people',\n",
       "       'calendar_updated', 'number_of_reviews', 'number_of_reviews_ltm',\n",
       "       'review_scores_rating', 'review_scores_accuracy',\n",
       "       'review_scores_cleanliness', 'review_scores_checkin',\n",
       "       'review_scores_communication', 'review_scores_location',\n",
       "       'review_scores_value', 'license', 'instant_bookable',\n",
       "       'cancellation_policy'],\n",
       "      dtype='object')"
      ]
     },
     "execution_count": 553,
     "metadata": {},
     "output_type": "execute_result"
    }
   ],
   "source": [
    "df.columns"
   ]
  },
  {
   "cell_type": "markdown",
   "metadata": {},
   "source": [
    "Examine columns where the meaning is questionable."
   ]
  },
  {
   "cell_type": "code",
   "execution_count": 554,
   "metadata": {
    "scrolled": false
   },
   "outputs": [
    {
     "data": {
      "text/html": [
       "<div>\n",
       "<style scoped>\n",
       "    .dataframe tbody tr th:only-of-type {\n",
       "        vertical-align: middle;\n",
       "    }\n",
       "\n",
       "    .dataframe tbody tr th {\n",
       "        vertical-align: top;\n",
       "    }\n",
       "\n",
       "    .dataframe thead th {\n",
       "        text-align: right;\n",
       "    }\n",
       "</style>\n",
       "<table border=\"1\" class=\"dataframe\">\n",
       "  <thead>\n",
       "    <tr style=\"text-align: right;\">\n",
       "      <th></th>\n",
       "      <th>neighbourhood</th>\n",
       "      <th>neighbourhood_cleansed</th>\n",
       "      <th>property_type</th>\n",
       "      <th>room_type</th>\n",
       "      <th>guests_included</th>\n",
       "      <th>extra_people</th>\n",
       "      <th>calendar_updated</th>\n",
       "      <th>license</th>\n",
       "    </tr>\n",
       "  </thead>\n",
       "  <tbody>\n",
       "    <tr>\n",
       "      <th>0</th>\n",
       "      <td>Hyde Park</td>\n",
       "      <td>Hyde Park</td>\n",
       "      <td>Condominium</td>\n",
       "      <td>Private room</td>\n",
       "      <td>1</td>\n",
       "      <td>$0.00</td>\n",
       "      <td>2 weeks ago</td>\n",
       "      <td>NaN</td>\n",
       "    </tr>\n",
       "    <tr>\n",
       "      <th>1</th>\n",
       "      <td>Little Village</td>\n",
       "      <td>South Lawndale</td>\n",
       "      <td>Apartment</td>\n",
       "      <td>Entire home/apt</td>\n",
       "      <td>2</td>\n",
       "      <td>$25.00</td>\n",
       "      <td>a week ago</td>\n",
       "      <td>R19000037538</td>\n",
       "    </tr>\n",
       "    <tr>\n",
       "      <th>2</th>\n",
       "      <td>Ukrainian Village</td>\n",
       "      <td>West Town</td>\n",
       "      <td>Apartment</td>\n",
       "      <td>Entire home/apt</td>\n",
       "      <td>1</td>\n",
       "      <td>$0.00</td>\n",
       "      <td>2 weeks ago</td>\n",
       "      <td>City registration pending</td>\n",
       "    </tr>\n",
       "    <tr>\n",
       "      <th>3</th>\n",
       "      <td>Old Town</td>\n",
       "      <td>Lincoln Park</td>\n",
       "      <td>Apartment</td>\n",
       "      <td>Entire home/apt</td>\n",
       "      <td>2</td>\n",
       "      <td>$25.00</td>\n",
       "      <td>4 weeks ago</td>\n",
       "      <td>2079260</td>\n",
       "    </tr>\n",
       "    <tr>\n",
       "      <th>4</th>\n",
       "      <td>Hyde Park</td>\n",
       "      <td>Hyde Park</td>\n",
       "      <td>Apartment</td>\n",
       "      <td>Private room</td>\n",
       "      <td>1</td>\n",
       "      <td>$10.00</td>\n",
       "      <td>3 months ago</td>\n",
       "      <td>City registration pending</td>\n",
       "    </tr>\n",
       "  </tbody>\n",
       "</table>\n",
       "</div>"
      ],
      "text/plain": [
       "       neighbourhood neighbourhood_cleansed property_type        room_type  \\\n",
       "0          Hyde Park              Hyde Park   Condominium     Private room   \n",
       "1     Little Village         South Lawndale     Apartment  Entire home/apt   \n",
       "2  Ukrainian Village              West Town     Apartment  Entire home/apt   \n",
       "3           Old Town           Lincoln Park     Apartment  Entire home/apt   \n",
       "4          Hyde Park              Hyde Park     Apartment     Private room   \n",
       "\n",
       "   guests_included extra_people calendar_updated                    license  \n",
       "0                1        $0.00      2 weeks ago                        NaN  \n",
       "1                2       $25.00       a week ago               R19000037538  \n",
       "2                1        $0.00      2 weeks ago  City registration pending  \n",
       "3                2       $25.00      4 weeks ago                    2079260  \n",
       "4                1       $10.00     3 months ago  City registration pending  "
      ]
     },
     "execution_count": 554,
     "metadata": {},
     "output_type": "execute_result"
    }
   ],
   "source": [
    "df[['neighbourhood','neighbourhood_cleansed','property_type','room_type','guests_included','extra_people','calendar_updated','license']].head()"
   ]
  },
  {
   "cell_type": "markdown",
   "metadata": {},
   "source": [
    "Check \"license\" column values"
   ]
  },
  {
   "cell_type": "code",
   "execution_count": 555,
   "metadata": {
    "scrolled": true
   },
   "outputs": [
    {
     "data": {
      "text/plain": [
       "license\n",
       "\"City Registration Pending\"    1\n",
       "\"City registration pending\"    2\n",
       "00000                          1\n",
       "000000                         1\n",
       "06251706                       1\n",
       "                              ..\n",
       "r18000036445                   1\n",
       "str-12345678                   1\n",
       "str-134568976                  1\n",
       "y19001556                      2\n",
       "“City registration pending”    5\n",
       "Name: price, Length: 3797, dtype: int64"
      ]
     },
     "execution_count": 555,
     "metadata": {},
     "output_type": "execute_result"
    }
   ],
   "source": [
    "df.groupby(['license'])['price'].count()"
   ]
  },
  {
   "cell_type": "code",
   "execution_count": 556,
   "metadata": {
    "scrolled": true
   },
   "outputs": [],
   "source": [
    "#df.drop(['neighbourhood'], axis=1, inplace=True)\n",
    "#df.drop(['license'], axis=1, inplace=True)\n",
    "df.drop(['neighbourhood','license'], axis=1, inplace=True)"
   ]
  },
  {
   "cell_type": "markdown",
   "metadata": {},
   "source": [
    "Drop zipcode. Since we have the neighborhoods, this is redundant."
   ]
  },
  {
   "cell_type": "code",
   "execution_count": 557,
   "metadata": {
    "scrolled": false
   },
   "outputs": [],
   "source": [
    "df.drop(['zipcode'], axis=1, inplace=True)"
   ]
  },
  {
   "cell_type": "markdown",
   "metadata": {},
   "source": [
    "# Feature Engineering"
   ]
  },
  {
   "cell_type": "markdown",
   "metadata": {
    "scrolled": true
   },
   "source": [
    "First, let us check the numeric columns"
   ]
  },
  {
   "cell_type": "code",
   "execution_count": 558,
   "metadata": {
    "scrolled": true
   },
   "outputs": [
    {
     "data": {
      "text/html": [
       "<div>\n",
       "<style scoped>\n",
       "    .dataframe tbody tr th:only-of-type {\n",
       "        vertical-align: middle;\n",
       "    }\n",
       "\n",
       "    .dataframe tbody tr th {\n",
       "        vertical-align: top;\n",
       "    }\n",
       "\n",
       "    .dataframe thead th {\n",
       "        text-align: right;\n",
       "    }\n",
       "</style>\n",
       "<table border=\"1\" class=\"dataframe\">\n",
       "  <thead>\n",
       "    <tr style=\"text-align: right;\">\n",
       "      <th></th>\n",
       "      <th>host_listings_count</th>\n",
       "      <th>accommodates</th>\n",
       "      <th>bathrooms</th>\n",
       "      <th>bedrooms</th>\n",
       "      <th>beds</th>\n",
       "      <th>guests_included</th>\n",
       "      <th>number_of_reviews</th>\n",
       "      <th>number_of_reviews_ltm</th>\n",
       "      <th>review_scores_rating</th>\n",
       "      <th>review_scores_accuracy</th>\n",
       "      <th>review_scores_cleanliness</th>\n",
       "      <th>review_scores_checkin</th>\n",
       "      <th>review_scores_communication</th>\n",
       "      <th>review_scores_location</th>\n",
       "      <th>review_scores_value</th>\n",
       "    </tr>\n",
       "  </thead>\n",
       "  <tbody>\n",
       "    <tr>\n",
       "      <th>count</th>\n",
       "      <td>8533.000000</td>\n",
       "      <td>8533.000000</td>\n",
       "      <td>8530.000000</td>\n",
       "      <td>8529.000000</td>\n",
       "      <td>8528.000000</td>\n",
       "      <td>8533.000000</td>\n",
       "      <td>8533.000000</td>\n",
       "      <td>8533.000000</td>\n",
       "      <td>7289.000000</td>\n",
       "      <td>7289.000000</td>\n",
       "      <td>7289.000000</td>\n",
       "      <td>7288.000000</td>\n",
       "      <td>7287.000000</td>\n",
       "      <td>7288.000000</td>\n",
       "      <td>7288.000000</td>\n",
       "    </tr>\n",
       "    <tr>\n",
       "      <th>mean</th>\n",
       "      <td>48.762920</td>\n",
       "      <td>4.331654</td>\n",
       "      <td>1.376436</td>\n",
       "      <td>1.643217</td>\n",
       "      <td>2.247420</td>\n",
       "      <td>2.248682</td>\n",
       "      <td>41.096215</td>\n",
       "      <td>17.811907</td>\n",
       "      <td>95.187817</td>\n",
       "      <td>9.732748</td>\n",
       "      <td>9.576074</td>\n",
       "      <td>9.818880</td>\n",
       "      <td>9.822012</td>\n",
       "      <td>9.691136</td>\n",
       "      <td>9.510291</td>\n",
       "    </tr>\n",
       "    <tr>\n",
       "      <th>std</th>\n",
       "      <td>201.148225</td>\n",
       "      <td>2.972712</td>\n",
       "      <td>0.779565</td>\n",
       "      <td>1.200537</td>\n",
       "      <td>1.972722</td>\n",
       "      <td>2.012976</td>\n",
       "      <td>60.453440</td>\n",
       "      <td>22.062863</td>\n",
       "      <td>6.671592</td>\n",
       "      <td>0.668751</td>\n",
       "      <td>0.751149</td>\n",
       "      <td>0.572567</td>\n",
       "      <td>0.565276</td>\n",
       "      <td>0.660159</td>\n",
       "      <td>0.739338</td>\n",
       "    </tr>\n",
       "    <tr>\n",
       "      <th>min</th>\n",
       "      <td>0.000000</td>\n",
       "      <td>1.000000</td>\n",
       "      <td>0.000000</td>\n",
       "      <td>0.000000</td>\n",
       "      <td>0.000000</td>\n",
       "      <td>1.000000</td>\n",
       "      <td>0.000000</td>\n",
       "      <td>0.000000</td>\n",
       "      <td>20.000000</td>\n",
       "      <td>2.000000</td>\n",
       "      <td>2.000000</td>\n",
       "      <td>2.000000</td>\n",
       "      <td>2.000000</td>\n",
       "      <td>2.000000</td>\n",
       "      <td>2.000000</td>\n",
       "    </tr>\n",
       "    <tr>\n",
       "      <th>25%</th>\n",
       "      <td>1.000000</td>\n",
       "      <td>2.000000</td>\n",
       "      <td>1.000000</td>\n",
       "      <td>1.000000</td>\n",
       "      <td>1.000000</td>\n",
       "      <td>1.000000</td>\n",
       "      <td>3.000000</td>\n",
       "      <td>1.000000</td>\n",
       "      <td>93.000000</td>\n",
       "      <td>10.000000</td>\n",
       "      <td>9.000000</td>\n",
       "      <td>10.000000</td>\n",
       "      <td>10.000000</td>\n",
       "      <td>10.000000</td>\n",
       "      <td>9.000000</td>\n",
       "    </tr>\n",
       "    <tr>\n",
       "      <th>50%</th>\n",
       "      <td>2.000000</td>\n",
       "      <td>4.000000</td>\n",
       "      <td>1.000000</td>\n",
       "      <td>1.000000</td>\n",
       "      <td>2.000000</td>\n",
       "      <td>1.000000</td>\n",
       "      <td>17.000000</td>\n",
       "      <td>9.000000</td>\n",
       "      <td>97.000000</td>\n",
       "      <td>10.000000</td>\n",
       "      <td>10.000000</td>\n",
       "      <td>10.000000</td>\n",
       "      <td>10.000000</td>\n",
       "      <td>10.000000</td>\n",
       "      <td>10.000000</td>\n",
       "    </tr>\n",
       "    <tr>\n",
       "      <th>75%</th>\n",
       "      <td>8.000000</td>\n",
       "      <td>6.000000</td>\n",
       "      <td>2.000000</td>\n",
       "      <td>2.000000</td>\n",
       "      <td>3.000000</td>\n",
       "      <td>3.000000</td>\n",
       "      <td>54.000000</td>\n",
       "      <td>27.000000</td>\n",
       "      <td>99.000000</td>\n",
       "      <td>10.000000</td>\n",
       "      <td>10.000000</td>\n",
       "      <td>10.000000</td>\n",
       "      <td>10.000000</td>\n",
       "      <td>10.000000</td>\n",
       "      <td>10.000000</td>\n",
       "    </tr>\n",
       "    <tr>\n",
       "      <th>max</th>\n",
       "      <td>1820.000000</td>\n",
       "      <td>32.000000</td>\n",
       "      <td>21.000000</td>\n",
       "      <td>24.000000</td>\n",
       "      <td>50.000000</td>\n",
       "      <td>16.000000</td>\n",
       "      <td>603.000000</td>\n",
       "      <td>279.000000</td>\n",
       "      <td>100.000000</td>\n",
       "      <td>10.000000</td>\n",
       "      <td>10.000000</td>\n",
       "      <td>10.000000</td>\n",
       "      <td>10.000000</td>\n",
       "      <td>10.000000</td>\n",
       "      <td>10.000000</td>\n",
       "    </tr>\n",
       "  </tbody>\n",
       "</table>\n",
       "</div>"
      ],
      "text/plain": [
       "       host_listings_count  accommodates    bathrooms     bedrooms  \\\n",
       "count          8533.000000   8533.000000  8530.000000  8529.000000   \n",
       "mean             48.762920      4.331654     1.376436     1.643217   \n",
       "std             201.148225      2.972712     0.779565     1.200537   \n",
       "min               0.000000      1.000000     0.000000     0.000000   \n",
       "25%               1.000000      2.000000     1.000000     1.000000   \n",
       "50%               2.000000      4.000000     1.000000     1.000000   \n",
       "75%               8.000000      6.000000     2.000000     2.000000   \n",
       "max            1820.000000     32.000000    21.000000    24.000000   \n",
       "\n",
       "              beds  guests_included  number_of_reviews  number_of_reviews_ltm  \\\n",
       "count  8528.000000      8533.000000        8533.000000            8533.000000   \n",
       "mean      2.247420         2.248682          41.096215              17.811907   \n",
       "std       1.972722         2.012976          60.453440              22.062863   \n",
       "min       0.000000         1.000000           0.000000               0.000000   \n",
       "25%       1.000000         1.000000           3.000000               1.000000   \n",
       "50%       2.000000         1.000000          17.000000               9.000000   \n",
       "75%       3.000000         3.000000          54.000000              27.000000   \n",
       "max      50.000000        16.000000         603.000000             279.000000   \n",
       "\n",
       "       review_scores_rating  review_scores_accuracy  \\\n",
       "count           7289.000000             7289.000000   \n",
       "mean              95.187817                9.732748   \n",
       "std                6.671592                0.668751   \n",
       "min               20.000000                2.000000   \n",
       "25%               93.000000               10.000000   \n",
       "50%               97.000000               10.000000   \n",
       "75%               99.000000               10.000000   \n",
       "max              100.000000               10.000000   \n",
       "\n",
       "       review_scores_cleanliness  review_scores_checkin  \\\n",
       "count                7289.000000            7288.000000   \n",
       "mean                    9.576074               9.818880   \n",
       "std                     0.751149               0.572567   \n",
       "min                     2.000000               2.000000   \n",
       "25%                     9.000000              10.000000   \n",
       "50%                    10.000000              10.000000   \n",
       "75%                    10.000000              10.000000   \n",
       "max                    10.000000              10.000000   \n",
       "\n",
       "       review_scores_communication  review_scores_location  \\\n",
       "count                  7287.000000             7288.000000   \n",
       "mean                      9.822012                9.691136   \n",
       "std                       0.565276                0.660159   \n",
       "min                       2.000000                2.000000   \n",
       "25%                      10.000000               10.000000   \n",
       "50%                      10.000000               10.000000   \n",
       "75%                      10.000000               10.000000   \n",
       "max                      10.000000               10.000000   \n",
       "\n",
       "       review_scores_value  \n",
       "count          7288.000000  \n",
       "mean              9.510291  \n",
       "std               0.739338  \n",
       "min               2.000000  \n",
       "25%               9.000000  \n",
       "50%              10.000000  \n",
       "75%              10.000000  \n",
       "max              10.000000  "
      ]
     },
     "execution_count": 558,
     "metadata": {},
     "output_type": "execute_result"
    }
   ],
   "source": [
    "df.describe()"
   ]
  },
  {
   "cell_type": "markdown",
   "metadata": {},
   "source": [
    "Those look good, but we should check for missing data."
   ]
  },
  {
   "cell_type": "code",
   "execution_count": 559,
   "metadata": {},
   "outputs": [
    {
     "data": {
      "text/plain": [
       "host_listings_count               0\n",
       "accommodates                      0\n",
       "bathrooms                         3\n",
       "bedrooms                          4\n",
       "beds                              5\n",
       "guests_included                   0\n",
       "number_of_reviews                 0\n",
       "number_of_reviews_ltm             0\n",
       "review_scores_rating           1244\n",
       "review_scores_accuracy         1244\n",
       "review_scores_cleanliness      1244\n",
       "review_scores_checkin          1245\n",
       "review_scores_communication    1246\n",
       "review_scores_location         1245\n",
       "review_scores_value            1245\n",
       "dtype: int64"
      ]
     },
     "execution_count": 559,
     "metadata": {},
     "output_type": "execute_result"
    }
   ],
   "source": [
    "df.select_dtypes(include=['number']).isnull().sum()"
   ]
  },
  {
   "cell_type": "code",
   "execution_count": 560,
   "metadata": {},
   "outputs": [
    {
     "name": "stdout",
     "output_type": "stream",
     "text": [
      "bathrooms: 1.3764361078546308\n",
      "bedrooms: 1.6432172587642162\n",
      "beds: 2.247420262664165\n"
     ]
    }
   ],
   "source": [
    "fillna_list = ['bathrooms','bedrooms','beds']\n",
    "\n",
    "for col in fillna_list:\n",
    "    col_mean = df[col].mean()\n",
    "    print('{}: {}'.format(col, col_mean))\n",
    "    df[col].fillna(value = df[col].mean(), inplace=True)"
   ]
  },
  {
   "cell_type": "code",
   "execution_count": 561,
   "metadata": {},
   "outputs": [],
   "source": [
    "fill_zero_list = ['review_scores_rating',\n",
    "                  'review_scores_accuracy',\n",
    "                  'review_scores_cleanliness',\n",
    "                  'review_scores_checkin',\n",
    "                  'review_scores_communication',\n",
    "                  'review_scores_location',\n",
    "                  'review_scores_value']\n",
    "\n",
    "for col in fill_zero_list:\n",
    "    df[col].fillna(value=0, inplace=True)"
   ]
  },
  {
   "cell_type": "code",
   "execution_count": 562,
   "metadata": {},
   "outputs": [
    {
     "data": {
      "text/plain": [
       "host_listings_count            0\n",
       "accommodates                   0\n",
       "bathrooms                      0\n",
       "bedrooms                       0\n",
       "beds                           0\n",
       "guests_included                0\n",
       "number_of_reviews              0\n",
       "number_of_reviews_ltm          0\n",
       "review_scores_rating           0\n",
       "review_scores_accuracy         0\n",
       "review_scores_cleanliness      0\n",
       "review_scores_checkin          0\n",
       "review_scores_communication    0\n",
       "review_scores_location         0\n",
       "review_scores_value            0\n",
       "dtype: int64"
      ]
     },
     "execution_count": 562,
     "metadata": {},
     "output_type": "execute_result"
    }
   ],
   "source": [
    "df.select_dtypes(include=['number']).isnull().sum()"
   ]
  },
  {
   "cell_type": "markdown",
   "metadata": {},
   "source": [
    "Now let us check the string columns."
   ]
  },
  {
   "cell_type": "code",
   "execution_count": 563,
   "metadata": {
    "scrolled": true
   },
   "outputs": [
    {
     "data": {
      "text/html": [
       "<div>\n",
       "<style scoped>\n",
       "    .dataframe tbody tr th:only-of-type {\n",
       "        vertical-align: middle;\n",
       "    }\n",
       "\n",
       "    .dataframe tbody tr th {\n",
       "        vertical-align: top;\n",
       "    }\n",
       "\n",
       "    .dataframe thead th {\n",
       "        text-align: right;\n",
       "    }\n",
       "</style>\n",
       "<table border=\"1\" class=\"dataframe\">\n",
       "  <thead>\n",
       "    <tr style=\"text-align: right;\">\n",
       "      <th></th>\n",
       "      <th>host_since</th>\n",
       "      <th>host_response_time</th>\n",
       "      <th>host_response_rate</th>\n",
       "      <th>host_is_superhost</th>\n",
       "      <th>host_neighbourhood</th>\n",
       "      <th>host_identity_verified</th>\n",
       "      <th>neighbourhood_cleansed</th>\n",
       "      <th>is_location_exact</th>\n",
       "      <th>property_type</th>\n",
       "      <th>room_type</th>\n",
       "      <th>bed_type</th>\n",
       "      <th>price</th>\n",
       "      <th>security_deposit</th>\n",
       "      <th>cleaning_fee</th>\n",
       "      <th>extra_people</th>\n",
       "      <th>calendar_updated</th>\n",
       "      <th>instant_bookable</th>\n",
       "      <th>cancellation_policy</th>\n",
       "    </tr>\n",
       "  </thead>\n",
       "  <tbody>\n",
       "    <tr>\n",
       "      <th>count</th>\n",
       "      <td>8533</td>\n",
       "      <td>7709</td>\n",
       "      <td>7709</td>\n",
       "      <td>8533</td>\n",
       "      <td>7743</td>\n",
       "      <td>8533</td>\n",
       "      <td>8533</td>\n",
       "      <td>8533</td>\n",
       "      <td>8533</td>\n",
       "      <td>8533</td>\n",
       "      <td>8533</td>\n",
       "      <td>8533</td>\n",
       "      <td>6447</td>\n",
       "      <td>7697</td>\n",
       "      <td>8533</td>\n",
       "      <td>8533</td>\n",
       "      <td>8533</td>\n",
       "      <td>8533</td>\n",
       "    </tr>\n",
       "    <tr>\n",
       "      <th>unique</th>\n",
       "      <td>2295</td>\n",
       "      <td>4</td>\n",
       "      <td>44</td>\n",
       "      <td>2</td>\n",
       "      <td>125</td>\n",
       "      <td>2</td>\n",
       "      <td>75</td>\n",
       "      <td>2</td>\n",
       "      <td>28</td>\n",
       "      <td>4</td>\n",
       "      <td>5</td>\n",
       "      <td>426</td>\n",
       "      <td>76</td>\n",
       "      <td>190</td>\n",
       "      <td>63</td>\n",
       "      <td>55</td>\n",
       "      <td>2</td>\n",
       "      <td>5</td>\n",
       "    </tr>\n",
       "    <tr>\n",
       "      <th>top</th>\n",
       "      <td>2016-12-16</td>\n",
       "      <td>within an hour</td>\n",
       "      <td>100%</td>\n",
       "      <td>f</td>\n",
       "      <td>Lakeview</td>\n",
       "      <td>f</td>\n",
       "      <td>West Town</td>\n",
       "      <td>t</td>\n",
       "      <td>Apartment</td>\n",
       "      <td>Entire home/apt</td>\n",
       "      <td>Real Bed</td>\n",
       "      <td>$150.00</td>\n",
       "      <td>$0.00</td>\n",
       "      <td>$50.00</td>\n",
       "      <td>$0.00</td>\n",
       "      <td>today</td>\n",
       "      <td>f</td>\n",
       "      <td>strict_14_with_grace_period</td>\n",
       "    </tr>\n",
       "    <tr>\n",
       "      <th>freq</th>\n",
       "      <td>120</td>\n",
       "      <td>6270</td>\n",
       "      <td>6008</td>\n",
       "      <td>5113</td>\n",
       "      <td>578</td>\n",
       "      <td>5218</td>\n",
       "      <td>1048</td>\n",
       "      <td>7106</td>\n",
       "      <td>4928</td>\n",
       "      <td>5772</td>\n",
       "      <td>8447</td>\n",
       "      <td>273</td>\n",
       "      <td>2934</td>\n",
       "      <td>585</td>\n",
       "      <td>3767</td>\n",
       "      <td>2027</td>\n",
       "      <td>4327</td>\n",
       "      <td>3430</td>\n",
       "    </tr>\n",
       "  </tbody>\n",
       "</table>\n",
       "</div>"
      ],
      "text/plain": [
       "        host_since host_response_time host_response_rate host_is_superhost  \\\n",
       "count         8533               7709               7709              8533   \n",
       "unique        2295                  4                 44                 2   \n",
       "top     2016-12-16     within an hour               100%                 f   \n",
       "freq           120               6270               6008              5113   \n",
       "\n",
       "       host_neighbourhood host_identity_verified neighbourhood_cleansed  \\\n",
       "count                7743                   8533                   8533   \n",
       "unique                125                      2                     75   \n",
       "top              Lakeview                      f              West Town   \n",
       "freq                  578                   5218                   1048   \n",
       "\n",
       "       is_location_exact property_type        room_type  bed_type    price  \\\n",
       "count               8533          8533             8533      8533     8533   \n",
       "unique                 2            28                4         5      426   \n",
       "top                    t     Apartment  Entire home/apt  Real Bed  $150.00   \n",
       "freq                7106          4928             5772      8447      273   \n",
       "\n",
       "       security_deposit cleaning_fee extra_people calendar_updated  \\\n",
       "count              6447         7697         8533             8533   \n",
       "unique               76          190           63               55   \n",
       "top               $0.00       $50.00        $0.00            today   \n",
       "freq               2934          585         3767             2027   \n",
       "\n",
       "       instant_bookable          cancellation_policy  \n",
       "count              8533                         8533  \n",
       "unique                2                            5  \n",
       "top                   f  strict_14_with_grace_period  \n",
       "freq               4327                         3430  "
      ]
     },
     "execution_count": 563,
     "metadata": {},
     "output_type": "execute_result"
    }
   ],
   "source": [
    "df.describe(include=[object])"
   ]
  },
  {
   "cell_type": "markdown",
   "metadata": {},
   "source": [
    "### Date-based features"
   ]
  },
  {
   "cell_type": "markdown",
   "metadata": {},
   "source": [
    "Convert \"host_since\" to the number of days counting back from today."
   ]
  },
  {
   "cell_type": "code",
   "execution_count": 564,
   "metadata": {
    "scrolled": false
   },
   "outputs": [
    {
     "data": {
      "text/plain": [
       "0   2008-08-29\n",
       "1   2008-12-29\n",
       "2   2009-05-19\n",
       "3   2009-08-21\n",
       "4   2008-08-16\n",
       "Name: host_since, dtype: datetime64[ns]"
      ]
     },
     "execution_count": 564,
     "metadata": {},
     "output_type": "execute_result"
    }
   ],
   "source": [
    "df['host_since'] = pd.to_datetime(df['host_since'])\n",
    "df['host_since'].head()"
   ]
  },
  {
   "cell_type": "code",
   "execution_count": 565,
   "metadata": {
    "scrolled": false
   },
   "outputs": [
    {
     "data": {
      "text/plain": [
       "datetime.datetime(1970, 1, 1, 0, 0)"
      ]
     },
     "execution_count": 565,
     "metadata": {},
     "output_type": "execute_result"
    }
   ],
   "source": [
    "epoch_0 = datetime.datetime(1970, 1, 1, 0, 0, 0)\n",
    "epoch_0"
   ]
  },
  {
   "cell_type": "code",
   "execution_count": 566,
   "metadata": {
    "scrolled": false
   },
   "outputs": [
    {
     "data": {
      "text/plain": [
       "0    1.219968e+09\n",
       "1    1.230509e+09\n",
       "2    1.242691e+09\n",
       "3    1.250813e+09\n",
       "4    1.218845e+09\n",
       "Name: host_since_days, dtype: float64"
      ]
     },
     "execution_count": 566,
     "metadata": {},
     "output_type": "execute_result"
    }
   ],
   "source": [
    "df['host_since_days'] = (df['host_since'] - epoch_0) / np.timedelta64(1, 's')\n",
    "df['host_since_days'].head()"
   ]
  },
  {
   "cell_type": "code",
   "execution_count": 567,
   "metadata": {
    "scrolled": false
   },
   "outputs": [],
   "source": [
    "df.drop(['host_since'], axis=1, inplace=True)"
   ]
  },
  {
   "cell_type": "markdown",
   "metadata": {},
   "source": [
    "Let us check calendar_updated"
   ]
  },
  {
   "cell_type": "code",
   "execution_count": 568,
   "metadata": {
    "scrolled": false
   },
   "outputs": [
    {
     "data": {
      "text/plain": [
       "calendar_updated\n",
       "1 week ago         46\n",
       "10 months ago      19\n",
       "11 months ago      44\n",
       "12 months ago      29\n",
       "13 months ago      35\n",
       "14 months ago      22\n",
       "15 months ago      28\n",
       "16 months ago      20\n",
       "17 months ago      21\n",
       "18 months ago      15\n",
       "19 months ago      12\n",
       "2 days ago        165\n",
       "2 months ago      645\n",
       "2 weeks ago       654\n",
       "20 months ago      13\n",
       "21 months ago      26\n",
       "22 months ago      10\n",
       "23 months ago      14\n",
       "24 months ago      21\n",
       "25 months ago      17\n",
       "26 months ago      12\n",
       "27 months ago      13\n",
       "28 months ago      10\n",
       "29 months ago       8\n",
       "3 days ago        281\n",
       "3 months ago      385\n",
       "3 weeks ago       534\n",
       "30 months ago       2\n",
       "31 months ago      10\n",
       "32 months ago       8\n",
       "33 months ago       1\n",
       "35 months ago       1\n",
       "37 months ago       2\n",
       "38 months ago       1\n",
       "39 months ago       2\n",
       "4 days ago        240\n",
       "4 months ago      222\n",
       "4 weeks ago       443\n",
       "40 months ago       1\n",
       "41 months ago       1\n",
       "45 months ago       1\n",
       "5 days ago        202\n",
       "5 months ago      139\n",
       "5 weeks ago       282\n",
       "53 months ago       1\n",
       "6 days ago        126\n",
       "6 months ago      117\n",
       "6 weeks ago       212\n",
       "7 months ago       71\n",
       "7 weeks ago       124\n",
       "8 months ago       50\n",
       "9 months ago       58\n",
       "a week ago        706\n",
       "today            2027\n",
       "yesterday         384\n",
       "dtype: int64"
      ]
     },
     "execution_count": 568,
     "metadata": {},
     "output_type": "execute_result"
    }
   ],
   "source": [
    "df.groupby(['calendar_updated'], dropna=False).size()"
   ]
  },
  {
   "cell_type": "code",
   "execution_count": 569,
   "metadata": {
    "scrolled": false
   },
   "outputs": [],
   "source": [
    "#df['calendar_updated'].replace('\\D+', '', regex=True).replace('\\s+', '', regex=True).replace('', '1', regex=False).astype(int)"
   ]
  },
  {
   "cell_type": "code",
   "execution_count": 570,
   "metadata": {
    "scrolled": false
   },
   "outputs": [],
   "source": [
    "#df['calendar_updated'].replace('\\d+', '', regex=True).replace('\\s+', '', regex=True).str.replace('ago', '')"
   ]
  },
  {
   "cell_type": "code",
   "execution_count": 571,
   "metadata": {
    "scrolled": false
   },
   "outputs": [],
   "source": [
    "#s = df['calendar_updated']\n",
    "#s"
   ]
  },
  {
   "cell_type": "code",
   "execution_count": 572,
   "metadata": {
    "scrolled": false
   },
   "outputs": [],
   "source": [
    "#s.value_counts(dropna=False)"
   ]
  },
  {
   "cell_type": "code",
   "execution_count": 573,
   "metadata": {
    "scrolled": false
   },
   "outputs": [],
   "source": [
    "def calendar_to_number(x):\n",
    "    base_calendar = x.replace('\\d+', '', regex=True).replace('\\s+', '', regex=True).str.replace('ago', '')\n",
    "    base_calendar = base_calendar.replace({'today': 0,\n",
    "                                           'week': 7,\n",
    "                                           'weeks': 7,\n",
    "                                           'aweek': 7,\n",
    "                                           'month': 30,\n",
    "                                           'months': 30,\n",
    "                                           'amonth': 30,\n",
    "                                           'yesterday': 1,\n",
    "                                           'day': 1,\n",
    "                                           'days': 1})\n",
    "    #print(base_calendar)\n",
    "    multiplier = x.replace('\\D+', '', regex=True).replace('\\s+', '', regex=True).replace('', '1', regex=False).astype(int)\n",
    "    #print(multiplier)\n",
    "    days_since = base_calendar * multiplier\n",
    "    #print(days_since)\n",
    "    #return None\n",
    "    return days_since"
   ]
  },
  {
   "cell_type": "code",
   "execution_count": 574,
   "metadata": {
    "scrolled": false
   },
   "outputs": [],
   "source": [
    "#calendar_to_number(s)"
   ]
  },
  {
   "cell_type": "code",
   "execution_count": 575,
   "metadata": {
    "scrolled": false
   },
   "outputs": [
    {
     "data": {
      "text/plain": [
       "0    14\n",
       "1     7\n",
       "2    14\n",
       "3    28\n",
       "4    90\n",
       "Name: calendar_updated, dtype: int64"
      ]
     },
     "execution_count": 575,
     "metadata": {},
     "output_type": "execute_result"
    }
   ],
   "source": [
    "s = df['calendar_updated'].head()\n",
    "s = calendar_to_number(s)\n",
    "s"
   ]
  },
  {
   "cell_type": "code",
   "execution_count": 576,
   "metadata": {
    "scrolled": false
   },
   "outputs": [],
   "source": [
    "#df.drop(['days_since_cal_updated'], axis=1, inplace=True)"
   ]
  },
  {
   "cell_type": "code",
   "execution_count": 577,
   "metadata": {
    "scrolled": false
   },
   "outputs": [
    {
     "data": {
      "text/plain": [
       "0    14\n",
       "1     7\n",
       "2    14\n",
       "3    28\n",
       "4    90\n",
       "Name: days_since_cal_updated, dtype: int32"
      ]
     },
     "execution_count": 577,
     "metadata": {},
     "output_type": "execute_result"
    }
   ],
   "source": [
    "df['days_since_cal_updated'] = calendar_to_number(df['calendar_updated']).astype(int)\n",
    "df['days_since_cal_updated'].head()"
   ]
  },
  {
   "cell_type": "code",
   "execution_count": 578,
   "metadata": {
    "scrolled": false
   },
   "outputs": [],
   "source": [
    "df.drop(['calendar_updated'], axis=1, inplace=True)"
   ]
  },
  {
   "cell_type": "markdown",
   "metadata": {},
   "source": [
    "### Convert to numeric"
   ]
  },
  {
   "cell_type": "markdown",
   "metadata": {},
   "source": [
    "Some of these should be numeric. Let us convert those."
   ]
  },
  {
   "cell_type": "code",
   "execution_count": 579,
   "metadata": {
    "scrolled": false
   },
   "outputs": [
    {
     "data": {
      "text/plain": [
       "0    100.0\n",
       "1    100.0\n",
       "2    100.0\n",
       "3     94.0\n",
       "4     75.0\n",
       "Name: host_response_rate_num, dtype: float64"
      ]
     },
     "execution_count": 579,
     "metadata": {},
     "output_type": "execute_result"
    }
   ],
   "source": [
    "df['host_response_rate_num'] = df['host_response_rate'].str.replace('\\D+', '', regex=True).astype(float)\n",
    "df['host_response_rate_num'].head()"
   ]
  },
  {
   "cell_type": "code",
   "execution_count": 580,
   "metadata": {
    "scrolled": false
   },
   "outputs": [
    {
     "data": {
      "text/plain": [
       "824"
      ]
     },
     "execution_count": 580,
     "metadata": {},
     "output_type": "execute_result"
    }
   ],
   "source": [
    "df['host_response_rate_num'].isnull().sum()"
   ]
  },
  {
   "cell_type": "code",
   "execution_count": 581,
   "metadata": {
    "scrolled": false
   },
   "outputs": [],
   "source": [
    "df['host_response_rate_num'].fillna(value=df['host_response_rate_num'].mean(), inplace=True)"
   ]
  },
  {
   "cell_type": "code",
   "execution_count": 582,
   "metadata": {
    "scrolled": false
   },
   "outputs": [],
   "source": [
    "df.drop(['host_response_rate'], axis=1, inplace=True)"
   ]
  },
  {
   "cell_type": "code",
   "execution_count": 583,
   "metadata": {
    "scrolled": false
   },
   "outputs": [
    {
     "data": {
      "text/plain": [
       "0        0.0\n",
       "1        0.0\n",
       "2        0.0\n",
       "3        NaN\n",
       "4    20000.0\n",
       "Name: security_deposit_num, dtype: float64"
      ]
     },
     "execution_count": 583,
     "metadata": {},
     "output_type": "execute_result"
    }
   ],
   "source": [
    "df['security_deposit_num'] = df['security_deposit'].str.replace('\\D+', '', regex=True).astype(float)\n",
    "df['security_deposit_num'].head()"
   ]
  },
  {
   "cell_type": "code",
   "execution_count": 584,
   "metadata": {
    "scrolled": false
   },
   "outputs": [],
   "source": [
    "df['security_deposit_num'].fillna(value=df['security_deposit_num'].mean(), inplace=True)"
   ]
  },
  {
   "cell_type": "code",
   "execution_count": 585,
   "metadata": {
    "scrolled": false
   },
   "outputs": [],
   "source": [
    "df.drop(['security_deposit'], axis=1, inplace=True)"
   ]
  },
  {
   "cell_type": "code",
   "execution_count": 586,
   "metadata": {
    "scrolled": false
   },
   "outputs": [
    {
     "data": {
      "text/plain": [
       "0       0.0\n",
       "1    2500.0\n",
       "2       0.0\n",
       "3    9500.0\n",
       "4    5000.0\n",
       "Name: cleaning_fee_num, dtype: float64"
      ]
     },
     "execution_count": 586,
     "metadata": {},
     "output_type": "execute_result"
    }
   ],
   "source": [
    "df['cleaning_fee_num'] = df['cleaning_fee'].str.replace('\\D+', '', regex=True).astype(float)\n",
    "df['cleaning_fee_num'].head()"
   ]
  },
  {
   "cell_type": "code",
   "execution_count": 587,
   "metadata": {
    "scrolled": false
   },
   "outputs": [],
   "source": [
    "df['cleaning_fee_num'].fillna(value=df['cleaning_fee_num'].mean(), inplace=True)"
   ]
  },
  {
   "cell_type": "code",
   "execution_count": 588,
   "metadata": {
    "scrolled": false
   },
   "outputs": [],
   "source": [
    "df.drop(['cleaning_fee'], axis=1, inplace=True)"
   ]
  },
  {
   "cell_type": "code",
   "execution_count": 589,
   "metadata": {
    "scrolled": false
   },
   "outputs": [
    {
     "data": {
      "text/plain": [
       "0       0.0\n",
       "1    2500.0\n",
       "2       0.0\n",
       "3    2500.0\n",
       "4    1000.0\n",
       "Name: extra_people_num, dtype: float64"
      ]
     },
     "execution_count": 589,
     "metadata": {},
     "output_type": "execute_result"
    }
   ],
   "source": [
    "df['extra_people_num'] = df['extra_people'].str.replace('\\D+', '', regex=True).astype(float)\n",
    "df['extra_people_num'].head()"
   ]
  },
  {
   "cell_type": "code",
   "execution_count": 590,
   "metadata": {
    "scrolled": false
   },
   "outputs": [],
   "source": [
    "df['extra_people_num'].fillna(value=df['extra_people_num'].mean(), inplace=True)"
   ]
  },
  {
   "cell_type": "code",
   "execution_count": 591,
   "metadata": {
    "scrolled": false
   },
   "outputs": [],
   "source": [
    "df.drop(['extra_people'], axis=1, inplace=True)"
   ]
  },
  {
   "cell_type": "code",
   "execution_count": 592,
   "metadata": {
    "scrolled": true
   },
   "outputs": [
    {
     "data": {
      "text/html": [
       "<div>\n",
       "<style scoped>\n",
       "    .dataframe tbody tr th:only-of-type {\n",
       "        vertical-align: middle;\n",
       "    }\n",
       "\n",
       "    .dataframe tbody tr th {\n",
       "        vertical-align: top;\n",
       "    }\n",
       "\n",
       "    .dataframe thead th {\n",
       "        text-align: right;\n",
       "    }\n",
       "</style>\n",
       "<table border=\"1\" class=\"dataframe\">\n",
       "  <thead>\n",
       "    <tr style=\"text-align: right;\">\n",
       "      <th></th>\n",
       "      <th>price</th>\n",
       "      <th>price_num</th>\n",
       "    </tr>\n",
       "  </thead>\n",
       "  <tbody>\n",
       "    <tr>\n",
       "      <th>0</th>\n",
       "      <td>$50.00</td>\n",
       "      <td>5000.0</td>\n",
       "    </tr>\n",
       "    <tr>\n",
       "      <th>1</th>\n",
       "      <td>$117.00</td>\n",
       "      <td>11700.0</td>\n",
       "    </tr>\n",
       "    <tr>\n",
       "      <th>2</th>\n",
       "      <td>$80.00</td>\n",
       "      <td>8000.0</td>\n",
       "    </tr>\n",
       "    <tr>\n",
       "      <th>3</th>\n",
       "      <td>$150.00</td>\n",
       "      <td>15000.0</td>\n",
       "    </tr>\n",
       "    <tr>\n",
       "      <th>4</th>\n",
       "      <td>$35.00</td>\n",
       "      <td>3500.0</td>\n",
       "    </tr>\n",
       "  </tbody>\n",
       "</table>\n",
       "</div>"
      ],
      "text/plain": [
       "     price  price_num\n",
       "0   $50.00     5000.0\n",
       "1  $117.00    11700.0\n",
       "2   $80.00     8000.0\n",
       "3  $150.00    15000.0\n",
       "4   $35.00     3500.0"
      ]
     },
     "execution_count": 592,
     "metadata": {},
     "output_type": "execute_result"
    }
   ],
   "source": [
    "df['price_num'] = df['price'].str.replace('\\D+', '', regex=True).astype(float)\n",
    "df[['price','price_num']].head()"
   ]
  },
  {
   "cell_type": "code",
   "execution_count": 593,
   "metadata": {
    "scrolled": false
   },
   "outputs": [
    {
     "data": {
      "text/html": [
       "<div>\n",
       "<style scoped>\n",
       "    .dataframe tbody tr th:only-of-type {\n",
       "        vertical-align: middle;\n",
       "    }\n",
       "\n",
       "    .dataframe tbody tr th {\n",
       "        vertical-align: top;\n",
       "    }\n",
       "\n",
       "    .dataframe thead th {\n",
       "        text-align: right;\n",
       "    }\n",
       "</style>\n",
       "<table border=\"1\" class=\"dataframe\">\n",
       "  <thead>\n",
       "    <tr style=\"text-align: right;\">\n",
       "      <th></th>\n",
       "      <th>price</th>\n",
       "      <th>price_num</th>\n",
       "    </tr>\n",
       "  </thead>\n",
       "  <tbody>\n",
       "    <tr>\n",
       "      <th>count</th>\n",
       "      <td>8533</td>\n",
       "      <td>8533.000000</td>\n",
       "    </tr>\n",
       "    <tr>\n",
       "      <th>unique</th>\n",
       "      <td>426</td>\n",
       "      <td>NaN</td>\n",
       "    </tr>\n",
       "    <tr>\n",
       "      <th>top</th>\n",
       "      <td>$150.00</td>\n",
       "      <td>NaN</td>\n",
       "    </tr>\n",
       "    <tr>\n",
       "      <th>freq</th>\n",
       "      <td>273</td>\n",
       "      <td>NaN</td>\n",
       "    </tr>\n",
       "    <tr>\n",
       "      <th>mean</th>\n",
       "      <td>NaN</td>\n",
       "      <td>18054.916208</td>\n",
       "    </tr>\n",
       "    <tr>\n",
       "      <th>std</th>\n",
       "      <td>NaN</td>\n",
       "      <td>47418.670728</td>\n",
       "    </tr>\n",
       "    <tr>\n",
       "      <th>min</th>\n",
       "      <td>NaN</td>\n",
       "      <td>0.000000</td>\n",
       "    </tr>\n",
       "    <tr>\n",
       "      <th>25%</th>\n",
       "      <td>NaN</td>\n",
       "      <td>6500.000000</td>\n",
       "    </tr>\n",
       "    <tr>\n",
       "      <th>50%</th>\n",
       "      <td>NaN</td>\n",
       "      <td>10100.000000</td>\n",
       "    </tr>\n",
       "    <tr>\n",
       "      <th>75%</th>\n",
       "      <td>NaN</td>\n",
       "      <td>17600.000000</td>\n",
       "    </tr>\n",
       "    <tr>\n",
       "      <th>max</th>\n",
       "      <td>NaN</td>\n",
       "      <td>1000000.000000</td>\n",
       "    </tr>\n",
       "  </tbody>\n",
       "</table>\n",
       "</div>"
      ],
      "text/plain": [
       "          price       price_num\n",
       "count      8533     8533.000000\n",
       "unique      426             NaN\n",
       "top     $150.00             NaN\n",
       "freq        273             NaN\n",
       "mean        NaN    18054.916208\n",
       "std         NaN    47418.670728\n",
       "min         NaN        0.000000\n",
       "25%         NaN     6500.000000\n",
       "50%         NaN    10100.000000\n",
       "75%         NaN    17600.000000\n",
       "max         NaN  1000000.000000"
      ]
     },
     "execution_count": 593,
     "metadata": {},
     "output_type": "execute_result"
    }
   ],
   "source": [
    "df[['price','price_num']].describe(include='all')"
   ]
  },
  {
   "cell_type": "code",
   "execution_count": 594,
   "metadata": {},
   "outputs": [
    {
     "data": {
      "text/plain": [
       "price\n",
       "$0.00          3\n",
       "$1,000.00     51\n",
       "$1,002.00      5\n",
       "$1,095.00      1\n",
       "$1,100.00      2\n",
       "            ... \n",
       "$975.00        4\n",
       "$98.00        28\n",
       "$980.00        1\n",
       "$99.00       234\n",
       "$999.00       24\n",
       "Length: 426, dtype: int64"
      ]
     },
     "execution_count": 594,
     "metadata": {},
     "output_type": "execute_result"
    }
   ],
   "source": [
    "df.groupby(['price']).size()"
   ]
  },
  {
   "cell_type": "code",
   "execution_count": 595,
   "metadata": {
    "scrolled": false
   },
   "outputs": [
    {
     "data": {
      "text/plain": [
       "0"
      ]
     },
     "execution_count": 595,
     "metadata": {},
     "output_type": "execute_result"
    }
   ],
   "source": [
    "df['price_num'].isnull().sum()"
   ]
  },
  {
   "cell_type": "code",
   "execution_count": 596,
   "metadata": {
    "scrolled": false
   },
   "outputs": [],
   "source": [
    "df.drop(['price'], axis=1, inplace=True)"
   ]
  },
  {
   "cell_type": "markdown",
   "metadata": {},
   "source": [
    "### Convert boolean values to binary"
   ]
  },
  {
   "cell_type": "markdown",
   "metadata": {},
   "source": [
    "Some columns can be converted to binary representation."
   ]
  },
  {
   "cell_type": "code",
   "execution_count": 597,
   "metadata": {
    "scrolled": false
   },
   "outputs": [
    {
     "data": {
      "text/plain": [
       "0    1\n",
       "1    1\n",
       "2    1\n",
       "3    0\n",
       "4    0\n",
       "Name: host_is_superhost, dtype: int64"
      ]
     },
     "execution_count": 597,
     "metadata": {},
     "output_type": "execute_result"
    }
   ],
   "source": [
    "df['host_is_superhost'].replace({'t': 1, 'f': 0}, inplace=True)\n",
    "df['host_is_superhost'].head()"
   ]
  },
  {
   "cell_type": "code",
   "execution_count": 598,
   "metadata": {
    "scrolled": false
   },
   "outputs": [
    {
     "data": {
      "text/plain": [
       "0"
      ]
     },
     "execution_count": 598,
     "metadata": {},
     "output_type": "execute_result"
    }
   ],
   "source": [
    "df['host_is_superhost'].isnull().sum()"
   ]
  },
  {
   "cell_type": "code",
   "execution_count": 599,
   "metadata": {
    "scrolled": false
   },
   "outputs": [
    {
     "data": {
      "text/plain": [
       "0    1\n",
       "1    1\n",
       "2    0\n",
       "3    1\n",
       "4    1\n",
       "Name: host_identity_verified, dtype: int64"
      ]
     },
     "execution_count": 599,
     "metadata": {},
     "output_type": "execute_result"
    }
   ],
   "source": [
    "df['host_identity_verified'].replace({'t': 1, 'f': 0}, inplace=True)\n",
    "df['host_identity_verified'].head()"
   ]
  },
  {
   "cell_type": "code",
   "execution_count": 600,
   "metadata": {
    "scrolled": false
   },
   "outputs": [
    {
     "data": {
      "text/plain": [
       "0"
      ]
     },
     "execution_count": 600,
     "metadata": {},
     "output_type": "execute_result"
    }
   ],
   "source": [
    "df['host_identity_verified'].isnull().sum()"
   ]
  },
  {
   "cell_type": "code",
   "execution_count": 601,
   "metadata": {
    "scrolled": false
   },
   "outputs": [
    {
     "data": {
      "text/plain": [
       "0    0\n",
       "1    1\n",
       "2    0\n",
       "3    1\n",
       "4    1\n",
       "Name: instant_bookable, dtype: int64"
      ]
     },
     "execution_count": 601,
     "metadata": {},
     "output_type": "execute_result"
    }
   ],
   "source": [
    "df['instant_bookable'].replace({'t': 1, 'f': 0}, inplace=True)\n",
    "df['instant_bookable'].head()"
   ]
  },
  {
   "cell_type": "code",
   "execution_count": 602,
   "metadata": {
    "scrolled": false
   },
   "outputs": [
    {
     "data": {
      "text/plain": [
       "0"
      ]
     },
     "execution_count": 602,
     "metadata": {},
     "output_type": "execute_result"
    }
   ],
   "source": [
    "df['instant_bookable'].isnull().sum()"
   ]
  },
  {
   "cell_type": "code",
   "execution_count": 603,
   "metadata": {
    "scrolled": false
   },
   "outputs": [
    {
     "data": {
      "text/plain": [
       "0    1\n",
       "1    1\n",
       "2    1\n",
       "3    1\n",
       "4    1\n",
       "Name: is_location_exact, dtype: int64"
      ]
     },
     "execution_count": 603,
     "metadata": {},
     "output_type": "execute_result"
    }
   ],
   "source": [
    "df['is_location_exact'].replace({'t': 1, 'f': 0}, inplace=True)\n",
    "df['is_location_exact'].head()"
   ]
  },
  {
   "cell_type": "markdown",
   "metadata": {},
   "source": [
    "### Categorical data"
   ]
  },
  {
   "cell_type": "markdown",
   "metadata": {},
   "source": [
    "Let us try to categorize or quantify the host response time."
   ]
  },
  {
   "cell_type": "code",
   "execution_count": 604,
   "metadata": {
    "scrolled": false
   },
   "outputs": [
    {
     "data": {
      "text/plain": [
       "host_response_time\n",
       "a few days or more      41\n",
       "within a day           437\n",
       "within a few hours     961\n",
       "within an hour        6270\n",
       "NaN                    824\n",
       "dtype: int64"
      ]
     },
     "execution_count": 604,
     "metadata": {},
     "output_type": "execute_result"
    }
   ],
   "source": [
    "df.groupby(['host_response_time'], dropna=False).size()"
   ]
  },
  {
   "cell_type": "markdown",
   "metadata": {},
   "source": [
    "Let us check property type, room type and bed type"
   ]
  },
  {
   "cell_type": "code",
   "execution_count": 605,
   "metadata": {
    "scrolled": false
   },
   "outputs": [
    {
     "data": {
      "text/plain": [
       "property_type\n",
       "Aparthotel               3\n",
       "Apartment             4928\n",
       "Barn                     2\n",
       "Bed and breakfast       22\n",
       "Boat                     5\n",
       "Boutique hotel          92\n",
       "Bungalow                88\n",
       "Camper/RV                1\n",
       "Campsite                 1\n",
       "Castle                   3\n",
       "Cave                     1\n",
       "Condominium           1263\n",
       "Cottage                  9\n",
       "Dome house               2\n",
       "Farm stay                1\n",
       "Guest suite            204\n",
       "Guesthouse              52\n",
       "Hostel                  13\n",
       "Hotel                   11\n",
       "House                 1197\n",
       "In-law                   1\n",
       "Loft                   247\n",
       "Other                    6\n",
       "Resort                   3\n",
       "Serviced apartment     147\n",
       "Tiny house               3\n",
       "Townhouse              226\n",
       "Villa                    2\n",
       "dtype: int64"
      ]
     },
     "execution_count": 605,
     "metadata": {},
     "output_type": "execute_result"
    }
   ],
   "source": [
    "df.groupby(['property_type'], dropna=False).size()"
   ]
  },
  {
   "cell_type": "markdown",
   "metadata": {},
   "source": [
    "Since this exercise is meant to identify investment opportunities, we won't get much value from property types with few entries."
   ]
  },
  {
   "cell_type": "code",
   "execution_count": 606,
   "metadata": {
    "scrolled": false
   },
   "outputs": [],
   "source": [
    "#property_drop_list = ['Cave']\n",
    "#df[df['property_type'].isin(property_drop_list)]"
   ]
  },
  {
   "cell_type": "code",
   "execution_count": 607,
   "metadata": {
    "scrolled": false
   },
   "outputs": [],
   "source": [
    "#property_keep_list = ['Apartment']\n",
    "#df[df['property_type'].isin(property_keep_list)]"
   ]
  },
  {
   "cell_type": "code",
   "execution_count": 608,
   "metadata": {
    "scrolled": false
   },
   "outputs": [
    {
     "data": {
      "text/plain": [
       "['Apartment',\n",
       " 'Bed and breakfast',\n",
       " 'Boutique hotel',\n",
       " 'Bungalow',\n",
       " 'Condominium',\n",
       " 'Guest suite',\n",
       " 'Guesthouse',\n",
       " 'Hostel',\n",
       " 'Hotel',\n",
       " 'House',\n",
       " 'Loft',\n",
       " 'Serviced apartment',\n",
       " 'Townhouse']"
      ]
     },
     "execution_count": 608,
     "metadata": {},
     "output_type": "execute_result"
    }
   ],
   "source": [
    "property_keep_list = df.groupby(['property_type'], dropna=False).size()[lambda x: x >= 10].index.to_list()\n",
    "property_keep_list"
   ]
  },
  {
   "cell_type": "code",
   "execution_count": 609,
   "metadata": {
    "scrolled": false
   },
   "outputs": [
    {
     "data": {
      "text/plain": [
       "(8533, 33)"
      ]
     },
     "execution_count": 609,
     "metadata": {},
     "output_type": "execute_result"
    }
   ],
   "source": [
    "df.shape"
   ]
  },
  {
   "cell_type": "code",
   "execution_count": 610,
   "metadata": {
    "scrolled": false
   },
   "outputs": [
    {
     "data": {
      "text/plain": [
       "(8490, 33)"
      ]
     },
     "execution_count": 610,
     "metadata": {},
     "output_type": "execute_result"
    }
   ],
   "source": [
    "df = df[df['property_type'].isin(property_keep_list)]\n",
    "df.shape"
   ]
  },
  {
   "cell_type": "code",
   "execution_count": 611,
   "metadata": {
    "scrolled": false
   },
   "outputs": [
    {
     "data": {
      "text/plain": [
       "room_type\n",
       "Entire home/apt    5749\n",
       "Hotel room          107\n",
       "Private room       2473\n",
       "Shared room         161\n",
       "dtype: int64"
      ]
     },
     "execution_count": 611,
     "metadata": {},
     "output_type": "execute_result"
    }
   ],
   "source": [
    "df.groupby(['room_type'], dropna=False).size()"
   ]
  },
  {
   "cell_type": "code",
   "execution_count": 612,
   "metadata": {
    "scrolled": false
   },
   "outputs": [
    {
     "data": {
      "text/plain": [
       "bed_type\n",
       "Airbed             30\n",
       "Couch               8\n",
       "Futon              26\n",
       "Pull-out Sofa      20\n",
       "Real Bed         8406\n",
       "dtype: int64"
      ]
     },
     "execution_count": 612,
     "metadata": {},
     "output_type": "execute_result"
    }
   ],
   "source": [
    "df.groupby(['bed_type'], dropna=False).size()"
   ]
  },
  {
   "cell_type": "code",
   "execution_count": 613,
   "metadata": {
    "scrolled": false
   },
   "outputs": [
    {
     "data": {
      "text/plain": [
       "host_neighbourhood\n",
       "Albany Park        82\n",
       "Andersonville      83\n",
       "Archer Heights      4\n",
       "Armour Square       4\n",
       "Ashburn             5\n",
       "                 ... \n",
       "Wicker Park       237\n",
       "Woodlawn           87\n",
       "Wrigleyville       60\n",
       "Zephyr Cove         1\n",
       "NaN               787\n",
       "Length: 126, dtype: int64"
      ]
     },
     "execution_count": 613,
     "metadata": {},
     "output_type": "execute_result"
    }
   ],
   "source": [
    "df.groupby(['host_neighbourhood'], dropna=False).size()"
   ]
  },
  {
   "cell_type": "code",
   "execution_count": 614,
   "metadata": {
    "scrolled": false
   },
   "outputs": [
    {
     "data": {
      "text/plain": [
       "0     True\n",
       "1    False\n",
       "2    False\n",
       "3    False\n",
       "4     True\n",
       "Name: is_host_in_hood, dtype: bool"
      ]
     },
     "execution_count": 614,
     "metadata": {},
     "output_type": "execute_result"
    }
   ],
   "source": [
    "df['is_host_in_hood'] = (df['host_neighbourhood'] == df['neighbourhood_cleansed'])\n",
    "df['is_host_in_hood'].head()"
   ]
  },
  {
   "cell_type": "code",
   "execution_count": 615,
   "metadata": {
    "scrolled": true
   },
   "outputs": [
    {
     "data": {
      "text/plain": [
       "0    1\n",
       "1    0\n",
       "2    0\n",
       "3    0\n",
       "4    1\n",
       "Name: is_host_in_hood, dtype: int32"
      ]
     },
     "execution_count": 615,
     "metadata": {},
     "output_type": "execute_result"
    }
   ],
   "source": [
    "df['is_host_in_hood'] = df['is_host_in_hood'].astype(int)\n",
    "df['is_host_in_hood'].head()"
   ]
  },
  {
   "cell_type": "code",
   "execution_count": 616,
   "metadata": {
    "scrolled": false
   },
   "outputs": [
    {
     "data": {
      "text/plain": [
       "is_host_in_hood\n",
       "0    5423\n",
       "1    3067\n",
       "dtype: int64"
      ]
     },
     "execution_count": 616,
     "metadata": {},
     "output_type": "execute_result"
    }
   ],
   "source": [
    "df.groupby(['is_host_in_hood'], dropna=False).size()"
   ]
  },
  {
   "cell_type": "code",
   "execution_count": 617,
   "metadata": {
    "scrolled": false
   },
   "outputs": [],
   "source": [
    "df.drop(['host_neighbourhood'], axis=1, inplace=True)"
   ]
  },
  {
   "cell_type": "code",
   "execution_count": 618,
   "metadata": {
    "scrolled": false
   },
   "outputs": [
    {
     "data": {
      "text/plain": [
       "cancellation_policy\n",
       "flexible                       2107\n",
       "moderate                       2903\n",
       "strict_14_with_grace_period    3405\n",
       "super_strict_30                  24\n",
       "super_strict_60                  51\n",
       "dtype: int64"
      ]
     },
     "execution_count": 618,
     "metadata": {},
     "output_type": "execute_result"
    }
   ],
   "source": [
    "df.groupby(['cancellation_policy'], dropna=False).size()"
   ]
  },
  {
   "cell_type": "code",
   "execution_count": 619,
   "metadata": {
    "scrolled": false
   },
   "outputs": [
    {
     "data": {
      "text/html": [
       "<div>\n",
       "<style scoped>\n",
       "    .dataframe tbody tr th:only-of-type {\n",
       "        vertical-align: middle;\n",
       "    }\n",
       "\n",
       "    .dataframe tbody tr th {\n",
       "        vertical-align: top;\n",
       "    }\n",
       "\n",
       "    .dataframe thead th {\n",
       "        text-align: right;\n",
       "    }\n",
       "</style>\n",
       "<table border=\"1\" class=\"dataframe\">\n",
       "  <thead>\n",
       "    <tr style=\"text-align: right;\">\n",
       "      <th></th>\n",
       "      <th>host_response_time</th>\n",
       "      <th>neighbourhood_cleansed</th>\n",
       "      <th>property_type</th>\n",
       "      <th>room_type</th>\n",
       "      <th>bed_type</th>\n",
       "      <th>cancellation_policy</th>\n",
       "    </tr>\n",
       "  </thead>\n",
       "  <tbody>\n",
       "    <tr>\n",
       "      <th>count</th>\n",
       "      <td>7672</td>\n",
       "      <td>8490</td>\n",
       "      <td>8490</td>\n",
       "      <td>8490</td>\n",
       "      <td>8490</td>\n",
       "      <td>8490</td>\n",
       "    </tr>\n",
       "    <tr>\n",
       "      <th>unique</th>\n",
       "      <td>4</td>\n",
       "      <td>75</td>\n",
       "      <td>13</td>\n",
       "      <td>4</td>\n",
       "      <td>5</td>\n",
       "      <td>5</td>\n",
       "    </tr>\n",
       "    <tr>\n",
       "      <th>top</th>\n",
       "      <td>within an hour</td>\n",
       "      <td>West Town</td>\n",
       "      <td>Apartment</td>\n",
       "      <td>Entire home/apt</td>\n",
       "      <td>Real Bed</td>\n",
       "      <td>strict_14_with_grace_period</td>\n",
       "    </tr>\n",
       "    <tr>\n",
       "      <th>freq</th>\n",
       "      <td>6238</td>\n",
       "      <td>1045</td>\n",
       "      <td>4928</td>\n",
       "      <td>5749</td>\n",
       "      <td>8406</td>\n",
       "      <td>3405</td>\n",
       "    </tr>\n",
       "  </tbody>\n",
       "</table>\n",
       "</div>"
      ],
      "text/plain": [
       "       host_response_time neighbourhood_cleansed property_type  \\\n",
       "count                7672                   8490          8490   \n",
       "unique                  4                     75            13   \n",
       "top        within an hour              West Town     Apartment   \n",
       "freq                 6238                   1045          4928   \n",
       "\n",
       "              room_type  bed_type          cancellation_policy  \n",
       "count              8490      8490                         8490  \n",
       "unique                4         5                            5  \n",
       "top     Entire home/apt  Real Bed  strict_14_with_grace_period  \n",
       "freq               5749      8406                         3405  "
      ]
     },
     "execution_count": 619,
     "metadata": {},
     "output_type": "execute_result"
    }
   ],
   "source": [
    "df.describe(include=object)"
   ]
  },
  {
   "cell_type": "markdown",
   "metadata": {},
   "source": [
    "The neighbourhood column has a lot of unique values. Let us look at it more closely."
   ]
  },
  {
   "cell_type": "code",
   "execution_count": 620,
   "metadata": {
    "scrolled": true
   },
   "outputs": [
    {
     "data": {
      "text/plain": [
       "neighbourhood_cleansed\n",
       "Albany Park         94\n",
       "Archer Heights       6\n",
       "Armour Square       97\n",
       "Ashburn             11\n",
       "Auburn Gresham      15\n",
       "                  ... \n",
       "West Lawn           16\n",
       "West Pullman         2\n",
       "West Ridge          93\n",
       "West Town         1045\n",
       "Woodlawn           105\n",
       "Length: 75, dtype: int64"
      ]
     },
     "execution_count": 620,
     "metadata": {},
     "output_type": "execute_result"
    }
   ],
   "source": [
    "df.groupby(['neighbourhood_cleansed'], dropna=False).size()"
   ]
  },
  {
   "cell_type": "code",
   "execution_count": 621,
   "metadata": {
    "scrolled": false
   },
   "outputs": [
    {
     "data": {
      "text/html": [
       "<div>\n",
       "<style scoped>\n",
       "    .dataframe tbody tr th:only-of-type {\n",
       "        vertical-align: middle;\n",
       "    }\n",
       "\n",
       "    .dataframe tbody tr th {\n",
       "        vertical-align: top;\n",
       "    }\n",
       "\n",
       "    .dataframe thead th {\n",
       "        text-align: right;\n",
       "    }\n",
       "</style>\n",
       "<table border=\"1\" class=\"dataframe\">\n",
       "  <thead>\n",
       "    <tr style=\"text-align: right;\">\n",
       "      <th></th>\n",
       "      <th>host_is_superhost</th>\n",
       "      <th>host_listings_count</th>\n",
       "      <th>host_identity_verified</th>\n",
       "      <th>is_location_exact</th>\n",
       "      <th>accommodates</th>\n",
       "      <th>bathrooms</th>\n",
       "      <th>bedrooms</th>\n",
       "      <th>beds</th>\n",
       "      <th>guests_included</th>\n",
       "      <th>number_of_reviews</th>\n",
       "      <th>...</th>\n",
       "      <th>review_scores_value</th>\n",
       "      <th>instant_bookable</th>\n",
       "      <th>host_since_days</th>\n",
       "      <th>days_since_cal_updated</th>\n",
       "      <th>host_response_rate_num</th>\n",
       "      <th>security_deposit_num</th>\n",
       "      <th>cleaning_fee_num</th>\n",
       "      <th>extra_people_num</th>\n",
       "      <th>price_num</th>\n",
       "      <th>is_host_in_hood</th>\n",
       "    </tr>\n",
       "  </thead>\n",
       "  <tbody>\n",
       "    <tr>\n",
       "      <th>count</th>\n",
       "      <td>8490.000000</td>\n",
       "      <td>8490.000000</td>\n",
       "      <td>8490.000000</td>\n",
       "      <td>8490.000000</td>\n",
       "      <td>8490.000000</td>\n",
       "      <td>8490.000000</td>\n",
       "      <td>8490.000000</td>\n",
       "      <td>8490.000000</td>\n",
       "      <td>8490.000000</td>\n",
       "      <td>8490.000000</td>\n",
       "      <td>...</td>\n",
       "      <td>8490.000000</td>\n",
       "      <td>8490.000000</td>\n",
       "      <td>8.490000e+03</td>\n",
       "      <td>8490.000000</td>\n",
       "      <td>8490.000000</td>\n",
       "      <td>8490.000000</td>\n",
       "      <td>8490.000000</td>\n",
       "      <td>8490.000000</td>\n",
       "      <td>8490.000000</td>\n",
       "      <td>8490.000000</td>\n",
       "    </tr>\n",
       "    <tr>\n",
       "      <th>mean</th>\n",
       "      <td>0.400707</td>\n",
       "      <td>48.969140</td>\n",
       "      <td>0.387161</td>\n",
       "      <td>0.832980</td>\n",
       "      <td>4.334393</td>\n",
       "      <td>1.377047</td>\n",
       "      <td>1.644708</td>\n",
       "      <td>2.248084</td>\n",
       "      <td>2.251001</td>\n",
       "      <td>41.191519</td>\n",
       "      <td>...</td>\n",
       "      <td>8.124382</td>\n",
       "      <td>0.492697</td>\n",
       "      <td>1.451590e+09</td>\n",
       "      <td>56.978799</td>\n",
       "      <td>97.440039</td>\n",
       "      <td>21671.365060</td>\n",
       "      <td>6852.510663</td>\n",
       "      <td>1506.772674</td>\n",
       "      <td>18052.273263</td>\n",
       "      <td>0.361249</td>\n",
       "    </tr>\n",
       "    <tr>\n",
       "      <th>std</th>\n",
       "      <td>0.490071</td>\n",
       "      <td>201.628926</td>\n",
       "      <td>0.487130</td>\n",
       "      <td>0.373016</td>\n",
       "      <td>2.972320</td>\n",
       "      <td>0.780584</td>\n",
       "      <td>1.200767</td>\n",
       "      <td>1.969516</td>\n",
       "      <td>2.015785</td>\n",
       "      <td>60.548470</td>\n",
       "      <td>...</td>\n",
       "      <td>3.424301</td>\n",
       "      <td>0.499976</td>\n",
       "      <td>7.091808e+07</td>\n",
       "      <td>133.139123</td>\n",
       "      <td>8.272808</td>\n",
       "      <td>35900.317432</td>\n",
       "      <td>5713.041100</td>\n",
       "      <td>2660.718041</td>\n",
       "      <td>47504.287276</td>\n",
       "      <td>0.480391</td>\n",
       "    </tr>\n",
       "    <tr>\n",
       "      <th>min</th>\n",
       "      <td>0.000000</td>\n",
       "      <td>0.000000</td>\n",
       "      <td>0.000000</td>\n",
       "      <td>0.000000</td>\n",
       "      <td>1.000000</td>\n",
       "      <td>0.000000</td>\n",
       "      <td>0.000000</td>\n",
       "      <td>0.000000</td>\n",
       "      <td>1.000000</td>\n",
       "      <td>0.000000</td>\n",
       "      <td>...</td>\n",
       "      <td>0.000000</td>\n",
       "      <td>0.000000</td>\n",
       "      <td>1.218845e+09</td>\n",
       "      <td>0.000000</td>\n",
       "      <td>0.000000</td>\n",
       "      <td>0.000000</td>\n",
       "      <td>0.000000</td>\n",
       "      <td>0.000000</td>\n",
       "      <td>0.000000</td>\n",
       "      <td>0.000000</td>\n",
       "    </tr>\n",
       "    <tr>\n",
       "      <th>25%</th>\n",
       "      <td>0.000000</td>\n",
       "      <td>1.000000</td>\n",
       "      <td>0.000000</td>\n",
       "      <td>1.000000</td>\n",
       "      <td>2.000000</td>\n",
       "      <td>1.000000</td>\n",
       "      <td>1.000000</td>\n",
       "      <td>1.000000</td>\n",
       "      <td>1.000000</td>\n",
       "      <td>3.000000</td>\n",
       "      <td>...</td>\n",
       "      <td>9.000000</td>\n",
       "      <td>0.000000</td>\n",
       "      <td>1.401084e+09</td>\n",
       "      <td>1.000000</td>\n",
       "      <td>98.000000</td>\n",
       "      <td>0.000000</td>\n",
       "      <td>3000.000000</td>\n",
       "      <td>0.000000</td>\n",
       "      <td>6500.000000</td>\n",
       "      <td>0.000000</td>\n",
       "    </tr>\n",
       "    <tr>\n",
       "      <th>50%</th>\n",
       "      <td>0.000000</td>\n",
       "      <td>2.000000</td>\n",
       "      <td>0.000000</td>\n",
       "      <td>1.000000</td>\n",
       "      <td>4.000000</td>\n",
       "      <td>1.000000</td>\n",
       "      <td>1.000000</td>\n",
       "      <td>2.000000</td>\n",
       "      <td>1.000000</td>\n",
       "      <td>17.000000</td>\n",
       "      <td>...</td>\n",
       "      <td>10.000000</td>\n",
       "      <td>0.000000</td>\n",
       "      <td>1.453594e+09</td>\n",
       "      <td>14.000000</td>\n",
       "      <td>100.000000</td>\n",
       "      <td>20000.000000</td>\n",
       "      <td>6500.000000</td>\n",
       "      <td>1000.000000</td>\n",
       "      <td>10100.000000</td>\n",
       "      <td>0.000000</td>\n",
       "    </tr>\n",
       "    <tr>\n",
       "      <th>75%</th>\n",
       "      <td>1.000000</td>\n",
       "      <td>8.000000</td>\n",
       "      <td>1.000000</td>\n",
       "      <td>1.000000</td>\n",
       "      <td>6.000000</td>\n",
       "      <td>2.000000</td>\n",
       "      <td>2.000000</td>\n",
       "      <td>3.000000</td>\n",
       "      <td>3.000000</td>\n",
       "      <td>55.000000</td>\n",
       "      <td>...</td>\n",
       "      <td>10.000000</td>\n",
       "      <td>1.000000</td>\n",
       "      <td>1.509732e+09</td>\n",
       "      <td>49.000000</td>\n",
       "      <td>100.000000</td>\n",
       "      <td>25000.000000</td>\n",
       "      <td>9500.000000</td>\n",
       "      <td>2500.000000</td>\n",
       "      <td>17600.000000</td>\n",
       "      <td>1.000000</td>\n",
       "    </tr>\n",
       "    <tr>\n",
       "      <th>max</th>\n",
       "      <td>1.000000</td>\n",
       "      <td>1820.000000</td>\n",
       "      <td>1.000000</td>\n",
       "      <td>1.000000</td>\n",
       "      <td>32.000000</td>\n",
       "      <td>21.000000</td>\n",
       "      <td>24.000000</td>\n",
       "      <td>50.000000</td>\n",
       "      <td>16.000000</td>\n",
       "      <td>603.000000</td>\n",
       "      <td>...</td>\n",
       "      <td>10.000000</td>\n",
       "      <td>1.000000</td>\n",
       "      <td>1.574122e+09</td>\n",
       "      <td>1590.000000</td>\n",
       "      <td>100.000000</td>\n",
       "      <td>500000.000000</td>\n",
       "      <td>150000.000000</td>\n",
       "      <td>30000.000000</td>\n",
       "      <td>1000000.000000</td>\n",
       "      <td>1.000000</td>\n",
       "    </tr>\n",
       "  </tbody>\n",
       "</table>\n",
       "<p>8 rows × 27 columns</p>\n",
       "</div>"
      ],
      "text/plain": [
       "       host_is_superhost  host_listings_count  host_identity_verified  \\\n",
       "count        8490.000000          8490.000000             8490.000000   \n",
       "mean            0.400707            48.969140                0.387161   \n",
       "std             0.490071           201.628926                0.487130   \n",
       "min             0.000000             0.000000                0.000000   \n",
       "25%             0.000000             1.000000                0.000000   \n",
       "50%             0.000000             2.000000                0.000000   \n",
       "75%             1.000000             8.000000                1.000000   \n",
       "max             1.000000          1820.000000                1.000000   \n",
       "\n",
       "       is_location_exact  accommodates    bathrooms     bedrooms         beds  \\\n",
       "count        8490.000000   8490.000000  8490.000000  8490.000000  8490.000000   \n",
       "mean            0.832980      4.334393     1.377047     1.644708     2.248084   \n",
       "std             0.373016      2.972320     0.780584     1.200767     1.969516   \n",
       "min             0.000000      1.000000     0.000000     0.000000     0.000000   \n",
       "25%             1.000000      2.000000     1.000000     1.000000     1.000000   \n",
       "50%             1.000000      4.000000     1.000000     1.000000     2.000000   \n",
       "75%             1.000000      6.000000     2.000000     2.000000     3.000000   \n",
       "max             1.000000     32.000000    21.000000    24.000000    50.000000   \n",
       "\n",
       "       guests_included  number_of_reviews  ...  review_scores_value  \\\n",
       "count      8490.000000        8490.000000  ...          8490.000000   \n",
       "mean          2.251001          41.191519  ...             8.124382   \n",
       "std           2.015785          60.548470  ...             3.424301   \n",
       "min           1.000000           0.000000  ...             0.000000   \n",
       "25%           1.000000           3.000000  ...             9.000000   \n",
       "50%           1.000000          17.000000  ...            10.000000   \n",
       "75%           3.000000          55.000000  ...            10.000000   \n",
       "max          16.000000         603.000000  ...            10.000000   \n",
       "\n",
       "       instant_bookable  host_since_days  days_since_cal_updated  \\\n",
       "count       8490.000000     8.490000e+03             8490.000000   \n",
       "mean           0.492697     1.451590e+09               56.978799   \n",
       "std            0.499976     7.091808e+07              133.139123   \n",
       "min            0.000000     1.218845e+09                0.000000   \n",
       "25%            0.000000     1.401084e+09                1.000000   \n",
       "50%            0.000000     1.453594e+09               14.000000   \n",
       "75%            1.000000     1.509732e+09               49.000000   \n",
       "max            1.000000     1.574122e+09             1590.000000   \n",
       "\n",
       "       host_response_rate_num  security_deposit_num  cleaning_fee_num  \\\n",
       "count             8490.000000           8490.000000       8490.000000   \n",
       "mean                97.440039          21671.365060       6852.510663   \n",
       "std                  8.272808          35900.317432       5713.041100   \n",
       "min                  0.000000              0.000000          0.000000   \n",
       "25%                 98.000000              0.000000       3000.000000   \n",
       "50%                100.000000          20000.000000       6500.000000   \n",
       "75%                100.000000          25000.000000       9500.000000   \n",
       "max                100.000000         500000.000000     150000.000000   \n",
       "\n",
       "       extra_people_num       price_num  is_host_in_hood  \n",
       "count       8490.000000     8490.000000      8490.000000  \n",
       "mean        1506.772674    18052.273263         0.361249  \n",
       "std         2660.718041    47504.287276         0.480391  \n",
       "min            0.000000        0.000000         0.000000  \n",
       "25%            0.000000     6500.000000         0.000000  \n",
       "50%         1000.000000    10100.000000         0.000000  \n",
       "75%         2500.000000    17600.000000         1.000000  \n",
       "max        30000.000000  1000000.000000         1.000000  \n",
       "\n",
       "[8 rows x 27 columns]"
      ]
     },
     "execution_count": 621,
     "metadata": {},
     "output_type": "execute_result"
    }
   ],
   "source": [
    "df.describe()"
   ]
  },
  {
   "cell_type": "markdown",
   "metadata": {},
   "source": [
    "The minimum price is zero. How many are listed with no price?"
   ]
  },
  {
   "cell_type": "code",
   "execution_count": 622,
   "metadata": {
    "scrolled": true
   },
   "outputs": [
    {
     "data": {
      "text/html": [
       "<div>\n",
       "<style scoped>\n",
       "    .dataframe tbody tr th:only-of-type {\n",
       "        vertical-align: middle;\n",
       "    }\n",
       "\n",
       "    .dataframe tbody tr th {\n",
       "        vertical-align: top;\n",
       "    }\n",
       "\n",
       "    .dataframe thead th {\n",
       "        text-align: right;\n",
       "    }\n",
       "</style>\n",
       "<table border=\"1\" class=\"dataframe\">\n",
       "  <thead>\n",
       "    <tr style=\"text-align: right;\">\n",
       "      <th></th>\n",
       "      <th>host_response_time</th>\n",
       "      <th>host_is_superhost</th>\n",
       "      <th>host_listings_count</th>\n",
       "      <th>host_identity_verified</th>\n",
       "      <th>neighbourhood_cleansed</th>\n",
       "      <th>is_location_exact</th>\n",
       "      <th>property_type</th>\n",
       "      <th>room_type</th>\n",
       "      <th>accommodates</th>\n",
       "      <th>bathrooms</th>\n",
       "      <th>...</th>\n",
       "      <th>instant_bookable</th>\n",
       "      <th>cancellation_policy</th>\n",
       "      <th>host_since_days</th>\n",
       "      <th>days_since_cal_updated</th>\n",
       "      <th>host_response_rate_num</th>\n",
       "      <th>security_deposit_num</th>\n",
       "      <th>cleaning_fee_num</th>\n",
       "      <th>extra_people_num</th>\n",
       "      <th>price_num</th>\n",
       "      <th>is_host_in_hood</th>\n",
       "    </tr>\n",
       "  </thead>\n",
       "  <tbody>\n",
       "    <tr>\n",
       "      <th>2647</th>\n",
       "      <td>NaN</td>\n",
       "      <td>0</td>\n",
       "      <td>1</td>\n",
       "      <td>1</td>\n",
       "      <td>Lower West Side</td>\n",
       "      <td>1</td>\n",
       "      <td>House</td>\n",
       "      <td>Private room</td>\n",
       "      <td>4</td>\n",
       "      <td>1.5</td>\n",
       "      <td>...</td>\n",
       "      <td>0</td>\n",
       "      <td>moderate</td>\n",
       "      <td>1.422490e+09</td>\n",
       "      <td>480</td>\n",
       "      <td>97.448567</td>\n",
       "      <td>0.0</td>\n",
       "      <td>0.0</td>\n",
       "      <td>2000.0</td>\n",
       "      <td>0.0</td>\n",
       "      <td>0</td>\n",
       "    </tr>\n",
       "    <tr>\n",
       "      <th>8120</th>\n",
       "      <td>within an hour</td>\n",
       "      <td>0</td>\n",
       "      <td>3</td>\n",
       "      <td>0</td>\n",
       "      <td>Lincoln Park</td>\n",
       "      <td>1</td>\n",
       "      <td>Apartment</td>\n",
       "      <td>Private room</td>\n",
       "      <td>2</td>\n",
       "      <td>2.0</td>\n",
       "      <td>...</td>\n",
       "      <td>1</td>\n",
       "      <td>flexible</td>\n",
       "      <td>1.559520e+09</td>\n",
       "      <td>0</td>\n",
       "      <td>98.000000</td>\n",
       "      <td>0.0</td>\n",
       "      <td>2400.0</td>\n",
       "      <td>0.0</td>\n",
       "      <td>0.0</td>\n",
       "      <td>1</td>\n",
       "    </tr>\n",
       "    <tr>\n",
       "      <th>8122</th>\n",
       "      <td>within an hour</td>\n",
       "      <td>0</td>\n",
       "      <td>3</td>\n",
       "      <td>0</td>\n",
       "      <td>Lincoln Park</td>\n",
       "      <td>1</td>\n",
       "      <td>Apartment</td>\n",
       "      <td>Private room</td>\n",
       "      <td>2</td>\n",
       "      <td>2.0</td>\n",
       "      <td>...</td>\n",
       "      <td>1</td>\n",
       "      <td>flexible</td>\n",
       "      <td>1.559520e+09</td>\n",
       "      <td>0</td>\n",
       "      <td>98.000000</td>\n",
       "      <td>0.0</td>\n",
       "      <td>2400.0</td>\n",
       "      <td>0.0</td>\n",
       "      <td>0.0</td>\n",
       "      <td>1</td>\n",
       "    </tr>\n",
       "  </tbody>\n",
       "</table>\n",
       "<p>3 rows × 33 columns</p>\n",
       "</div>"
      ],
      "text/plain": [
       "     host_response_time  host_is_superhost  host_listings_count  \\\n",
       "2647                NaN                  0                    1   \n",
       "8120     within an hour                  0                    3   \n",
       "8122     within an hour                  0                    3   \n",
       "\n",
       "      host_identity_verified neighbourhood_cleansed  is_location_exact  \\\n",
       "2647                       1        Lower West Side                  1   \n",
       "8120                       0           Lincoln Park                  1   \n",
       "8122                       0           Lincoln Park                  1   \n",
       "\n",
       "     property_type     room_type  accommodates  bathrooms  ...  \\\n",
       "2647         House  Private room             4        1.5  ...   \n",
       "8120     Apartment  Private room             2        2.0  ...   \n",
       "8122     Apartment  Private room             2        2.0  ...   \n",
       "\n",
       "      instant_bookable  cancellation_policy host_since_days  \\\n",
       "2647                 0             moderate    1.422490e+09   \n",
       "8120                 1             flexible    1.559520e+09   \n",
       "8122                 1             flexible    1.559520e+09   \n",
       "\n",
       "      days_since_cal_updated  host_response_rate_num  security_deposit_num  \\\n",
       "2647                     480               97.448567                   0.0   \n",
       "8120                       0               98.000000                   0.0   \n",
       "8122                       0               98.000000                   0.0   \n",
       "\n",
       "      cleaning_fee_num  extra_people_num  price_num  is_host_in_hood  \n",
       "2647               0.0            2000.0        0.0                0  \n",
       "8120            2400.0               0.0        0.0                1  \n",
       "8122            2400.0               0.0        0.0                1  \n",
       "\n",
       "[3 rows x 33 columns]"
      ]
     },
     "execution_count": 622,
     "metadata": {},
     "output_type": "execute_result"
    }
   ],
   "source": [
    "df[df['price_num'] == 0]"
   ]
  },
  {
   "cell_type": "code",
   "execution_count": 623,
   "metadata": {},
   "outputs": [],
   "source": [
    "df.drop(df[df['price_num'] == 0].index, inplace=True)"
   ]
  },
  {
   "cell_type": "code",
   "execution_count": 624,
   "metadata": {},
   "outputs": [
    {
     "data": {
      "text/plain": [
       "count       8487.000000\n",
       "mean       18058.654413\n",
       "std        47511.470639\n",
       "min         1000.000000\n",
       "25%         6600.000000\n",
       "50%        10100.000000\n",
       "75%        17650.000000\n",
       "max      1000000.000000\n",
       "Name: price_num, dtype: float64"
      ]
     },
     "execution_count": 624,
     "metadata": {},
     "output_type": "execute_result"
    }
   ],
   "source": [
    "df['price_num'].describe()"
   ]
  },
  {
   "cell_type": "markdown",
   "metadata": {},
   "source": [
    "# Exploratory Data Analysis"
   ]
  },
  {
   "cell_type": "code",
   "execution_count": 625,
   "metadata": {},
   "outputs": [
    {
     "data": {
      "text/html": [
       "<div>\n",
       "<style scoped>\n",
       "    .dataframe tbody tr th:only-of-type {\n",
       "        vertical-align: middle;\n",
       "    }\n",
       "\n",
       "    .dataframe tbody tr th {\n",
       "        vertical-align: top;\n",
       "    }\n",
       "\n",
       "    .dataframe thead th {\n",
       "        text-align: right;\n",
       "    }\n",
       "</style>\n",
       "<table border=\"1\" class=\"dataframe\">\n",
       "  <thead>\n",
       "    <tr style=\"text-align: right;\">\n",
       "      <th></th>\n",
       "      <th>host_is_superhost</th>\n",
       "      <th>host_listings_count</th>\n",
       "      <th>host_identity_verified</th>\n",
       "      <th>is_location_exact</th>\n",
       "      <th>accommodates</th>\n",
       "      <th>bathrooms</th>\n",
       "      <th>bedrooms</th>\n",
       "      <th>beds</th>\n",
       "      <th>guests_included</th>\n",
       "      <th>number_of_reviews</th>\n",
       "      <th>...</th>\n",
       "      <th>review_scores_value</th>\n",
       "      <th>instant_bookable</th>\n",
       "      <th>host_since_days</th>\n",
       "      <th>days_since_cal_updated</th>\n",
       "      <th>host_response_rate_num</th>\n",
       "      <th>security_deposit_num</th>\n",
       "      <th>cleaning_fee_num</th>\n",
       "      <th>extra_people_num</th>\n",
       "      <th>price_num</th>\n",
       "      <th>is_host_in_hood</th>\n",
       "    </tr>\n",
       "  </thead>\n",
       "  <tbody>\n",
       "    <tr>\n",
       "      <th>0</th>\n",
       "      <td>1</td>\n",
       "      <td>1</td>\n",
       "      <td>1</td>\n",
       "      <td>1</td>\n",
       "      <td>1</td>\n",
       "      <td>1.0</td>\n",
       "      <td>1.0</td>\n",
       "      <td>1.0</td>\n",
       "      <td>1</td>\n",
       "      <td>176</td>\n",
       "      <td>...</td>\n",
       "      <td>10.0</td>\n",
       "      <td>0</td>\n",
       "      <td>1.219968e+09</td>\n",
       "      <td>14</td>\n",
       "      <td>100.0</td>\n",
       "      <td>0.000000</td>\n",
       "      <td>0.0</td>\n",
       "      <td>0.0</td>\n",
       "      <td>5000.0</td>\n",
       "      <td>1</td>\n",
       "    </tr>\n",
       "    <tr>\n",
       "      <th>1</th>\n",
       "      <td>1</td>\n",
       "      <td>1</td>\n",
       "      <td>1</td>\n",
       "      <td>1</td>\n",
       "      <td>7</td>\n",
       "      <td>1.0</td>\n",
       "      <td>3.0</td>\n",
       "      <td>4.0</td>\n",
       "      <td>2</td>\n",
       "      <td>390</td>\n",
       "      <td>...</td>\n",
       "      <td>9.0</td>\n",
       "      <td>1</td>\n",
       "      <td>1.230509e+09</td>\n",
       "      <td>7</td>\n",
       "      <td>100.0</td>\n",
       "      <td>0.000000</td>\n",
       "      <td>2500.0</td>\n",
       "      <td>2500.0</td>\n",
       "      <td>11700.0</td>\n",
       "      <td>0</td>\n",
       "    </tr>\n",
       "    <tr>\n",
       "      <th>2</th>\n",
       "      <td>1</td>\n",
       "      <td>2</td>\n",
       "      <td>0</td>\n",
       "      <td>1</td>\n",
       "      <td>2</td>\n",
       "      <td>1.0</td>\n",
       "      <td>1.0</td>\n",
       "      <td>1.0</td>\n",
       "      <td>1</td>\n",
       "      <td>370</td>\n",
       "      <td>...</td>\n",
       "      <td>10.0</td>\n",
       "      <td>0</td>\n",
       "      <td>1.242691e+09</td>\n",
       "      <td>14</td>\n",
       "      <td>100.0</td>\n",
       "      <td>0.000000</td>\n",
       "      <td>0.0</td>\n",
       "      <td>0.0</td>\n",
       "      <td>8000.0</td>\n",
       "      <td>0</td>\n",
       "    </tr>\n",
       "    <tr>\n",
       "      <th>3</th>\n",
       "      <td>0</td>\n",
       "      <td>10</td>\n",
       "      <td>1</td>\n",
       "      <td>1</td>\n",
       "      <td>4</td>\n",
       "      <td>1.0</td>\n",
       "      <td>1.0</td>\n",
       "      <td>0.0</td>\n",
       "      <td>2</td>\n",
       "      <td>49</td>\n",
       "      <td>...</td>\n",
       "      <td>9.0</td>\n",
       "      <td>1</td>\n",
       "      <td>1.250813e+09</td>\n",
       "      <td>28</td>\n",
       "      <td>94.0</td>\n",
       "      <td>21699.705289</td>\n",
       "      <td>9500.0</td>\n",
       "      <td>2500.0</td>\n",
       "      <td>15000.0</td>\n",
       "      <td>0</td>\n",
       "    </tr>\n",
       "    <tr>\n",
       "      <th>4</th>\n",
       "      <td>0</td>\n",
       "      <td>5</td>\n",
       "      <td>1</td>\n",
       "      <td>1</td>\n",
       "      <td>2</td>\n",
       "      <td>1.0</td>\n",
       "      <td>1.0</td>\n",
       "      <td>1.0</td>\n",
       "      <td>1</td>\n",
       "      <td>43</td>\n",
       "      <td>...</td>\n",
       "      <td>9.0</td>\n",
       "      <td>1</td>\n",
       "      <td>1.218845e+09</td>\n",
       "      <td>90</td>\n",
       "      <td>75.0</td>\n",
       "      <td>20000.000000</td>\n",
       "      <td>5000.0</td>\n",
       "      <td>1000.0</td>\n",
       "      <td>3500.0</td>\n",
       "      <td>1</td>\n",
       "    </tr>\n",
       "  </tbody>\n",
       "</table>\n",
       "<p>5 rows × 27 columns</p>\n",
       "</div>"
      ],
      "text/plain": [
       "   host_is_superhost  host_listings_count  host_identity_verified  \\\n",
       "0                  1                    1                       1   \n",
       "1                  1                    1                       1   \n",
       "2                  1                    2                       0   \n",
       "3                  0                   10                       1   \n",
       "4                  0                    5                       1   \n",
       "\n",
       "   is_location_exact  accommodates  bathrooms  bedrooms  beds  \\\n",
       "0                  1             1        1.0       1.0   1.0   \n",
       "1                  1             7        1.0       3.0   4.0   \n",
       "2                  1             2        1.0       1.0   1.0   \n",
       "3                  1             4        1.0       1.0   0.0   \n",
       "4                  1             2        1.0       1.0   1.0   \n",
       "\n",
       "   guests_included  number_of_reviews  ...  review_scores_value  \\\n",
       "0                1                176  ...                 10.0   \n",
       "1                2                390  ...                  9.0   \n",
       "2                1                370  ...                 10.0   \n",
       "3                2                 49  ...                  9.0   \n",
       "4                1                 43  ...                  9.0   \n",
       "\n",
       "   instant_bookable  host_since_days  days_since_cal_updated  \\\n",
       "0                 0     1.219968e+09                      14   \n",
       "1                 1     1.230509e+09                       7   \n",
       "2                 0     1.242691e+09                      14   \n",
       "3                 1     1.250813e+09                      28   \n",
       "4                 1     1.218845e+09                      90   \n",
       "\n",
       "   host_response_rate_num  security_deposit_num  cleaning_fee_num  \\\n",
       "0                   100.0              0.000000               0.0   \n",
       "1                   100.0              0.000000            2500.0   \n",
       "2                   100.0              0.000000               0.0   \n",
       "3                    94.0          21699.705289            9500.0   \n",
       "4                    75.0          20000.000000            5000.0   \n",
       "\n",
       "   extra_people_num  price_num  is_host_in_hood  \n",
       "0               0.0     5000.0                1  \n",
       "1            2500.0    11700.0                0  \n",
       "2               0.0     8000.0                0  \n",
       "3            2500.0    15000.0                0  \n",
       "4            1000.0     3500.0                1  \n",
       "\n",
       "[5 rows x 27 columns]"
      ]
     },
     "execution_count": 625,
     "metadata": {},
     "output_type": "execute_result"
    }
   ],
   "source": [
    "numbers_df = df.select_dtypes(include=['number'])\n",
    "numbers_df.head()"
   ]
  },
  {
   "cell_type": "code",
   "execution_count": 626,
   "metadata": {},
   "outputs": [
    {
     "data": {
      "text/plain": [
       "['host_is_superhost',\n",
       " 'host_listings_count',\n",
       " 'host_identity_verified',\n",
       " 'is_location_exact',\n",
       " 'accommodates',\n",
       " 'bathrooms',\n",
       " 'bedrooms',\n",
       " 'beds',\n",
       " 'guests_included',\n",
       " 'number_of_reviews',\n",
       " 'number_of_reviews_ltm',\n",
       " 'review_scores_rating',\n",
       " 'review_scores_accuracy',\n",
       " 'review_scores_cleanliness',\n",
       " 'review_scores_checkin',\n",
       " 'review_scores_communication',\n",
       " 'review_scores_location',\n",
       " 'review_scores_value',\n",
       " 'instant_bookable',\n",
       " 'host_since_days',\n",
       " 'days_since_cal_updated',\n",
       " 'host_response_rate_num',\n",
       " 'security_deposit_num',\n",
       " 'cleaning_fee_num',\n",
       " 'extra_people_num',\n",
       " 'is_host_in_hood']"
      ]
     },
     "execution_count": 626,
     "metadata": {},
     "output_type": "execute_result"
    }
   ],
   "source": [
    "num_col_list = numbers_df.columns.tolist()\n",
    "num_col_list.remove('price_num')\n",
    "num_col_list"
   ]
  },
  {
   "cell_type": "code",
   "execution_count": 627,
   "metadata": {},
   "outputs": [
    {
     "data": {
      "text/plain": [
       "26"
      ]
     },
     "execution_count": 627,
     "metadata": {},
     "output_type": "execute_result"
    }
   ],
   "source": [
    "plot_num = len(num_col_list)\n",
    "plot_num"
   ]
  },
  {
   "cell_type": "code",
   "execution_count": 628,
   "metadata": {},
   "outputs": [
    {
     "name": "stdout",
     "output_type": "stream",
     "text": [
      "Create a 5 x 6 grid\n"
     ]
    }
   ],
   "source": [
    "grid_col_ct = 5\n",
    "grid_row_ct = math.ceil(plot_num / grid_col_ct)\n",
    "print('Create a {} x {} grid'.format(grid_col_ct, grid_row_ct))"
   ]
  },
  {
   "cell_type": "code",
   "execution_count": 629,
   "metadata": {},
   "outputs": [],
   "source": [
    "subplot_width = 12\n",
    "subplot_height = 12"
   ]
  },
  {
   "cell_type": "code",
   "execution_count": 630,
   "metadata": {},
   "outputs": [
    {
     "name": "stdout",
     "output_type": "stream",
     "text": [
      "Figure dimensions: 60 x 72\n"
     ]
    }
   ],
   "source": [
    "figwidth = subplot_width * grid_col_ct\n",
    "figheight = subplot_height * grid_row_ct\n",
    "print('Figure dimensions: {} x {}'.format(figwidth, figheight))"
   ]
  },
  {
   "cell_type": "code",
   "execution_count": 631,
   "metadata": {},
   "outputs": [
    {
     "data": {
      "image/png": "[encoded data removed]",
      "text/plain": [
       "<Figure size 864x864 with 26 Axes>"
      ]
     },
     "metadata": {
      "needs_background": "light"
     },
     "output_type": "display_data"
    }
   ],
   "source": [
    "fig = plt.figure()\n",
    "fig.set_figwidth(figwidth)\n",
    "fig.set_figheight(figheight)\n",
    "\n",
    "ax_list = []\n",
    "\n",
    "for i, col in enumerate(num_col_list):\n",
    "    ax_list.append(fig.add_subplot(grid_row_ct, grid_col_ct, i+1))\n",
    "    m, b = np.polyfit(numbers_df[col], numbers_df['price_num'], 1)\n",
    "    numbers_df.plot(kind = 'scatter',\n",
    "                    x = col,\n",
    "                    y = 'price_num',\n",
    "                    figsize = (subplot_width, subplot_height),\n",
    "                    ax = ax_list[i]\n",
    "                   )\n",
    "    ax_list[i].plot(numbers_df[col], m * numbers_df[col] + b, c='red')\n",
    "    \n",
    "plt.tight_layout()\n",
    "plt.show()"
   ]
  },
  {
   "cell_type": "markdown",
   "metadata": {},
   "source": [
    "# Outliers"
   ]
  },
  {
   "cell_type": "code",
   "execution_count": 632,
   "metadata": {},
   "outputs": [
    {
     "data": {
      "text/plain": [
       "<AxesSubplot:>"
      ]
     },
     "execution_count": 632,
     "metadata": {},
     "output_type": "execute_result"
    },
    {
     "data": {
      "image/png": "[encoded data removed]",
      "text/plain": [
       "<Figure size 432x288 with 1 Axes>"
      ]
     },
     "metadata": {
      "needs_background": "light"
     },
     "output_type": "display_data"
    }
   ],
   "source": [
    "df.boxplot(column = 'host_listings_count')"
   ]
  },
  {
   "cell_type": "markdown",
   "metadata": {},
   "source": [
    "The number of listings a host has is not very useful for potential investors. Even if we could prove that have over 10 listings yields the best prices, the average beginning investor is not able (or willing) to make that level of committment."
   ]
  },
  {
   "cell_type": "code",
   "execution_count": 633,
   "metadata": {},
   "outputs": [],
   "source": [
    "df.drop(['host_listings_count'], axis=1, inplace=True)"
   ]
  },
  {
   "cell_type": "code",
   "execution_count": 634,
   "metadata": {},
   "outputs": [],
   "source": [
    "#df.boxplot('accommodates')"
   ]
  },
  {
   "cell_type": "code",
   "execution_count": 635,
   "metadata": {},
   "outputs": [],
   "source": [
    "#df['accommodates'].describe()"
   ]
  },
  {
   "cell_type": "code",
   "execution_count": 636,
   "metadata": {},
   "outputs": [],
   "source": [
    "def tukey_rule(data_frame, column_name):\n",
    "    Q1 = data_frame[column_name].quantile(0.25)\n",
    "    Q3 = data_frame[column_name].quantile(0.75)\n",
    "    IQR = Q3 - Q1\n",
    "    \n",
    "    max_value = Q3 + 1.5 * IQR\n",
    "    min_value = Q1 - 1.5 * IQR\n",
    "    \n",
    "    return data_frame[(data_frame[column_name] >= min_value) &\n",
    "                      (data_frame[column_name] <= max_value)]"
   ]
  },
  {
   "cell_type": "code",
   "execution_count": 637,
   "metadata": {},
   "outputs": [],
   "source": [
    "#df = tukey_rule(df, 'accommodates')\n",
    "#df['accommodates'].describe()"
   ]
  },
  {
   "cell_type": "code",
   "execution_count": 638,
   "metadata": {
    "scrolled": true
   },
   "outputs": [],
   "source": [
    "#df.max(axis=0, numeric_only=True)"
   ]
  },
  {
   "cell_type": "code",
   "execution_count": 639,
   "metadata": {},
   "outputs": [],
   "source": [
    "#df['host_is_superhost'].max()"
   ]
  },
  {
   "cell_type": "code",
   "execution_count": 640,
   "metadata": {},
   "outputs": [
    {
     "data": {
      "text/plain": [
       "['accommodates',\n",
       " 'bathrooms',\n",
       " 'bedrooms',\n",
       " 'beds',\n",
       " 'guests_included',\n",
       " 'number_of_reviews',\n",
       " 'number_of_reviews_ltm',\n",
       " 'review_scores_rating',\n",
       " 'review_scores_accuracy',\n",
       " 'review_scores_cleanliness',\n",
       " 'review_scores_checkin',\n",
       " 'review_scores_communication',\n",
       " 'review_scores_location',\n",
       " 'review_scores_value',\n",
       " 'host_since_days',\n",
       " 'days_since_cal_updated',\n",
       " 'host_response_rate_num',\n",
       " 'security_deposit_num',\n",
       " 'cleaning_fee_num',\n",
       " 'extra_people_num']"
      ]
     },
     "execution_count": 640,
     "metadata": {},
     "output_type": "execute_result"
    }
   ],
   "source": [
    "num_col_list = df.select_dtypes(include=['number']).columns.tolist()\n",
    "num_col_list.remove('price_num')\n",
    "\n",
    "outlier_list = []\n",
    "\n",
    "for col in num_col_list:\n",
    "    col_max = df[col].max()\n",
    "    #print('The max of {} is {}'.format(col, col_max))\n",
    "    if col_max > 1:\n",
    "        outlier_list.append(col)\n",
    "        \n",
    "outlier_list"
   ]
  },
  {
   "cell_type": "code",
   "execution_count": 641,
   "metadata": {},
   "outputs": [
    {
     "data": {
      "text/html": [
       "<div>\n",
       "<style scoped>\n",
       "    .dataframe tbody tr th:only-of-type {\n",
       "        vertical-align: middle;\n",
       "    }\n",
       "\n",
       "    .dataframe tbody tr th {\n",
       "        vertical-align: top;\n",
       "    }\n",
       "\n",
       "    .dataframe thead th {\n",
       "        text-align: right;\n",
       "    }\n",
       "</style>\n",
       "<table border=\"1\" class=\"dataframe\">\n",
       "  <thead>\n",
       "    <tr style=\"text-align: right;\">\n",
       "      <th></th>\n",
       "      <th>accommodates</th>\n",
       "      <th>bathrooms</th>\n",
       "      <th>bedrooms</th>\n",
       "      <th>beds</th>\n",
       "      <th>guests_included</th>\n",
       "      <th>number_of_reviews</th>\n",
       "      <th>number_of_reviews_ltm</th>\n",
       "      <th>review_scores_rating</th>\n",
       "      <th>review_scores_accuracy</th>\n",
       "      <th>review_scores_cleanliness</th>\n",
       "      <th>review_scores_checkin</th>\n",
       "      <th>review_scores_communication</th>\n",
       "      <th>review_scores_location</th>\n",
       "      <th>review_scores_value</th>\n",
       "      <th>host_since_days</th>\n",
       "      <th>days_since_cal_updated</th>\n",
       "      <th>host_response_rate_num</th>\n",
       "      <th>security_deposit_num</th>\n",
       "      <th>cleaning_fee_num</th>\n",
       "      <th>extra_people_num</th>\n",
       "    </tr>\n",
       "  </thead>\n",
       "  <tbody>\n",
       "    <tr>\n",
       "      <th>count</th>\n",
       "      <td>8487.000000</td>\n",
       "      <td>8487.000000</td>\n",
       "      <td>8487.000000</td>\n",
       "      <td>8487.000000</td>\n",
       "      <td>8487.000000</td>\n",
       "      <td>8487.000000</td>\n",
       "      <td>8487.000000</td>\n",
       "      <td>8487.000000</td>\n",
       "      <td>8487.000000</td>\n",
       "      <td>8487.000000</td>\n",
       "      <td>8487.000000</td>\n",
       "      <td>8487.000000</td>\n",
       "      <td>8487.000000</td>\n",
       "      <td>8487.000000</td>\n",
       "      <td>8.487000e+03</td>\n",
       "      <td>8487.000000</td>\n",
       "      <td>8487.000000</td>\n",
       "      <td>8487.000000</td>\n",
       "      <td>8487.00000</td>\n",
       "      <td>8487.000000</td>\n",
       "    </tr>\n",
       "    <tr>\n",
       "      <th>mean</th>\n",
       "      <td>4.334983</td>\n",
       "      <td>1.376886</td>\n",
       "      <td>1.644818</td>\n",
       "      <td>2.248643</td>\n",
       "      <td>2.251326</td>\n",
       "      <td>41.202545</td>\n",
       "      <td>17.863320</td>\n",
       "      <td>81.334394</td>\n",
       "      <td>8.316602</td>\n",
       "      <td>8.181807</td>\n",
       "      <td>8.389183</td>\n",
       "      <td>8.390480</td>\n",
       "      <td>8.279840</td>\n",
       "      <td>8.124897</td>\n",
       "      <td>1.451568e+09</td>\n",
       "      <td>56.942382</td>\n",
       "      <td>97.439906</td>\n",
       "      <td>21679.025493</td>\n",
       "      <td>6854.36733</td>\n",
       "      <td>1507.069636</td>\n",
       "    </tr>\n",
       "    <tr>\n",
       "      <th>std</th>\n",
       "      <td>2.972627</td>\n",
       "      <td>0.780663</td>\n",
       "      <td>1.200933</td>\n",
       "      <td>1.969560</td>\n",
       "      <td>2.016048</td>\n",
       "      <td>60.555803</td>\n",
       "      <td>22.091873</td>\n",
       "      <td>34.127565</td>\n",
       "      <td>3.487500</td>\n",
       "      <td>3.447435</td>\n",
       "      <td>3.503568</td>\n",
       "      <td>3.504752</td>\n",
       "      <td>3.472806</td>\n",
       "      <td>3.423650</td>\n",
       "      <td>7.091056e+07</td>\n",
       "      <td>133.080573</td>\n",
       "      <td>8.274266</td>\n",
       "      <td>35904.349792</td>\n",
       "      <td>5713.15744</td>\n",
       "      <td>2661.082373</td>\n",
       "    </tr>\n",
       "    <tr>\n",
       "      <th>min</th>\n",
       "      <td>1.000000</td>\n",
       "      <td>0.000000</td>\n",
       "      <td>0.000000</td>\n",
       "      <td>0.000000</td>\n",
       "      <td>1.000000</td>\n",
       "      <td>0.000000</td>\n",
       "      <td>0.000000</td>\n",
       "      <td>0.000000</td>\n",
       "      <td>0.000000</td>\n",
       "      <td>0.000000</td>\n",
       "      <td>0.000000</td>\n",
       "      <td>0.000000</td>\n",
       "      <td>0.000000</td>\n",
       "      <td>0.000000</td>\n",
       "      <td>1.218845e+09</td>\n",
       "      <td>0.000000</td>\n",
       "      <td>0.000000</td>\n",
       "      <td>0.000000</td>\n",
       "      <td>0.00000</td>\n",
       "      <td>0.000000</td>\n",
       "    </tr>\n",
       "    <tr>\n",
       "      <th>25%</th>\n",
       "      <td>2.000000</td>\n",
       "      <td>1.000000</td>\n",
       "      <td>1.000000</td>\n",
       "      <td>1.000000</td>\n",
       "      <td>1.000000</td>\n",
       "      <td>3.000000</td>\n",
       "      <td>1.000000</td>\n",
       "      <td>90.000000</td>\n",
       "      <td>9.000000</td>\n",
       "      <td>9.000000</td>\n",
       "      <td>9.000000</td>\n",
       "      <td>9.000000</td>\n",
       "      <td>9.000000</td>\n",
       "      <td>9.000000</td>\n",
       "      <td>1.401062e+09</td>\n",
       "      <td>1.000000</td>\n",
       "      <td>98.000000</td>\n",
       "      <td>0.000000</td>\n",
       "      <td>3000.00000</td>\n",
       "      <td>0.000000</td>\n",
       "    </tr>\n",
       "    <tr>\n",
       "      <th>50%</th>\n",
       "      <td>4.000000</td>\n",
       "      <td>1.000000</td>\n",
       "      <td>1.000000</td>\n",
       "      <td>2.000000</td>\n",
       "      <td>1.000000</td>\n",
       "      <td>17.000000</td>\n",
       "      <td>9.000000</td>\n",
       "      <td>96.000000</td>\n",
       "      <td>10.000000</td>\n",
       "      <td>10.000000</td>\n",
       "      <td>10.000000</td>\n",
       "      <td>10.000000</td>\n",
       "      <td>10.000000</td>\n",
       "      <td>10.000000</td>\n",
       "      <td>1.453594e+09</td>\n",
       "      <td>14.000000</td>\n",
       "      <td>100.000000</td>\n",
       "      <td>20000.000000</td>\n",
       "      <td>6500.00000</td>\n",
       "      <td>1000.000000</td>\n",
       "    </tr>\n",
       "    <tr>\n",
       "      <th>75%</th>\n",
       "      <td>6.000000</td>\n",
       "      <td>2.000000</td>\n",
       "      <td>2.000000</td>\n",
       "      <td>3.000000</td>\n",
       "      <td>3.000000</td>\n",
       "      <td>55.000000</td>\n",
       "      <td>27.000000</td>\n",
       "      <td>99.000000</td>\n",
       "      <td>10.000000</td>\n",
       "      <td>10.000000</td>\n",
       "      <td>10.000000</td>\n",
       "      <td>10.000000</td>\n",
       "      <td>10.000000</td>\n",
       "      <td>10.000000</td>\n",
       "      <td>1.509667e+09</td>\n",
       "      <td>49.000000</td>\n",
       "      <td>100.000000</td>\n",
       "      <td>25000.000000</td>\n",
       "      <td>9500.00000</td>\n",
       "      <td>2500.000000</td>\n",
       "    </tr>\n",
       "    <tr>\n",
       "      <th>max</th>\n",
       "      <td>32.000000</td>\n",
       "      <td>21.000000</td>\n",
       "      <td>24.000000</td>\n",
       "      <td>50.000000</td>\n",
       "      <td>16.000000</td>\n",
       "      <td>603.000000</td>\n",
       "      <td>279.000000</td>\n",
       "      <td>100.000000</td>\n",
       "      <td>10.000000</td>\n",
       "      <td>10.000000</td>\n",
       "      <td>10.000000</td>\n",
       "      <td>10.000000</td>\n",
       "      <td>10.000000</td>\n",
       "      <td>10.000000</td>\n",
       "      <td>1.574122e+09</td>\n",
       "      <td>1590.000000</td>\n",
       "      <td>100.000000</td>\n",
       "      <td>500000.000000</td>\n",
       "      <td>150000.00000</td>\n",
       "      <td>30000.000000</td>\n",
       "    </tr>\n",
       "  </tbody>\n",
       "</table>\n",
       "</div>"
      ],
      "text/plain": [
       "       accommodates    bathrooms     bedrooms         beds  guests_included  \\\n",
       "count   8487.000000  8487.000000  8487.000000  8487.000000      8487.000000   \n",
       "mean       4.334983     1.376886     1.644818     2.248643         2.251326   \n",
       "std        2.972627     0.780663     1.200933     1.969560         2.016048   \n",
       "min        1.000000     0.000000     0.000000     0.000000         1.000000   \n",
       "25%        2.000000     1.000000     1.000000     1.000000         1.000000   \n",
       "50%        4.000000     1.000000     1.000000     2.000000         1.000000   \n",
       "75%        6.000000     2.000000     2.000000     3.000000         3.000000   \n",
       "max       32.000000    21.000000    24.000000    50.000000        16.000000   \n",
       "\n",
       "       number_of_reviews  number_of_reviews_ltm  review_scores_rating  \\\n",
       "count        8487.000000            8487.000000           8487.000000   \n",
       "mean           41.202545              17.863320             81.334394   \n",
       "std            60.555803              22.091873             34.127565   \n",
       "min             0.000000               0.000000              0.000000   \n",
       "25%             3.000000               1.000000             90.000000   \n",
       "50%            17.000000               9.000000             96.000000   \n",
       "75%            55.000000              27.000000             99.000000   \n",
       "max           603.000000             279.000000            100.000000   \n",
       "\n",
       "       review_scores_accuracy  review_scores_cleanliness  \\\n",
       "count             8487.000000                8487.000000   \n",
       "mean                 8.316602                   8.181807   \n",
       "std                  3.487500                   3.447435   \n",
       "min                  0.000000                   0.000000   \n",
       "25%                  9.000000                   9.000000   \n",
       "50%                 10.000000                  10.000000   \n",
       "75%                 10.000000                  10.000000   \n",
       "max                 10.000000                  10.000000   \n",
       "\n",
       "       review_scores_checkin  review_scores_communication  \\\n",
       "count            8487.000000                  8487.000000   \n",
       "mean                8.389183                     8.390480   \n",
       "std                 3.503568                     3.504752   \n",
       "min                 0.000000                     0.000000   \n",
       "25%                 9.000000                     9.000000   \n",
       "50%                10.000000                    10.000000   \n",
       "75%                10.000000                    10.000000   \n",
       "max                10.000000                    10.000000   \n",
       "\n",
       "       review_scores_location  review_scores_value  host_since_days  \\\n",
       "count             8487.000000          8487.000000     8.487000e+03   \n",
       "mean                 8.279840             8.124897     1.451568e+09   \n",
       "std                  3.472806             3.423650     7.091056e+07   \n",
       "min                  0.000000             0.000000     1.218845e+09   \n",
       "25%                  9.000000             9.000000     1.401062e+09   \n",
       "50%                 10.000000            10.000000     1.453594e+09   \n",
       "75%                 10.000000            10.000000     1.509667e+09   \n",
       "max                 10.000000            10.000000     1.574122e+09   \n",
       "\n",
       "       days_since_cal_updated  host_response_rate_num  security_deposit_num  \\\n",
       "count             8487.000000             8487.000000           8487.000000   \n",
       "mean                56.942382               97.439906          21679.025493   \n",
       "std                133.080573                8.274266          35904.349792   \n",
       "min                  0.000000                0.000000              0.000000   \n",
       "25%                  1.000000               98.000000              0.000000   \n",
       "50%                 14.000000              100.000000          20000.000000   \n",
       "75%                 49.000000              100.000000          25000.000000   \n",
       "max               1590.000000              100.000000         500000.000000   \n",
       "\n",
       "       cleaning_fee_num  extra_people_num  \n",
       "count        8487.00000       8487.000000  \n",
       "mean         6854.36733       1507.069636  \n",
       "std          5713.15744       2661.082373  \n",
       "min             0.00000          0.000000  \n",
       "25%          3000.00000          0.000000  \n",
       "50%          6500.00000       1000.000000  \n",
       "75%          9500.00000       2500.000000  \n",
       "max        150000.00000      30000.000000  "
      ]
     },
     "execution_count": 641,
     "metadata": {},
     "output_type": "execute_result"
    }
   ],
   "source": [
    "df[outlier_list].describe()"
   ]
  },
  {
   "cell_type": "code",
   "execution_count": 642,
   "metadata": {},
   "outputs": [],
   "source": [
    "#for col in outlier_list:\n",
    "#    df = tukey_rule(df, col)\n",
    "#    print('The shape is now {}'.format(df.shape))"
   ]
  },
  {
   "cell_type": "code",
   "execution_count": 643,
   "metadata": {},
   "outputs": [],
   "source": [
    "#df[outlier_list].describe()"
   ]
  },
  {
   "cell_type": "markdown",
   "metadata": {},
   "source": [
    "The tukey method for removing outliers is too aggressive here. Using it reduced the number of rows from 8,000 to 1,000. We need to look at the columns individually."
   ]
  },
  {
   "cell_type": "markdown",
   "metadata": {},
   "source": [
    "# Stopped here"
   ]
  },
  {
   "cell_type": "code",
   "execution_count": null,
   "metadata": {
    "scrolled": false
   },
   "outputs": [],
   "source": []
  },
  {
   "cell_type": "markdown",
   "metadata": {},
   "source": [
    "## Which are the most/least expensive neighborhoods?"
   ]
  },
  {
   "cell_type": "code",
   "execution_count": null,
   "metadata": {
    "scrolled": false
   },
   "outputs": [],
   "source": [
    "# Find most expensive neighborhoods\n",
    "df_hoods_hi = df.groupby(['neighbourhood_cleansed'])['price'].mean().sort_values(ascending=False).head(10)\n",
    "df_hoods_hi.plot(kind='bar', x='neighbourhood_cleansed', y='price', figsize=(10,6))\n",
    "plt.show()"
   ]
  },
  {
   "cell_type": "code",
   "execution_count": null,
   "metadata": {
    "scrolled": false
   },
   "outputs": [],
   "source": [
    "# Find least expensive neighborhoods\n",
    "df_hoods_low = df.groupby(['neighbourhood_cleansed'])['price'].mean().sort_values(ascending=True).head(10)\n",
    "df_hoods_low.plot(kind='bar', x='neighbourhood_cleansed', y='price', figsize=(10,6))\n",
    "plt.show()"
   ]
  },
  {
   "cell_type": "markdown",
   "metadata": {},
   "source": [
    "## Do small businesses have better ratings than hosts with one property?"
   ]
  },
  {
   "cell_type": "code",
   "execution_count": null,
   "metadata": {
    "scrolled": false
   },
   "outputs": [],
   "source": [
    "# Look for cutoff between private owners and small businesses\n",
    "df.groupby(['host_listings_count'])['review_scores_rating'].count()"
   ]
  },
  {
   "cell_type": "code",
   "execution_count": null,
   "metadata": {
    "scrolled": false
   },
   "outputs": [],
   "source": [
    "# Graph average rating of all host counts\n",
    "df_host_compare = df.groupby(['host_listings_count'])['review_scores_rating'].mean()\n",
    "df_host_compare.plot(kind='bar', x='Host Listings', y='Average Rating', figsize=(10,6))\n",
    "plt.show()"
   ]
  },
  {
   "cell_type": "markdown",
   "metadata": {},
   "source": [
    "## Can we predicting prices?"
   ]
  },
  {
   "cell_type": "code",
   "execution_count": null,
   "metadata": {
    "scrolled": false
   },
   "outputs": [],
   "source": [
    "from sklearn.linear_model import LinearRegression\n",
    "from sklearn import preprocessing\n",
    "from sklearn.model_selection import train_test_split\n",
    "from sklearn.metrics import r2_score"
   ]
  },
  {
   "cell_type": "markdown",
   "metadata": {},
   "source": [
    "### Check for NaN values"
   ]
  },
  {
   "cell_type": "code",
   "execution_count": null,
   "metadata": {
    "scrolled": true
   },
   "outputs": [],
   "source": [
    "# Find percent of columns' rows with NaN values\n",
    "print(\"Percent of rows with NaN values\")\n",
    "cols_with_nan = df.columns[df.isnull().sum() > 0]\n",
    "for col in cols_with_nan:\n",
    "    print(col,\": \",np.round(df[col].isnull().mean() * 100, decimals=2), \"%\")\n",
    "    \n",
    "df[cols_with_nan].head()"
   ]
  },
  {
   "cell_type": "markdown",
   "metadata": {},
   "source": [
    "How to deal with each:\n",
    "\n",
    "* host_response_time - dummy NaN\n",
    "* host_response_rate - fill with mean\n",
    "* zipcode - drop\n",
    "* bathrooms - fill with mean\n",
    "* bedrooms - fill with mean\n",
    "* beds - fill with mean\n",
    "* security_deposit - fill with mean\n",
    "* cleaning_fee - fill with mean\n",
    "* review_scores_rating - fill with mean\n",
    "* review_scores_accuracy - fill with mean\n",
    "* review_scores_cleanliness - fill with mean\n",
    "* review_scores_checkin - fill with mean\n",
    "* review_scores_communication - fill with mean\n",
    "* review_scores_location - fill with mean\n",
    "* review_scores_value - fill with mean\n",
    "* reviews_per_month - fill with mean"
   ]
  },
  {
   "cell_type": "code",
   "execution_count": null,
   "metadata": {
    "scrolled": false
   },
   "outputs": [],
   "source": [
    "# Drop rows with missing data\n",
    "df.dropna(subset=['zipcode'], axis=0, inplace=True)"
   ]
  },
  {
   "cell_type": "code",
   "execution_count": null,
   "metadata": {
    "scrolled": false
   },
   "outputs": [],
   "source": [
    "# Fill missing values with the mean\n",
    "df.fillna(value=df.mean(), inplace=True)"
   ]
  },
  {
   "cell_type": "markdown",
   "metadata": {},
   "source": [
    "### Create dummy columns"
   ]
  },
  {
   "cell_type": "code",
   "execution_count": null,
   "metadata": {
    "scrolled": false
   },
   "outputs": [],
   "source": [
    "# Create dummy columns for categorical variables in X\n",
    "cat_cols = df.select_dtypes(include=['object']).columns\n",
    "\n",
    "for col in cat_cols:\n",
    "    try:\n",
    "        df = pd.concat([df.drop(col, axis=1), pd.get_dummies(df[col], prefix=col, prefix_sep='_', drop_first=True, dummy_na=True)], axis=1)\n",
    "    except:\n",
    "        print(\"Cannot create dummies for \", col)\n",
    "        continue"
   ]
  },
  {
   "cell_type": "markdown",
   "metadata": {},
   "source": [
    "### Split data for modeling"
   ]
  },
  {
   "cell_type": "code",
   "execution_count": null,
   "metadata": {
    "scrolled": false
   },
   "outputs": [],
   "source": [
    "# Split your data into an X matrix and a response vector y\n",
    "X = df.drop('price', axis=1)\n",
    "y = df['price']"
   ]
  },
  {
   "cell_type": "code",
   "execution_count": null,
   "metadata": {
    "scrolled": false
   },
   "outputs": [],
   "source": [
    "# Create train/test split\n",
    "X_train, X_test, y_train, y_test = train_test_split(X, y, test_size=0.3, random_state=42)"
   ]
  },
  {
   "cell_type": "markdown",
   "metadata": {},
   "source": [
    "### Create linear regression model"
   ]
  },
  {
   "cell_type": "code",
   "execution_count": null,
   "metadata": {
    "scrolled": true
   },
   "outputs": [],
   "source": [
    "# Instantiate a Linear Regression model with normalized data\n",
    "lm_model = LinearRegression(normalize=True)\n",
    "# Fit the model to the training\n",
    "lm_model.fit(X_train, y_train)"
   ]
  },
  {
   "cell_type": "code",
   "execution_count": null,
   "metadata": {
    "scrolled": false
   },
   "outputs": [],
   "source": [
    "# Predict the response for the training and test data sets\n",
    "y_train_preds = lm_model.predict(X_train)\n",
    "y_test_preds = lm_model.predict(X_test)"
   ]
  },
  {
   "cell_type": "markdown",
   "metadata": {},
   "source": [
    "### Check the accuracy of the model"
   ]
  },
  {
   "cell_type": "code",
   "execution_count": null,
   "metadata": {
    "scrolled": false
   },
   "outputs": [],
   "source": [
    "# Obtain an R-squared value for both sets\n",
    "train_score = r2_score(y_train_preds, y_train)\n",
    "test_score = r2_score(y_test_preds, y_test)\n",
    "\n",
    "print(\"R-squared scores\")\n",
    "print(\"Training set: %.2f\" % train_score)\n",
    "print(\"Test set:     %.2f\" % test_score)"
   ]
  }
 ],
 "metadata": {
  "kernelspec": {
   "display_name": "Python 3",
   "language": "python",
   "name": "python3"
  },
  "language_info": {
   "codemirror_mode": {
    "name": "ipython",
    "version": 3
   },
   "file_extension": ".py",
   "mimetype": "text/x-python",
   "name": "python",
   "nbconvert_exporter": "python",
   "pygments_lexer": "ipython3",
   "version": "3.8.5"
  }
 },
 "nbformat": 4,
 "nbformat_minor": 2
}
